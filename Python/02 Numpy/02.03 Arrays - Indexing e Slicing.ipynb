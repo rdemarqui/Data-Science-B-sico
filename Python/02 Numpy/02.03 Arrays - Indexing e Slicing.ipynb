{
 "cells": [
  {
   "cell_type": "markdown",
   "metadata": {},
   "source": [
    "### Indexing e Slicing"
   ]
  },
  {
   "cell_type": "markdown",
   "metadata": {},
   "source": [
    "Podemos fatiar as arrays usando o slicing, referenciando pela indexação.\n",
    "\n",
    "Sintaxe:\n",
    "\n",
    "    array[linha_ini:linha_fim, coluna_ini:coluna_fim]\n",
    "\n",
    "\n",
    "**Nota**: Os valores indicados na linha_fim e coluna_fim são exclusive, ou seja, não são trazidos na saída do comando.\n",
    "\n",
    "**Nota2**:Devemos lembrar que a indexação começa em 0 no Python:\n",
    "\n",
    "        C      C      C\n",
    "    [0, 0] [0, 1] [0, 2]\n",
    "    [1, 0] [1, 1] [1, 2]\n",
    "    [2, 0] [2, 1] [2, 2]\n",
    "     L      L      L\n",
    "\n"
   ]
  },
  {
   "cell_type": "code",
   "execution_count": 1,
   "metadata": {},
   "outputs": [],
   "source": [
    "import numpy as np"
   ]
  },
  {
   "cell_type": "code",
   "execution_count": 2,
   "metadata": {},
   "outputs": [
    {
     "data": {
      "text/plain": [
       "array([10, 11, 12, 13, 14, 15, 16, 17, 18, 19, 20, 21, 22, 23, 24, 25, 26])"
      ]
     },
     "execution_count": 2,
     "metadata": {},
     "output_type": "execute_result"
    }
   ],
   "source": [
    "array1 = np.arange(10, 27); array1"
   ]
  },
  {
   "cell_type": "code",
   "execution_count": 3,
   "metadata": {},
   "outputs": [
    {
     "data": {
      "text/plain": [
       "array([[ 1,  2,  3,  4],\n",
       "       [ 4,  5,  6,  7],\n",
       "       [ 7,  8,  9, 10],\n",
       "       [10, 11, 12, 13]])"
      ]
     },
     "execution_count": 3,
     "metadata": {},
     "output_type": "execute_result"
    }
   ],
   "source": [
    "#Criando um array multimensional 4x4\n",
    "array44 = np.array([range(i, i + 4) for i in [1, 4, 7, 10]]); array44"
   ]
  },
  {
   "cell_type": "markdown",
   "metadata": {},
   "source": [
    "#### Indexing"
   ]
  },
  {
   "cell_type": "code",
   "execution_count": 4,
   "metadata": {},
   "outputs": [
    {
     "data": {
      "text/plain": [
       "13"
      ]
     },
     "execution_count": 4,
     "metadata": {},
     "output_type": "execute_result"
    }
   ],
   "source": [
    "#Buscando um único elemento de uma array unidimensional\n",
    "array1[3]"
   ]
  },
  {
   "cell_type": "code",
   "execution_count": 5,
   "metadata": {},
   "outputs": [
    {
     "data": {
      "text/plain": [
       "array([14, 16, 19])"
      ]
     },
     "execution_count": 5,
     "metadata": {},
     "output_type": "execute_result"
    }
   ],
   "source": [
    "# Podemos também buscar vários elementos em uma array, utilizando outra array de indexação:\n",
    "ind = [4, 6, 9]\n",
    "\n",
    "array1[ind]"
   ]
  },
  {
   "cell_type": "code",
   "execution_count": 6,
   "metadata": {},
   "outputs": [
    {
     "data": {
      "text/plain": [
       "array([ 7,  8,  9, 10])"
      ]
     },
     "execution_count": 6,
     "metadata": {},
     "output_type": "execute_result"
    }
   ],
   "source": [
    "#Buscando um único elemento de uma array multidimensional\n",
    "array44[2]"
   ]
  },
  {
   "cell_type": "code",
   "execution_count": 7,
   "metadata": {},
   "outputs": [
    {
     "data": {
      "text/plain": [
       "7"
      ]
     },
     "execution_count": 7,
     "metadata": {},
     "output_type": "execute_result"
    }
   ],
   "source": [
    "# Buscando um único elemento de uma array multidimensional. Nesse caso temos que referecniar linha e coluna \n",
    "# Queremos buscar o elemento 7, indexado na linha 2, coluna 0\n",
    "array44[2, 0]"
   ]
  },
  {
   "cell_type": "code",
   "execution_count": 8,
   "metadata": {},
   "outputs": [
    {
     "data": {
      "text/plain": [
       "12"
      ]
     },
     "execution_count": 8,
     "metadata": {},
     "output_type": "execute_result"
    }
   ],
   "source": [
    "# Também podemos indexar a partir do último elemento, usando índices negativos\n",
    "array44[-1, 2]"
   ]
  },
  {
   "cell_type": "markdown",
   "metadata": {},
   "source": [
    "#### Slicing\n",
    "\n",
    "Assim como podemos usar colchetes para acessar elementos individuais de uma array, também podemos usá-los para acessar subarranjos com a notação de fatia, marcada pelo caractere de dois pontos (:).\n",
    "\n",
    "A sintaxe de fatiamento do NumPy segue a da lista padrão do Python; para acessar uma fatia de um array x, use:\n",
    "\n",
    "    x[inicio:fim:passo]\n",
    "    \n",
    "Se algum desses itens não for especificado, eles serão padronizados para os valores inicio = 0, fim = tamanho da dimensão, passo = 1."
   ]
  },
  {
   "cell_type": "code",
   "execution_count": 9,
   "metadata": {},
   "outputs": [
    {
     "data": {
      "text/plain": [
       "array([15, 17, 19, 21, 23, 25])"
      ]
     },
     "execution_count": 9,
     "metadata": {},
     "output_type": "execute_result"
    }
   ],
   "source": [
    "# No exemplo abaixo, vamos selecionar do elemento de índice 5, até o elemento de índice 20, pulando de 2 em 2\n",
    "array1[5:17:2]    # Selecionado índice de 5 à 29, poulando de 2 em 2"
   ]
  },
  {
   "cell_type": "code",
   "execution_count": 10,
   "metadata": {},
   "outputs": [
    {
     "data": {
      "text/plain": [
       "array([26, 25, 24, 23, 22, 21, 20, 19, 18, 17, 16, 15, 14, 13, 12, 11, 10])"
      ]
     },
     "execution_count": 10,
     "metadata": {},
     "output_type": "execute_result"
    }
   ],
   "source": [
    "# Podemos trazer a array de maneira inversa\n",
    "array1[::-1]"
   ]
  },
  {
   "cell_type": "code",
   "execution_count": 11,
   "metadata": {},
   "outputs": [
    {
     "data": {
      "text/plain": [
       "array([[ 1],\n",
       "       [ 4],\n",
       "       [ 7],\n",
       "       [10]])"
      ]
     },
     "execution_count": 11,
     "metadata": {},
     "output_type": "execute_result"
    }
   ],
   "source": [
    "# Buscando somente a coluna 0\n",
    "array44[:, :1] # Como não especificamos as linhas, o NumPy atribuírá início=0, fim =4, ou seja, todas as linhas"
   ]
  },
  {
   "cell_type": "code",
   "execution_count": 12,
   "metadata": {},
   "outputs": [
    {
     "data": {
      "text/plain": [
       "array([[1, 2, 3, 4]])"
      ]
     },
     "execution_count": 12,
     "metadata": {},
     "output_type": "execute_result"
    }
   ],
   "source": [
    "# Trazendo a linha 1\n",
    "array44[:1]"
   ]
  },
  {
   "cell_type": "code",
   "execution_count": 13,
   "metadata": {},
   "outputs": [
    {
     "data": {
      "text/plain": [
       "array([[5, 6],\n",
       "       [8, 9]])"
      ]
     },
     "execution_count": 13,
     "metadata": {},
     "output_type": "execute_result"
    }
   ],
   "source": [
    "# Trazendo as linhas e colunas 2 e 3\n",
    "array44[1:3, 1:3]"
   ]
  },
  {
   "cell_type": "markdown",
   "metadata": {},
   "source": [
    "#### Atribuindo condições à um slicing"
   ]
  },
  {
   "cell_type": "code",
   "execution_count": 14,
   "metadata": {},
   "outputs": [
    {
     "name": "stdout",
     "output_type": "stream",
     "text": [
      "[10 11 12 13 14 15 16 17 18 19 20 21 22 23 24 25 26] Valores originais da array\n",
      "[24 25 26] Trazendo valores acima de 23 com o operador \">\"\n",
      "[11 13 15 17 19 21 23 25] Trazendo valores utilizando operadores e condições\n"
     ]
    }
   ],
   "source": [
    "#Podemos utilizizar condições para retornar os dados dentro de uma array.\n",
    "print(array1, 'Valores originais da array')\n",
    "\n",
    "print(array1[array1 > 23], 'Trazendo valores acima de 23 com o operador \">\"')\n",
    "print(array1[array1 %2 != 0], 'Trazendo valores utilizando operadores e condições')"
   ]
  },
  {
   "cell_type": "markdown",
   "metadata": {},
   "source": [
    "#### Modificando uma array\n",
    "\n",
    "Quando atribuímos uma array a uma nova subarray utilizando o sinal ``=``, as duas continuam ligadas. Com isso se modificarmos uma a outra também será modificada. Esse comportamento padrão é realmente útil: significa que quando trabalhamos com grandes conjuntos de dados, podemos acessar e processar partes desses conjuntos sem a necessidade de copiar o buffer de dados subjacente.\n",
    "\n",
    "Devemos utilizar a função ``copy()`` caso se queira manter os dados da array original, sendo modificada somente a cópia."
   ]
  },
  {
   "cell_type": "code",
   "execution_count": 15,
   "metadata": {},
   "outputs": [
    {
     "data": {
      "text/plain": [
       "array([[ 1,  2,  3,  4],\n",
       "       [ 4,  5, 15,  7],\n",
       "       [ 7,  8,  9, 10],\n",
       "       [10, 11, 12, 13]])"
      ]
     },
     "execution_count": 15,
     "metadata": {},
     "output_type": "execute_result"
    }
   ],
   "source": [
    "# Podemos utilizar o slicing para modificar o elemento de uma matriz\n",
    "array44_2 = array44.copy()\n",
    "array44_2[1, 2] = 15   # Substituiremos o elemento de índice 1, 2 (linha 2, coluna 3) por 15\n",
    "array44_2"
   ]
  },
  {
   "cell_type": "code",
   "execution_count": 16,
   "metadata": {},
   "outputs": [
    {
     "data": {
      "text/plain": [
       "array([[ 1,  2, 15, 15],\n",
       "       [ 4,  5, 15, 15],\n",
       "       [ 7,  8, 15, 15],\n",
       "       [10, 11, 15, 15]])"
      ]
     },
     "execution_count": 16,
     "metadata": {},
     "output_type": "execute_result"
    }
   ],
   "source": [
    "# Ou se preferirmos, podemos alterar um intervalo\n",
    "array44_2[:, 2:] = 15   # Todas as linhas das colunas de índice 2 em diante receberão o valor 15\n",
    "array44_2"
   ]
  }
 ],
 "metadata": {
  "kernelspec": {
   "display_name": "Python 3",
   "language": "python",
   "name": "python3"
  },
  "language_info": {
   "codemirror_mode": {
    "name": "ipython",
    "version": 3
   },
   "file_extension": ".py",
   "mimetype": "text/x-python",
   "name": "python",
   "nbconvert_exporter": "python",
   "pygments_lexer": "ipython3",
   "version": "3.6.5"
  }
 },
 "nbformat": 4,
 "nbformat_minor": 2
}
