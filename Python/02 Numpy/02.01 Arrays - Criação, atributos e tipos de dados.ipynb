{
 "cells": [
  {
   "cell_type": "markdown",
   "metadata": {},
   "source": [
    "## Arrays"
   ]
  },
  {
   "cell_type": "markdown",
   "metadata": {},
   "source": [
    "Ao contrário das listas em Python, o Numpy é restrito à matrizes com dados do mesmo, tipo. Caso os dados sejam de tipos diferentes, como por exemplo contendo números inteiros (integer) e decimais (float), o Numpy transformará os dados integer em float."
   ]
  },
  {
   "cell_type": "code",
   "execution_count": 1,
   "metadata": {},
   "outputs": [],
   "source": [
    "# Importando o Numpy\n",
    "import numpy as np"
   ]
  },
  {
   "cell_type": "code",
   "execution_count": 2,
   "metadata": {},
   "outputs": [
    {
     "name": "stdout",
     "output_type": "stream",
     "text": [
      "[10 11 12 13]\n",
      "[10.1 11.  12.3 13. ]\n"
     ]
    }
   ],
   "source": [
    "# Criando uma array unidimensional\n",
    "array1 = np.array([10, 11, 12, 13])       # Dados integer\n",
    "array2 = np.array([10.1, 11, 12.3, 13])   # Dados integer e float\n",
    "\n",
    "print(array1)\n",
    "print(array2)"
   ]
  },
  {
   "cell_type": "code",
   "execution_count": 3,
   "metadata": {},
   "outputs": [
    {
     "name": "stdout",
     "output_type": "stream",
     "text": [
      "lista -> [0, 2, 4, 6, 8, 10, 12, 14]\n",
      "array -> [ 0  2  4  6  8 10 12 14]\n"
     ]
    }
   ],
   "source": [
    "# Podemos também, converter uma lista do Python para uma array do Numpy\n",
    "lista = list(range(0, 15, 2))  # Lista do Python\n",
    "array = np.array(lista)        # Convertendo a lista em array\n",
    "\n",
    "print('lista ->', lista)\n",
    "print('array ->', array)"
   ]
  },
  {
   "cell_type": "code",
   "execution_count": 4,
   "metadata": {},
   "outputs": [
    {
     "data": {
      "text/plain": [
       "array([1., 2., 3.], dtype=float32)"
      ]
     },
     "execution_count": 4,
     "metadata": {},
     "output_type": "execute_result"
    }
   ],
   "source": [
    "# Caso queiramos definir o tipo dos dados do array, podemos utilizar o dtype:\n",
    "np.array([1, 2, 3], dtype='float32')"
   ]
  },
  {
   "cell_type": "code",
   "execution_count": 5,
   "metadata": {},
   "outputs": [
    {
     "data": {
      "text/plain": [
       "array([[2, 3, 4],\n",
       "       [4, 5, 6],\n",
       "       [6, 7, 8]])"
      ]
     },
     "execution_count": 5,
     "metadata": {},
     "output_type": "execute_result"
    }
   ],
   "source": [
    "# As arrays também podem possuir muitas dimensões, que são listas aninhadas\n",
    "np.array([range(i, i + 3) for i in [2, 4, 6]])"
   ]
  },
  {
   "cell_type": "markdown",
   "metadata": {},
   "source": [
    "### Criando arrays do zero"
   ]
  },
  {
   "cell_type": "code",
   "execution_count": 6,
   "metadata": {},
   "outputs": [
    {
     "name": "stdout",
     "output_type": "stream",
     "text": [
      "[[0 0 0 0]\n",
      " [0 0 0 0]\n",
      " [0 0 0 0]\n",
      " [0 0 0 0]\n",
      " [0 0 0 0]] <-zeros\n",
      "ones -> [1 1 1 1 1 1 1 1 1 1]\n"
     ]
    }
   ],
   "source": [
    "# Criando arrays com métodos\n",
    "array1 = np.zeros((5, 4), dtype=int)  # Utilizando o método zeros\n",
    "array2 = np.ones(10, dtype=int)   # Utilizando o método ones\n",
    "\n",
    "print(array1, '<-zeros')\n",
    "print('ones ->',array2)"
   ]
  },
  {
   "cell_type": "code",
   "execution_count": 7,
   "metadata": {},
   "outputs": [
    {
     "data": {
      "text/plain": [
       "array([[42, 42, 42, 42, 42],\n",
       "       [42, 42, 42, 42, 42],\n",
       "       [42, 42, 42, 42, 42],\n",
       "       [42, 42, 42, 42, 42]])"
      ]
     },
     "execution_count": 7,
     "metadata": {},
     "output_type": "execute_result"
    }
   ],
   "source": [
    "# Criando uma array 4x5, totalmente preenchida por 42\n",
    "np.full((4, 5), (42))"
   ]
  },
  {
   "cell_type": "code",
   "execution_count": 8,
   "metadata": {},
   "outputs": [
    {
     "data": {
      "text/plain": [
       "array([ 0,  2,  4,  6,  8, 10, 12, 14, 16, 18, 20, 22, 24, 26, 28, 30])"
      ]
     },
     "execution_count": 8,
     "metadata": {},
     "output_type": "execute_result"
    }
   ],
   "source": [
    "# Criando uma array de sequencia lienar com arrange\n",
    "# arange(start, stop, step,, dtype=None)\n",
    "np.arange(0, 31, 2)"
   ]
  },
  {
   "cell_type": "code",
   "execution_count": 9,
   "metadata": {},
   "outputs": [
    {
     "data": {
      "text/plain": [
       "array([0. , 0.2, 0.4, 0.6, 0.8, 1. ])"
      ]
     },
     "execution_count": 9,
     "metadata": {},
     "output_type": "execute_result"
    }
   ],
   "source": [
    "# Criando uma array com 6 valores equidistantes entre 0 e 1\n",
    "# linspace(start, end, number of elements)\n",
    "np.linspace(0, 1, 6)"
   ]
  },
  {
   "cell_type": "code",
   "execution_count": 10,
   "metadata": {},
   "outputs": [
    {
     "data": {
      "text/plain": [
       "array([[0.02619907, 0.60406607, 0.47993589, 0.23628887],\n",
       "       [0.48340236, 0.22301331, 0.61925133, 0.31162436],\n",
       "       [0.55335842, 0.02878616, 0.99486009, 0.28121389],\n",
       "       [0.04576142, 0.31794956, 0.21163929, 0.78929258]])"
      ]
     },
     "execution_count": 10,
     "metadata": {},
     "output_type": "execute_result"
    }
   ],
   "source": [
    "# Criando uma matrix 4x4 uniformemente distribuída com valores entre 0 e 1\n",
    "np.random.random((4, 4))"
   ]
  },
  {
   "cell_type": "code",
   "execution_count": 11,
   "metadata": {},
   "outputs": [
    {
     "data": {
      "text/plain": [
       "array([[ 0.25646008,  1.03041491,  1.28257922, -1.159994  ],\n",
       "       [ 0.44885632,  0.83385505,  0.00558393,  0.96112348],\n",
       "       [ 1.95868969, -2.27399979,  0.54588789,  0.81241756],\n",
       "       [-0.38175598,  0.17797978, -0.33040163,  0.059331  ]])"
      ]
     },
     "execution_count": 11,
     "metadata": {},
     "output_type": "execute_result"
    }
   ],
   "source": [
    "# Criando uma matriz 4x4 com distribuição Gaussiana de valores aleatórios entre 0 e 1\n",
    "# normal(loc=0.0, scale=1.0, size=None)\n",
    "np.random.normal(0, 1, (4, 4))"
   ]
  },
  {
   "cell_type": "code",
   "execution_count": 12,
   "metadata": {},
   "outputs": [
    {
     "data": {
      "text/plain": [
       "array([[[6, 7, 5, 8, 3],\n",
       "        [7, 2, 8, 7, 3],\n",
       "        [7, 3, 4, 4, 6],\n",
       "        [6, 3, 6, 1, 7]],\n",
       "\n",
       "       [[3, 3, 3, 6, 7],\n",
       "        [4, 9, 4, 3, 1],\n",
       "        [3, 9, 4, 9, 9],\n",
       "        [3, 3, 3, 9, 2]],\n",
       "\n",
       "       [[3, 2, 5, 1, 2],\n",
       "        [8, 3, 2, 6, 1],\n",
       "        [0, 0, 8, 3, 0],\n",
       "        [2, 5, 4, 4, 2]]])"
      ]
     },
     "execution_count": 12,
     "metadata": {},
     "output_type": "execute_result"
    }
   ],
   "source": [
    "# Criando uma matriz com valores aleatórios inteiros de 0 à 10 com 3 dimensões\n",
    "array44 = np.random.randint(10, size=(3, 4, 5)); array44"
   ]
  },
  {
   "cell_type": "code",
   "execution_count": 13,
   "metadata": {},
   "outputs": [
    {
     "data": {
      "text/plain": [
       "array([[1., 0., 0., 0.],\n",
       "       [0., 1., 0., 0.],\n",
       "       [0., 0., 1., 0.],\n",
       "       [0., 0., 0., 1.]])"
      ]
     },
     "execution_count": 13,
     "metadata": {},
     "output_type": "execute_result"
    }
   ],
   "source": [
    "# Criando uma matriz identidade 4x4\n",
    "np.eye(4, 4)"
   ]
  },
  {
   "cell_type": "markdown",
   "metadata": {},
   "source": [
    "### Atributos"
   ]
  },
  {
   "cell_type": "code",
   "execution_count": 14,
   "metadata": {},
   "outputs": [
    {
     "name": "stdout",
     "output_type": "stream",
     "text": [
      "3\n",
      "(3, 4, 5)\n",
      "60\n"
     ]
    }
   ],
   "source": [
    "# Podemos verificar a dimensão (ndim), o formato (shape) e o tamanho (size)\n",
    "print(array44.ndim)\n",
    "print(array44.shape)\n",
    "print(array44.size)"
   ]
  },
  {
   "cell_type": "code",
   "execution_count": 15,
   "metadata": {},
   "outputs": [
    {
     "name": "stdout",
     "output_type": "stream",
     "text": [
      "int32\n",
      "<U8\n",
      "<U1\n"
     ]
    }
   ],
   "source": [
    "# Podemos também verificar o tipo de dados\n",
    "arrayN = np.array([4, 8, 15, 16, 23, 42])\n",
    "arrayL1 = np.array(['Locke', 'Reyes', 'Ford', 'Jarrah', 'Shephard', 'Kwon'])\n",
    "arrayL2 = np.array(['L', 'O', 'S', 'T'])\n",
    "\n",
    "\n",
    "print(arrayN.dtype)\n",
    "print(arrayL1.dtype)\n",
    "print(arrayL2.dtype)"
   ]
  },
  {
   "cell_type": "code",
   "execution_count": 16,
   "metadata": {},
   "outputs": [
    {
     "name": "stdout",
     "output_type": "stream",
     "text": [
      "Tamanho de cada elemento:  32 bytes\n",
      "Tamanaho da array inteira: 192 bytes\n"
     ]
    }
   ],
   "source": [
    "# Também podemos verificar o tamanho dos dados de cada elemento de uma array (em bytes) através do itemsize\n",
    "# ou verificarmos o tamnaho do array inteiro (em bytes) através do nbytes:\n",
    "print('Tamanho de cada elemento: ', arrayL1.itemsize, 'bytes')\n",
    "print('Tamanaho da array inteira:', arrayL1.nbytes, 'bytes')"
   ]
  },
  {
   "cell_type": "code",
   "execution_count": 17,
   "metadata": {},
   "outputs": [
    {
     "data": {
      "text/plain": [
       "array([ 1.25, -9.6 , 42.  ])"
      ]
     },
     "execution_count": 17,
     "metadata": {},
     "output_type": "execute_result"
    }
   ],
   "source": [
    "# Caso tenhamos uma array com string representando números, podemos convertê-la usando astype:\n",
    "numeric_strings = np.array(['1.25', '-9.6', '42'], dtype=np.string_)\n",
    "numeric_strings.astype(float)"
   ]
  },
  {
   "cell_type": "markdown",
   "metadata": {},
   "source": [
    "### Tipos de dados no Numpy\n",
    "\n",
    "As arrays do NumPy contém valores de um único tipo, por isso é importante ter conhecimento de cada um deles e suas limitações.\n",
    "\n",
    "Devido ao NumPy ter sido contruído em C, os tipos abaixo serão familiaras a usuários que conhecerm C, Fortrar e outras linguagens relacionadas."
   ]
  },
  {
   "cell_type": "markdown",
   "metadata": {},
   "source": [
    "| Type  \t                           | Type code | Description |\n",
    "|--------------------------------------|-----------|-------------|\n",
    "| ``int8, uint8``                      | i1, u1    |Signed and unsigned 8-bit (1 byte) integer types |\n",
    "| ``int16, uint16`` | i2, u2    |Signed and unsigned 16-bit integer types | \n",
    "| ``int32, uint32`` | i4, u4    |Signed and unsigned 32-bit integer types | \n",
    "| ``int64, uint64`` | i8, u8    |Signed and unsigned 64-bit integer types | \n",
    "| ``float16``       | f2        |Half-precision floating point | \n",
    "| ``float32``       | f4 or f   |Standard double-precision floating point; compatible with C double and Python float object |\n",
    "| ``float64``       | f8 or d   |Extended-precision floating point |\n",
    "| ``float128``      | f16 or g  |Complex numbers represented by two 32, 64, or 128 floats, respectively | \n",
    "| ``complex64, complex128, complex256``| c8, c16, c32| Unsigned integer (0 to 255)| \n",
    "| ``bool``    | ? | Boolean type storing True and False values| \n",
    "| ``object``    | O | Python object type; a value can be any Python object| \n",
    "| ``string_``    | S | Fixed-length ASCII string type (1 byte per character); for example, to create a string dtype with length 10, use 'S10'| \n",
    "| ``unicode_``    | U| Fixed-length Unicode type (number of bytes platform specific); same specification semantics as string_ (e.g., 'U10')| "
   ]
  }
 ],
 "metadata": {
  "kernelspec": {
   "display_name": "Python 3",
   "language": "python",
   "name": "python3"
  },
  "language_info": {
   "codemirror_mode": {
    "name": "ipython",
    "version": 3
   },
   "file_extension": ".py",
   "mimetype": "text/x-python",
   "name": "python",
   "nbconvert_exporter": "python",
   "pygments_lexer": "ipython3",
   "version": "3.6.4"
  }
 },
 "nbformat": 4,
 "nbformat_minor": 2
}
