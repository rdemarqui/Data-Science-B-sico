{
 "cells": [
  {
   "cell_type": "markdown",
   "metadata": {},
   "source": [
    "# Indrodução ao NumPy"
   ]
  },
  {
   "cell_type": "markdown",
   "metadata": {},
   "source": [
    "NumPy provém de NUMerical PYthon e provê uma interface eficiente para armazenar e operar grandes volumes de dados. \n",
    "O NumPy armazena os dados através das arrays, que podem ser vetores ou matrizes. As arrays podem ser comparadas com a função built-in ``list`` do Python, porém as arrays do NumPy proveem uma forma muito mais eficiente de armazenar e operar grandes volumes dados.  \n",
    "\n",
    "Algumas das operações possíveis com Numpy: Algebra linear, geração de números aleatórios e transformada de Fourrier.  \n",
    "\n",
    "As arrays do NumPy são a base de praticamente todo o ecosistema de data scince em Python. Outros pacotes como Pandas, SciPy e Matplotlib foram desenvolvidos a partir do NumPy.\n",
    "\n",
    "A documentação completa do NumPy pode ser encontrada em:  http://www.numpy.org"
   ]
  },
  {
   "cell_type": "markdown",
   "metadata": {},
   "source": [
    "**Importando o pacote NumPy**  \n",
    "Como convenção, abreviamos o NumPy como np."
   ]
  },
  {
   "cell_type": "code",
   "execution_count": 1,
   "metadata": {},
   "outputs": [],
   "source": [
    "import numpy as np"
   ]
  },
  {
   "cell_type": "markdown",
   "metadata": {},
   "source": [
    "**Comparando operações com o NumPy vs Python**  \n",
    "No código a seguir, vamos fazer um comparativo entre o desempenho do array do numpy e a lista do python. Em média o NumPy costuma ser de 10 a 100x mais rápido que o Python."
   ]
  },
  {
   "cell_type": "code",
   "execution_count": 2,
   "metadata": {},
   "outputs": [
    {
     "name": "stdout",
     "output_type": "stream",
     "text": [
      "Wall time: 20 ms\n",
      "Wall time: 392 ms\n"
     ]
    }
   ],
   "source": [
    "# Criando a massa de dados com 1.000.000 de elementos\n",
    "np_array = np.arange(1000000)     # criando uma array do NumPy\n",
    "py_list = list(range(1000000))    # criando uma lista do python\n",
    "\n",
    "# Verificando o tempo necessário para uma multiplicação para os 10 primeiros elementos\n",
    "%time for x in range(10): np_array2 = np_array * 3\n",
    "%time for x in range(10): py_list2 = py_list * 3"
   ]
  },
  {
   "cell_type": "markdown",
   "metadata": {},
   "source": [
    "Essa diferença de desempenho ocorre devido à maneira que o Numpy armazena os dados em memória. Enquanto a lista feita em Python é mais flexível, permitindo que se armazene dados com propriedades diferentes, no NumPy todos os dados possuem a mesma propriedade. Essa \"falta de flexibilidade\" do NumPy é determinante para seu ganho de desempenho.\n",
    "\n",
    "Veja, nos comandos abaixo, como os dados são armazenados:"
   ]
  },
  {
   "cell_type": "markdown",
   "metadata": {},
   "source": [
    "**Python**"
   ]
  },
  {
   "cell_type": "code",
   "execution_count": 3,
   "metadata": {},
   "outputs": [
    {
     "data": {
      "text/plain": [
       "[bool, str, float, int]"
      ]
     },
     "execution_count": 3,
     "metadata": {},
     "output_type": "execute_result"
    }
   ],
   "source": [
    "# Verificando os elementos de uma lista criada em Python\n",
    "python = [True, \"2\", 3.0, 4]\n",
    "[type(item) for item in python]"
   ]
  },
  {
   "cell_type": "markdown",
   "metadata": {},
   "source": [
    "**NumPy**"
   ]
  },
  {
   "cell_type": "code",
   "execution_count": 4,
   "metadata": {},
   "outputs": [
    {
     "data": {
      "text/plain": [
       "dtype('<U5')"
      ]
     },
     "execution_count": 4,
     "metadata": {},
     "output_type": "execute_result"
    }
   ],
   "source": [
    "# Atribuindo os elementos da lista criada em Python à uma array em Numpy\n",
    "numpy = np.array([python])\n",
    "numpy.dtype"
   ]
  },
  {
   "cell_type": "markdown",
   "metadata": {},
   "source": [
    "Enquanto cada elemento criado em Python possui um tipo de dado diferente, no NumPy, todos possuem a mesma categoria.\n",
    "\n",
    "No nível de implementação, a array contém essencialmente um único ponteiro para um bloco contíguo de dados. A lista Python, por outro lado, contém um ponteiro para um bloco de ponteiros, cada um dos quais, por sua vez, aponta para um objeto Python completo. Novamente, a vantagem da lista é a flexibilidade: como cada elemento da lista é uma estrutura completa contendo dados e informações de tipo, a lista pode ser preenchida com dados de qualquer tipo desejado. Arrays NumPy por possuírem uma categoria única não têm essa flexibilidade, mas são muito mais eficientes para armazenar e manipular dados."
   ]
  },
  {
   "cell_type": "markdown",
   "metadata": {},
   "source": [
    "![](NumPy_x_Python.png)"
   ]
  }
 ],
 "metadata": {
  "kernelspec": {
   "display_name": "Python 3",
   "language": "python",
   "name": "python3"
  },
  "language_info": {
   "codemirror_mode": {
    "name": "ipython",
    "version": 3
   },
   "file_extension": ".py",
   "mimetype": "text/x-python",
   "name": "python",
   "nbconvert_exporter": "python",
   "pygments_lexer": "ipython3",
   "version": "3.6.4"
  }
 },
 "nbformat": 4,
 "nbformat_minor": 2
}
