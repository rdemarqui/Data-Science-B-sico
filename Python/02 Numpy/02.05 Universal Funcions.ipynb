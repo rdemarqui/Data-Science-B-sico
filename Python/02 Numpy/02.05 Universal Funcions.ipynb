{
 "cells": [
  {
   "cell_type": "markdown",
   "metadata": {},
   "source": [
    "# Universal Functions"
   ]
  },
  {
   "cell_type": "markdown",
   "metadata": {},
   "source": [
    "Universal functions (unfuncs), são funções built-in do numpy que nos fornecem uma interface fácil e flexível para computação otimizada com matrizes de dados. Essa otimização é feita através das chamadas operações vetorizadas, cujo principal objetivo é executar rapidamente operações repetidas em valores em matrizes NumPy.\n",
    "\n",
    "Computações que usam a vetorização por ufuncs são quase sempre mais eficientes do que suas contrapartes implementadas por loops do Python, especialmente à medida que os arrays aumentam de tamanho. Sempre que vir esse loop em um script Python, você deve considerar se ele pode ser substituído por uma expressão vetorizada."
   ]
  },
  {
   "cell_type": "code",
   "execution_count": 1,
   "metadata": {},
   "outputs": [],
   "source": [
    "#Importando o módulo\n",
    "import numpy as np"
   ]
  },
  {
   "cell_type": "markdown",
   "metadata": {},
   "source": [
    "As unfuncs possuem calculos para algebra, trigonometria, exponenciais e logarítimos, etc. Vamos, a seguir, mostrar algumas dessas funções, porém vale e pena explorar a documentação para obter mais informações."
   ]
  },
  {
   "cell_type": "markdown",
   "metadata": {},
   "source": [
    "**Raíz quadrada**"
   ]
  },
  {
   "cell_type": "code",
   "execution_count": 2,
   "metadata": {},
   "outputs": [
    {
     "data": {
      "text/plain": [
       "array([3., 4., 5.])"
      ]
     },
     "execution_count": 2,
     "metadata": {},
     "output_type": "execute_result"
    }
   ],
   "source": [
    "x = np.array([9, 16, 25])\n",
    "\n",
    "np.sqrt(x)"
   ]
  },
  {
   "cell_type": "markdown",
   "metadata": {},
   "source": [
    "**Exponencial**"
   ]
  },
  {
   "cell_type": "code",
   "execution_count": 3,
   "metadata": {},
   "outputs": [
    {
     "name": "stdout",
     "output_type": "stream",
     "text": [
      "x = [1, 2, 3]\n",
      "e^x = [ 2.71828183  7.3890561  20.08553692]\n",
      "2^x = [2. 4. 8.]\n",
      "3^x = [ 3  9 27]\n"
     ]
    }
   ],
   "source": [
    "x = [1, 2, 3]\n",
    "\n",
    "print(\"x =\", x)\n",
    "print(\"e^x =\", np.exp(x))\n",
    "print(\"2^x =\", np.exp2(x))\n",
    "print(\"3^x =\", np.power(3, x))"
   ]
  },
  {
   "cell_type": "markdown",
   "metadata": {},
   "source": [
    "**Logaritmos base n**"
   ]
  },
  {
   "cell_type": "code",
   "execution_count": 4,
   "metadata": {},
   "outputs": [
    {
     "name": "stdout",
     "output_type": "stream",
     "text": [
      "x = [1, 2, 4, 10]\n",
      "ln(x) = [0.         0.69314718 1.38629436 2.30258509]\n",
      "log2(x) = [0.         1.         2.         3.32192809]\n",
      "log10(x) = [0.         0.30103    0.60205999 1.        ]\n"
     ]
    }
   ],
   "source": [
    "x = [1, 2, 4, 10]\n",
    "\n",
    "print(\"x =\", x)\n",
    "print(\"ln(x) =\", np.log(x))\n",
    "print(\"log2(x) =\", np.log2(x))\n",
    "print(\"log10(x) =\", np.log10(x))"
   ]
  },
  {
   "cell_type": "markdown",
   "metadata": {},
   "source": [
    "**Funções trigonométricas**"
   ]
  },
  {
   "cell_type": "code",
   "execution_count": 5,
   "metadata": {},
   "outputs": [
    {
     "name": "stdout",
     "output_type": "stream",
     "text": [
      "theta =  [0.         1.57079633 3.14159265]\n",
      "sin(theta) =  [0.0000000e+00 1.0000000e+00 1.2246468e-16]\n",
      "cos(theta) =  [ 1.000000e+00  6.123234e-17 -1.000000e+00]\n",
      "tan(theta) =  [ 0.00000000e+00  1.63312394e+16 -1.22464680e-16]\n"
     ]
    }
   ],
   "source": [
    "theta = np.linspace(0, np.pi, 3)\n",
    "\n",
    "print(\"theta = \", theta)\n",
    "print(\"sin(theta) = \", np.sin(theta))\n",
    "print(\"cos(theta) = \", np.cos(theta))\n",
    "print(\"tan(theta) = \", np.tan(theta))"
   ]
  },
  {
   "cell_type": "markdown",
   "metadata": {},
   "source": [
    "Os exemplos acima se tratam da unfuc unárias, que interagem com uma array. Há também as unfucs binárias que intergaem com duas arrays."
   ]
  },
  {
   "cell_type": "markdown",
   "metadata": {},
   "source": [
    "**Soma**"
   ]
  },
  {
   "cell_type": "code",
   "execution_count": 6,
   "metadata": {},
   "outputs": [
    {
     "data": {
      "text/plain": [
       "29"
      ]
     },
     "execution_count": 6,
     "metadata": {},
     "output_type": "execute_result"
    }
   ],
   "source": [
    "x = np.array([9, 2, 5])\n",
    "y = np.array([4, 3, 6])\n",
    "\n",
    "np.sum([x, y])"
   ]
  },
  {
   "cell_type": "markdown",
   "metadata": {},
   "source": [
    "**Máximo**"
   ]
  },
  {
   "cell_type": "code",
   "execution_count": 7,
   "metadata": {},
   "outputs": [
    {
     "data": {
      "text/plain": [
       "9"
      ]
     },
     "execution_count": 7,
     "metadata": {},
     "output_type": "execute_result"
    }
   ],
   "source": [
    "np.max([x, y])"
   ]
  },
  {
   "cell_type": "code",
   "execution_count": 8,
   "metadata": {},
   "outputs": [
    {
     "data": {
      "text/plain": [
       "array([[36, 27, 54],\n",
       "       [ 8,  6, 12],\n",
       "       [20, 15, 30]])"
      ]
     },
     "execution_count": 8,
     "metadata": {},
     "output_type": "execute_result"
    }
   ],
   "source": [
    "np.multiply.outer(x, y)"
   ]
  },
  {
   "cell_type": "markdown",
   "metadata": {},
   "source": [
    "**Funções booleanas**"
   ]
  },
  {
   "cell_type": "code",
   "execution_count": 11,
   "metadata": {},
   "outputs": [
    {
     "data": {
      "text/plain": [
       "8"
      ]
     },
     "execution_count": 11,
     "metadata": {},
     "output_type": "execute_result"
    }
   ],
   "source": [
    "# Podemos usar funções booleanas combinadas para filtrar um lista de dados\n",
    "# No exemplo abaixo, filtramos as notas >=5 e < 9.\n",
    "notas = np.array([4, 6, 7, 6, 7, 9, 10, 2, 6, 7, 9, 6, 6, 4])\n",
    "\n",
    "np.sum((notas >= 5) & (notas < 9))"
   ]
  },
  {
   "cell_type": "markdown",
   "metadata": {},
   "source": [
    "### Tabela: Ufuncs unárias"
   ]
  },
  {
   "cell_type": "markdown",
   "metadata": {},
   "source": [
    "|Function |Description|\n",
    "|---------|-----------|\n",
    "|abs, fabs|Compute the absolute value element-wise for integer, floating-point, or complex values|\n",
    "|sqrt   |Compute the square root of each element (equivalent to arr ** 0.5)|\n",
    "|square |Compute the square of each element (equivalent to arr ** 2)|\n",
    "|exp    |Compute the exponent ex of each element|\n",
    "|log, log10, log2, log1p|Natural logarithm (base e), log base 10, log base 2, and log(1 + x), respectively|\n",
    "|sign |Compute the sign of each element: 1 (positive), 0 (zero), or –1 (negative)|\n",
    "|ceil |Compute the ceiling of each element (i.e., the smallest integer greater than or equal to that number)|\n",
    "|floor|Compute the floor of each element (i.e., the largest integer less than or equal to each element)|\n",
    "|rint| Round elements to the nearest integer, preserving the dtype|\n",
    "|modf| Return fractional and integral parts of array as a separate array|\n",
    "|isnan| Return boolean array indicating whether each value is NaN (Not a Number)|\n",
    "|isfinite, isinf| Return boolean array indicating whether each element is finite (non-inf, non-NaN) or infinite, respectively|\n",
    "|cos, cosh, sin, sinh, tan, tanh|Regular and hyperbolic trigonometric functions|\n",
    "|arccos, arccosh, arcsin, arcsinh, arctan, arctanh|Inverse trigonometric functions|\n",
    "|logical_not| Compute truth value of not x element-wise (equivalent to ~arr)|"
   ]
  },
  {
   "cell_type": "markdown",
   "metadata": {},
   "source": [
    "### Tabela: Unfuncs binárias"
   ]
  },
  {
   "cell_type": "markdown",
   "metadata": {},
   "source": [
    "|Function| Description|\n",
    "|--------|------------|\n",
    "|add| Add corresponding elements in arrays|\n",
    "|subtract| Subtract elements in second array from first array|\n",
    "|multiply| Multiply array elements|\n",
    "|divide, floor_divide| Divide or floor divide (truncating the remainder)|\n",
    "|power| Raise elements in first array to powers indicated in second array|\n",
    "|maximum, fmax| Element-wise maximum; fmax ignores NaN|\n",
    "|minimum, fmin| Element-wise minimum; fmin ignores NaN|\n",
    "|mod| Element-wise modulus (remainder of division)|\n",
    "|copysign| Copy sign of values in second argument to values in first argument|\n",
    "|greater, greater_equal,less, less_equal,equal, not_equal|Perform element-wise comparison, yielding boolean array|\n",
    "|logical_and, logical_or, logical_xor|Compute element-wise truth value of logical operation|"
   ]
  }
 ],
 "metadata": {
  "kernelspec": {
   "display_name": "Python 3",
   "language": "python",
   "name": "python3"
  },
  "language_info": {
   "codemirror_mode": {
    "name": "ipython",
    "version": 3
   },
   "file_extension": ".py",
   "mimetype": "text/x-python",
   "name": "python",
   "nbconvert_exporter": "python",
   "pygments_lexer": "ipython3",
   "version": "3.6.4"
  }
 },
 "nbformat": 4,
 "nbformat_minor": 2
}
