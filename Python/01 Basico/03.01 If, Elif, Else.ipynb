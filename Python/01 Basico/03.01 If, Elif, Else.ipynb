{
 "cells": [
  {
   "cell_type": "markdown",
   "metadata": {},
   "source": [
    "# If, Elif, Else"
   ]
  },
  {
   "cell_type": "markdown",
   "metadata": {},
   "source": [
    "Para programarmos no python, necessitamos respeitar a identação. Em muitas liguagens para indicarmos um bloco marcamos com \"{\" no inicio e \"}\" no final. Para o Python precisamos indicar o início de um bloco utilizando \":\".  \n",
    "Ex.:  \n",
    "essa é uma linha  \n",
    "essa é a segunda linha:  \n",
    "&nbsp;&nbsp;&nbsp;&nbsp;essa é a 1° linha do bloco  \n",
    "&nbsp;&nbsp;&nbsp;&nbsp;essa é a 2° linha do bloco  \n",
    "&nbsp;&nbsp;&nbsp;&nbsp;essa é a 3° linha do bloco  \n",
    "aqui saímos do bloco"
   ]
  },
  {
   "cell_type": "code",
   "execution_count": 1,
   "metadata": {},
   "outputs": [
    {
     "name": "stdout",
     "output_type": "stream",
     "text": [
      "teste é igual a 3!\n"
     ]
    }
   ],
   "source": [
    "# Comando if\n",
    "teste = 3\n",
    "if teste == 3:\n",
    "    print(\"teste é igual a 3!\")"
   ]
  },
  {
   "cell_type": "code",
   "execution_count": 2,
   "metadata": {},
   "outputs": [
    {
     "name": "stdout",
     "output_type": "stream",
     "text": [
      "Algo está errado!\n"
     ]
    }
   ],
   "source": [
    "# If...Else\n",
    "if 5 < 2:\n",
    "   print(\"Python funciona!\")\n",
    "else:\n",
    "   print(\"Algo está errado!\")"
   ]
  },
  {
   "cell_type": "code",
   "execution_count": 3,
   "metadata": {},
   "outputs": [
    {
     "name": "stdout",
     "output_type": "stream",
     "text": [
      "Hoje ficará nublado!\n"
     ]
    }
   ],
   "source": [
    "# Comando Elif\n",
    "dia = \"Quarta\"\n",
    "if  dia ==  \"Segunda\":\n",
    "    print(\"Hoje fará sol!\")\n",
    "elif dia == \"Terça\":\n",
    "    print(\"Hoje vai chover!\")\n",
    "elif dia == \"Quarta\":\n",
    "    print('Hoje ficará nublado!')\n",
    "else:\n",
    "  print(\"Sem previsão do tempo para o dia selecionado\")"
   ]
  },
  {
   "cell_type": "code",
   "execution_count": 4,
   "metadata": {},
   "outputs": [
    {
     "name": "stdout",
     "output_type": "stream",
     "text": [
      "What is your name? Silas\n",
      "Your name contains the letter \"s\".\n"
     ]
    }
   ],
   "source": [
    "# Um exemplo contendo o operador 'in' que olha elemento a elemento da string\n",
    "name = input('What is your name? ')\n",
    "if 's' in name:\n",
    "    print('Your name contains the letter \"s\".')\n",
    "else:\n",
    "    print('Your name does not contain the letter \"s\".')"
   ]
  },
  {
   "cell_type": "code",
   "execution_count": 5,
   "metadata": {},
   "outputs": [
    {
     "name": "stdout",
     "output_type": "stream",
     "text": [
      "What is your name? Gumby\n",
      "Hello, Gumby\n"
     ]
    }
   ],
   "source": [
    "# Podemos também criar condições aninhadas\n",
    "name = input('What is your name? ')\n",
    "if name.endswith('Gumby'):\n",
    "    if name.startswith('Mr.'):\n",
    "        print('Hello, Mr. Gumby')\n",
    "    elif name.startswith('Mrs.'):\n",
    "        print('Hello, Mrs. Gumby')\n",
    "    else:\n",
    "        print('Hello, Gumby')\n",
    "else:\n",
    "    print('Hello, stranger')"
   ]
  },
  {
   "cell_type": "code",
   "execution_count": 6,
   "metadata": {},
   "outputs": [
    {
     "name": "stdout",
     "output_type": "stream",
     "text": [
      "Enter a number between 1 and 10: 5\n",
      "Great!\n"
     ]
    }
   ],
   "source": [
    "# Podemos também verificar mais de uma condição utilizando operadores\n",
    "number = int(input('Enter a number between 1 and 10: '))\n",
    "if number <= 10 and number >= 1:\n",
    "    print('Great!')\n",
    "else:\n",
    "    print('Wrong!')\n",
    "    \n",
    "#Nota: O código acima é apenas um exemplo. Poderíamos escrevê-lo de maniera simplificada utilizando 1 <= number <= 10."
   ]
  },
  {
   "cell_type": "code",
   "execution_count": 7,
   "metadata": {},
   "outputs": [
    {
     "data": {
      "text/plain": [
       "True"
      ]
     },
     "execution_count": 7,
     "metadata": {},
     "output_type": "execute_result"
    }
   ],
   "source": [
    "#Podemos também condensar a função em uma única linha\n",
    "numero = 10\n",
    "\n",
    "True if numero >= 10 else False"
   ]
  },
  {
   "cell_type": "markdown",
   "metadata": {},
   "source": [
    "### Assert"
   ]
  },
  {
   "cell_type": "code",
   "execution_count": 8,
   "metadata": {},
   "outputs": [
    {
     "ename": "AssertionError",
     "evalue": "The age must be realistic",
     "output_type": "error",
     "traceback": [
      "\u001b[1;31m---------------------------------------------------------------------------\u001b[0m",
      "\u001b[1;31mAssertionError\u001b[0m                            Traceback (most recent call last)",
      "\u001b[1;32m<ipython-input-8-d60bcb5e2ec3>\u001b[0m in \u001b[0;36m<module>\u001b[1;34m()\u001b[0m\n\u001b[0;32m      2\u001b[0m \u001b[1;31m#checkpoint do código:\u001b[0m\u001b[1;33m\u001b[0m\u001b[1;33m\u001b[0m\u001b[0m\n\u001b[0;32m      3\u001b[0m \u001b[0mage\u001b[0m \u001b[1;33m=\u001b[0m \u001b[1;33m-\u001b[0m\u001b[1;36m1\u001b[0m\u001b[1;33m\u001b[0m\u001b[0m\n\u001b[1;32m----> 4\u001b[1;33m \u001b[1;32massert\u001b[0m \u001b[1;36m0\u001b[0m \u001b[1;33m<\u001b[0m \u001b[0mage\u001b[0m \u001b[1;33m<\u001b[0m \u001b[1;36m100\u001b[0m\u001b[1;33m,\u001b[0m \u001b[1;34m'The age must be realistic'\u001b[0m\u001b[1;33m\u001b[0m\u001b[0m\n\u001b[0m",
      "\u001b[1;31mAssertionError\u001b[0m: The age must be realistic"
     ]
    }
   ],
   "source": [
    "# A função assert retorna erro e interrompe o código caso haja um erro na condição. Isso pode ser útil como teste, debug ou\n",
    "#checkpoint do código:\n",
    "age = -1\n",
    "assert 0 < age < 100, 'The age must be realistic'"
   ]
  }
 ],
 "metadata": {
  "kernelspec": {
   "display_name": "Python 3",
   "language": "python",
   "name": "python3"
  },
  "language_info": {
   "codemirror_mode": {
    "name": "ipython",
    "version": 3
   },
   "file_extension": ".py",
   "mimetype": "text/x-python",
   "name": "python",
   "nbconvert_exporter": "python",
   "pygments_lexer": "ipython3",
   "version": "3.6.4"
  }
 },
 "nbformat": 4,
 "nbformat_minor": 2
}
