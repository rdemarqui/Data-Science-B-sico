{
 "cells": [
  {
   "cell_type": "markdown",
   "metadata": {},
   "source": [
    "# Arquivos"
   ]
  },
  {
   "cell_type": "markdown",
   "metadata": {},
   "source": [
    "Para abrirmos um arquivo, utilizamos o comando open(), lembrando que caso o arquivo esteja no mesmo diretório do python, basta inserir o nome do arquivo e sua extensão, caso contrário necessita colocar o endereço completo.  \n",
    "Nota: Caso estejamos utilizando Windows, devemos utilizar duas barras ou uma contra-barra no endereço do arquivo.  \n",
    "Ex.: 'c:\\\\\\caminho\\\\\\arquivo.txt' ou 'c:/caminho/arquivo.txt'\n",
    "\n",
    "Sintaxe  \n",
    "metodo('nome do arquivo', 'parametro') \n",
    "\n",
    "Métodos  \n",
    "     open() - Usada para abrir o arquivo  \n",
    "&nbsp;read() - Leitura do arquivo  \n",
    "&nbsp;write() - Gravação do arquivo  \n",
    "&nbsp;seek() - Retorna para o inicio do arquivo  \n",
    "&nbsp;readlines() - Retorna a lista de linhas do arquivo  \n",
    "&nbsp;close() - Fecha o arquivo  \n",
    "\n",
    "Argumentos \n",
    "&nbsp;'r' - Read mode (default)  \n",
    "&nbsp;'w' - Write mode  \n",
    "&nbsp;'x' - Exclusive write mode  \n",
    "&nbsp;'a' - Append mode  \n",
    "&nbsp;'b' - Binary mode (added to other mode)  \n",
    "&nbsp;'t' - Text mode (default, added to other mode)  \n",
    "&nbsp;'+' -  Read/write mode (added to other mode)\n",
    "\n",
    "Nota1: Caso queiramos abir um arquivo para escrita e leitura, basta combinarmos os argumentos utilizando r+  \n",
    "Nota2: Podemos trabalhar também com JSON e CSV, para isso basta importarmos os módulos JSON e CSV."
   ]
  },
  {
   "cell_type": "markdown",
   "metadata": {},
   "source": [
    "## Gerando um arquivo"
   ]
  },
  {
   "cell_type": "code",
   "execution_count": 1,
   "metadata": {},
   "outputs": [],
   "source": [
    "# No código abaixo geraremos um txt vazio. Esse arquivo será gerado no mesmo diretório do arquivo python\n",
    "nome_arq = '04.01 Texto.txt'  #Gerando um nome para o arquivo\n",
    "arquivo = open(nome_arq, \"w\")  #O Python cria um novo arquivo, caso ele não exista\n",
    "arquivo.close()  #Fechando o arquivo"
   ]
  },
  {
   "cell_type": "markdown",
   "metadata": {},
   "source": [
    "## Gravando"
   ]
  },
  {
   "cell_type": "code",
   "execution_count": 2,
   "metadata": {},
   "outputs": [],
   "source": [
    "# Abrindo com o parâmetro 'w' a escrita do arquivo substituírá todo o seu conteúdo. Como no caso é um arquivo em branco,\n",
    "# não teremos problemas\n",
    "arquivo = open(nome_arq, \"w\")\n",
    "texto = ('Esse texto é um teste' + chr(10) + 'Esse teste é um texto')  #Gerando uma variável com texto\n",
    "arquivo.write(texto)  #Atribuindo o texto ao arquivo\n",
    "arquivo.close() #Fechando o arquivo\n",
    "\n",
    "# nota: Como abrimos o arquivo apenas para gravação, não poderemos usar comandos de leitura: print(arquivo.read())"
   ]
  },
  {
   "cell_type": "code",
   "execution_count": 3,
   "metadata": {},
   "outputs": [],
   "source": [
    "# Abrindo em modo escrita, utilizando 'append' que acrescentará conteúdo aos dados existentes.\n",
    "arquivo = open('04.01 texto.txt', 'a')  #Abrindo o arquivo em modo append\n",
    "arquivo.write(chr(10) + 'Mais um linha inserida')  #adicioonando conteúdo\n",
    "arquivo.close() #Fechando o arquivo"
   ]
  },
  {
   "cell_type": "markdown",
   "metadata": {},
   "source": [
    "## Abrindo no Modo de leitura"
   ]
  },
  {
   "cell_type": "code",
   "execution_count": 4,
   "metadata": {},
   "outputs": [
    {
     "name": "stdout",
     "output_type": "stream",
     "text": [
      "Esse texto é um teste\n",
      "Esse teste é um texto\n",
      "Mais um linha inserida\n"
     ]
    }
   ],
   "source": [
    "# Abrindo em modo leitura e verificando o conteúdo\n",
    "arquivo = open('04.01 Texto.txt', 'r') #Abrindo o arquivo como leitura e guardando seu conteúdo na variável 'arquivo'\n",
    "print(arquivo.read())                  #Imprimindo o conteúdo"
   ]
  },
  {
   "cell_type": "code",
   "execution_count": 5,
   "metadata": {},
   "outputs": [
    {
     "data": {
      "text/plain": [
       "68"
      ]
     },
     "execution_count": 5,
     "metadata": {},
     "output_type": "execute_result"
    }
   ],
   "source": [
    "# Contando o número de caracteres\n",
    "arquivo.tell()"
   ]
  },
  {
   "cell_type": "markdown",
   "metadata": {},
   "source": [
    "**IMPORTANTE**  \n",
    "Quando solicitamos ao Python que imprima o arquivo na tela programa varre todo o conteúdo do arquivo e para no último caractere. Caso queira imprimir novamente o conteúdo, é necessário voltar ao início do arquivo, utilizando a função seek, exemplificada abaixo."
   ]
  },
  {
   "cell_type": "code",
   "execution_count": 6,
   "metadata": {},
   "outputs": [
    {
     "name": "stdout",
     "output_type": "stream",
     "text": [
      "0\n"
     ]
    }
   ],
   "source": [
    "# Retornano ao início do arquivo\n",
    "print(arquivo.seek(0,0)) #As coordenadas 0,0 indicam ao Python para ir à 1°linha da 1° coluna do arquivo"
   ]
  },
  {
   "cell_type": "code",
   "execution_count": 7,
   "metadata": {},
   "outputs": [
    {
     "name": "stdout",
     "output_type": "stream",
     "text": [
      "Esse texto\n"
     ]
    }
   ],
   "source": [
    "# Imprimindo um número específico de caracteres\n",
    "print(arquivo.read(10))"
   ]
  },
  {
   "cell_type": "code",
   "execution_count": 8,
   "metadata": {},
   "outputs": [
    {
     "name": "stdout",
     "output_type": "stream",
     "text": [
      "Esse texto é um teste\n",
      "Esse teste é um texto\n",
      "Mais um linha inserida\n"
     ]
    }
   ],
   "source": [
    "#Contando o número de linhas\n",
    "arquivo.seek(0,0) #Retorna ao início do arquivo\n",
    "arquivo = open('04.01 Texto.txt', 'r') #Abrindo o arquivo como leitura e guardando seu conteúdo na variável 'arquivo'\n",
    "print(arquivo.read())                  #Imprimindo o conteúdo"
   ]
  },
  {
   "cell_type": "code",
   "execution_count": 9,
   "metadata": {},
   "outputs": [
    {
     "name": "stdout",
     "output_type": "stream",
     "text": [
      "Name,Position Title,Department,Employee Annual Salary\n",
      "AARON,  ELVIA J,WATER RATE TAKER,WATER MGMNT,$88968.00\n",
      "AARON,  JEFFERY M,POLICE OFFICER,POLICE,$80778.00\n",
      "AARON,  KARINA,POLICE OFFICER,POLICE,$80778.00\n",
      "AARON,  KIMBERLEI R,CHIEF CONTRACT EXPEDITER,GENERAL SERVICES,$84780.00\n",
      "ABAD JR,  VICENTE M,CIVIL ENGINEER IV,WATER MGMNT,$104736.00\n",
      "ABARCA,  ANABEL,ASST TO THE ALDERMAN,CITY COUNCIL,$70764.00\n",
      "ABARCA,  EMMANUEL,GENERAL LABORER - DSS,STREETS & SAN,$40560.00\n",
      "ABBATACOLA,  ROBERT J,ELECTRICAL MECHANIC,AVIATION,$91520.00\n",
      "ABBATEMARCO,  JAMES J,FIRE ENGINEER,FIRE,$90456.00\n",
      "ABBATE,  TERRY M,POLICE OFFICER,POLICE,$86520.00\n",
      "ABBOTT,  BETTY L,FOSTER GRANDPARENT,FAMILY & SUPPORT,$2756.00\n",
      "ABBOTT,  LYNISE M,CLERK III,POLICE,$43920.00\n",
      "ABBRUZZESE,  WILLIAM J,INVESTIGATOR - IPRA II,IPRA,$72468.00\n",
      "ABDALLAH,  ZAID,POLICE OFFICER,POLICE,$69684.00\n",
      "ABDELHADI,  ABDALMAHD,POLICE OFFICER,POLICE,$80778.00\n",
      "ABDELLATIF,  AREF R,FIREFIGHTER (PER ARBITRATORS AWARD)-PARAMEDIC,FIRE,$98244.00\n",
      "ABDELMAJEID,  AZIZ,POLICE OFFICER,POLICE,$80778.00\n",
      "ABDOLLAHZADEH,  ALI,FIREFIGHTER/PARAMEDIC,FIRE,$87720.00\n",
      "ABDUL-KARIM,  MUHAMMAD A,ENGINEERING TECHNICIAN VI,WATER MGMNT,$106104.00\n",
      ",,,\n",
      "\n"
     ]
    }
   ],
   "source": [
    "#Abrindo um CSV\n",
    "arq_csv = open('04.01 Salarios.csv', 'r')\n",
    "print(arq_csv.read())"
   ]
  },
  {
   "cell_type": "code",
   "execution_count": 10,
   "metadata": {},
   "outputs": [
    {
     "name": "stdout",
     "output_type": "stream",
     "text": [
      "['Name,Position Title,Department,Employee Annual Salary', 'AARON,  ELVIA J,WATER RATE TAKER,WATER MGMNT,$88968.00', 'AARON,  JEFFERY M,POLICE OFFICER,POLICE,$80778.00', 'AARON,  KARINA,POLICE OFFICER,POLICE,$80778.00', 'AARON,  KIMBERLEI R,CHIEF CONTRACT EXPEDITER,GENERAL SERVICES,$84780.00', 'ABAD JR,  VICENTE M,CIVIL ENGINEER IV,WATER MGMNT,$104736.00', 'ABARCA,  ANABEL,ASST TO THE ALDERMAN,CITY COUNCIL,$70764.00', 'ABARCA,  EMMANUEL,GENERAL LABORER - DSS,STREETS & SAN,$40560.00', 'ABBATACOLA,  ROBERT J,ELECTRICAL MECHANIC,AVIATION,$91520.00', 'ABBATEMARCO,  JAMES J,FIRE ENGINEER,FIRE,$90456.00', 'ABBATE,  TERRY M,POLICE OFFICER,POLICE,$86520.00', 'ABBOTT,  BETTY L,FOSTER GRANDPARENT,FAMILY & SUPPORT,$2756.00', 'ABBOTT,  LYNISE M,CLERK III,POLICE,$43920.00', 'ABBRUZZESE,  WILLIAM J,INVESTIGATOR - IPRA II,IPRA,$72468.00', 'ABDALLAH,  ZAID,POLICE OFFICER,POLICE,$69684.00', 'ABDELHADI,  ABDALMAHD,POLICE OFFICER,POLICE,$80778.00', 'ABDELLATIF,  AREF R,FIREFIGHTER (PER ARBITRATORS AWARD)-PARAMEDIC,FIRE,$98244.00', 'ABDELMAJEID,  AZIZ,POLICE OFFICER,POLICE,$80778.00', 'ABDOLLAHZADEH,  ALI,FIREFIGHTER/PARAMEDIC,FIRE,$87720.00', 'ABDUL-KARIM,  MUHAMMAD A,ENGINEERING TECHNICIAN VI,WATER MGMNT,$106104.00', ',,,', '']\n"
     ]
    }
   ],
   "source": [
    "# Quebrando o arquivo em linhas\n",
    "arq_csv.seek(0,0)  #Retornando à primeira linha\n",
    "dados = arq_csv.read()  #Atribuímos os dados da variável arq_csv à variável dados, para podermos manipulá-la\n",
    "linhas = dados.split('\\n') #Utilizamos a função split e a busca do caractere '\\n' para quebrar o dataset\n",
    "\n",
    "print(linhas)\n",
    "#Nota apesar da visualização ficar um pouco confusa, note que cada quebra de linha está entre ' ':"
   ]
  },
  {
   "cell_type": "code",
   "execution_count": 11,
   "metadata": {},
   "outputs": [
    {
     "name": "stdout",
     "output_type": "stream",
     "text": [
      "[['Name', 'Position Title', 'Department', 'Employee Annual Salary'], ['AARON', '  ELVIA J', 'WATER RATE TAKER', 'WATER MGMNT', '$88968.00'], ['AARON', '  JEFFERY M', 'POLICE OFFICER', 'POLICE', '$80778.00'], ['AARON', '  KARINA', 'POLICE OFFICER', 'POLICE', '$80778.00'], ['AARON', '  KIMBERLEI R', 'CHIEF CONTRACT EXPEDITER', 'GENERAL SERVICES', '$84780.00'], ['ABAD JR', '  VICENTE M', 'CIVIL ENGINEER IV', 'WATER MGMNT', '$104736.00'], ['ABARCA', '  ANABEL', 'ASST TO THE ALDERMAN', 'CITY COUNCIL', '$70764.00'], ['ABARCA', '  EMMANUEL', 'GENERAL LABORER - DSS', 'STREETS & SAN', '$40560.00'], ['ABBATACOLA', '  ROBERT J', 'ELECTRICAL MECHANIC', 'AVIATION', '$91520.00'], ['ABBATEMARCO', '  JAMES J', 'FIRE ENGINEER', 'FIRE', '$90456.00'], ['ABBATE', '  TERRY M', 'POLICE OFFICER', 'POLICE', '$86520.00'], ['ABBOTT', '  BETTY L', 'FOSTER GRANDPARENT', 'FAMILY & SUPPORT', '$2756.00'], ['ABBOTT', '  LYNISE M', 'CLERK III', 'POLICE', '$43920.00'], ['ABBRUZZESE', '  WILLIAM J', 'INVESTIGATOR - IPRA II', 'IPRA', '$72468.00'], ['ABDALLAH', '  ZAID', 'POLICE OFFICER', 'POLICE', '$69684.00'], ['ABDELHADI', '  ABDALMAHD', 'POLICE OFFICER', 'POLICE', '$80778.00'], ['ABDELLATIF', '  AREF R', 'FIREFIGHTER (PER ARBITRATORS AWARD)-PARAMEDIC', 'FIRE', '$98244.00'], ['ABDELMAJEID', '  AZIZ', 'POLICE OFFICER', 'POLICE', '$80778.00'], ['ABDOLLAHZADEH', '  ALI', 'FIREFIGHTER/PARAMEDIC', 'FIRE', '$87720.00'], ['ABDUL-KARIM', '  MUHAMMAD A', 'ENGINEERING TECHNICIAN VI', 'WATER MGMNT', '$106104.00'], ['', '', '', ''], ['']]\n"
     ]
    }
   ],
   "source": [
    "# Quebrando o arquivo em colunas\n",
    "dados_col = [] #Gerando uma lista vazia\n",
    "\n",
    "for x in linhas:           #Para cada elemento entre ' ' da variável linhas\n",
    "    col = x.split(\",\")     #quebre em toda marcação que possuir vírgula e atribua à variável 'col'\n",
    "    dados_col.append(col)  #adicione à lista dados_col\n",
    "\n",
    "print(dados_col)\n",
    "#Perceba agora que cada elemento da variável dados_col está quebrado por ' '"
   ]
  },
  {
   "cell_type": "markdown",
   "metadata": {},
   "source": [
    "## Método with\n",
    "É útil quando você tem duas operações relacionadas que gostaria de executar como um par, com um bloco de código entre elas. Um exemplo clássico é abrir um arquivo, manipular e, em seguida, fechá-lo:"
   ]
  },
  {
   "cell_type": "code",
   "execution_count": 18,
   "metadata": {},
   "outputs": [
    {
     "name": "stdout",
     "output_type": "stream",
     "text": [
      "Esse texto é um teste\n",
      "\n",
      "Esse teste é um texto\n",
      "\n",
      "Mais um linha inserida\n"
     ]
    }
   ],
   "source": [
    "# Podemos abrir o arquivo e atribuí-lo à uma variável para manipulação com o método with.\n",
    "# Ao final o arquivo será automaticamente fechado.\n",
    "with open('04.01 Texto.txt')  as texto:\n",
    "    for x in texto:\n",
    "        print(x)"
   ]
  }
 ],
 "metadata": {
  "kernelspec": {
   "display_name": "Python 3",
   "language": "python",
   "name": "python3"
  },
  "language_info": {
   "codemirror_mode": {
    "name": "ipython",
    "version": 3
   },
   "file_extension": ".py",
   "mimetype": "text/x-python",
   "name": "python",
   "nbconvert_exporter": "python",
   "pygments_lexer": "ipython3",
   "version": "3.6.5"
  }
 },
 "nbformat": 4,
 "nbformat_minor": 2
}
