{
 "cells": [
  {
   "cell_type": "markdown",
   "metadata": {},
   "source": [
    "# Dicionários"
   ]
  },
  {
   "cell_type": "markdown",
   "metadata": {},
   "source": [
    "Enquanto nas listas e tuplas referenciamos um elemento pelo seu índice, nos dicionários podemos referenciar um elemento por uma chave que pode ser uma string, uma valor ou até mesmo uma tupla. Esse tipo de estrutura é chamado de mapping.\n",
    "\n",
    "IMPORTANTE: As chaves necessitam ser únicas em um dicionário. Caso hajam 2 chaves iguais, o python retornará o valor da última chave repetida. O formato das chaves é amplo sendo possível ter letras, números inteiros ou fracionais\n",
    "\n",
    "Os dicionários são feitos com chaves e seus elementos são de pares chave-valor, separados por dois pontos e vírgula para um novo elemento. Ex.: {'xxx': 'aaa, 'yyy': 'bbb}"
   ]
  },
  {
   "cell_type": "code",
   "execution_count": 1,
   "metadata": {},
   "outputs": [
    {
     "data": {
      "text/plain": [
       "{'Alice': '2341', 'Beth': '9102', 'Cecil': '3258'}"
      ]
     },
     "execution_count": 1,
     "metadata": {},
     "output_type": "execute_result"
    }
   ],
   "source": [
    "#Criando um dicionário de telefones\n",
    "phone = {'Alice': '2341', 'Beth': '9102', 'Cecil': '3258'}\n",
    "phone"
   ]
  },
  {
   "cell_type": "code",
   "execution_count": 2,
   "metadata": {},
   "outputs": [
    {
     "data": {
      "text/plain": [
       "'9102'"
      ]
     },
     "execution_count": 2,
     "metadata": {},
     "output_type": "execute_result"
    }
   ],
   "source": [
    "#Buscando o telefone de uma pessoa\n",
    "phone['Beth']"
   ]
  },
  {
   "cell_type": "code",
   "execution_count": 3,
   "metadata": {},
   "outputs": [
    {
     "data": {
      "text/plain": [
       "{'Alice': 7777, 'Beth': '9102', 'Cecil': '3258'}"
      ]
     },
     "execution_count": 3,
     "metadata": {},
     "output_type": "execute_result"
    }
   ],
   "source": [
    "#Modificando o telefone de uma pessoa\n",
    "phone['Alice'] = 7777\n",
    "phone"
   ]
  },
  {
   "cell_type": "code",
   "execution_count": 4,
   "metadata": {},
   "outputs": [
    {
     "data": {
      "text/plain": [
       "{'Alice': 7777, 'Beth': '9102', 'Cecil': '3258', 'Zoom': '8972'}"
      ]
     },
     "execution_count": 4,
     "metadata": {},
     "output_type": "execute_result"
    }
   ],
   "source": [
    "#Adicionando um item\n",
    "#Para adicionar um item ao dicionário, basta informar a chave e indicar o valor, o python criará automaticamente\n",
    "phone['Zoom'] = '8972'\n",
    "phone"
   ]
  },
  {
   "cell_type": "code",
   "execution_count": 5,
   "metadata": {},
   "outputs": [
    {
     "name": "stdout",
     "output_type": "stream",
     "text": [
      "{'Alice': 7777, 'Beth': '9102', 'Cecil': '3258'}\n"
     ]
    }
   ],
   "source": [
    "#Retirando um item\n",
    "#Para retirar um item do dicionário, utilizamos a função pop\n",
    "phone.pop('Zoom')\n",
    "print(phone)"
   ]
  },
  {
   "cell_type": "code",
   "execution_count": 6,
   "metadata": {},
   "outputs": [
    {
     "data": {
      "text/plain": [
       "{'Alice': 7777,\n",
       " 'Beth': '9102',\n",
       " 'Cecil': '3258',\n",
       " 'Daniel': '9999',\n",
       " 'Eduard': '8888',\n",
       " 'Fox': '5555'}"
      ]
     },
     "execution_count": 6,
     "metadata": {},
     "output_type": "execute_result"
    }
   ],
   "source": [
    "#Concatenando dicionários\n",
    "temp = {'Daniel': '9999', 'Eduard': '8888', 'Fox': '5555'}\n",
    "phone.update(temp)\n",
    "phone"
   ]
  },
  {
   "cell_type": "code",
   "execution_count": 7,
   "metadata": {},
   "outputs": [
    {
     "data": {
      "text/plain": [
       "{'key1': {'key2_aninhada': {'key3_aninhada': 'Dict aninhado em Python'}}}"
      ]
     },
     "execution_count": 7,
     "metadata": {},
     "output_type": "execute_result"
    }
   ],
   "source": [
    "# Criando dicionários aninhados\n",
    "dict_aninhado = {'key1':{'key2_aninhada':{'key3_aninhada':'Dict aninhado em Python'}}}\n",
    "dict_aninhado"
   ]
  },
  {
   "cell_type": "code",
   "execution_count": 8,
   "metadata": {},
   "outputs": [
    {
     "data": {
      "text/plain": [
       "{'Graham': '3456', 'Hitch': '0726', 'Ismael': '2323'}"
      ]
     },
     "execution_count": 8,
     "metadata": {},
     "output_type": "execute_result"
    }
   ],
   "source": [
    "#Convertendo uma lista em um dicionário\n",
    "#Note que não devemos inserir apóstrofe nas chaves\n",
    "phone3 = dict(Graham='3456', Hitch='0726', Ismael='2323' )\n",
    "phone3"
   ]
  },
  {
   "cell_type": "code",
   "execution_count": 9,
   "metadata": {},
   "outputs": [
    {
     "name": "stdout",
     "output_type": "stream",
     "text": [
      "6\n",
      "dict_keys(['Graham', 'Hitch', 'Ismael'])\n",
      "dict_values(['3456', '0726', '2323'])\n",
      "dict_items([('Graham', '3456'), ('Hitch', '0726'), ('Ismael', '2323')])\n",
      "None\n"
     ]
    }
   ],
   "source": [
    "#Algumas operações básicas\n",
    "print(len(phone)) #Retorna o tamanho do dicionário par chave-valor\n",
    "print(phone3.keys()) #Retorna somente as chaves do dicionário\n",
    "print(phone3.values()) #Retorna somente os valores do dicionário\n",
    "print(phone3.items()) #Retorna o par chave-valor\n",
    "print(phone3.clear()) #Limpa os valores do dicionário"
   ]
  }
 ],
 "metadata": {
  "kernelspec": {
   "display_name": "Python 3",
   "language": "python",
   "name": "python3"
  },
  "language_info": {
   "codemirror_mode": {
    "name": "ipython",
    "version": 3
   },
   "file_extension": ".py",
   "mimetype": "text/x-python",
   "name": "python",
   "nbconvert_exporter": "python",
   "pygments_lexer": "ipython3",
   "version": "3.6.4"
  }
 },
 "nbformat": 4,
 "nbformat_minor": 2
}
