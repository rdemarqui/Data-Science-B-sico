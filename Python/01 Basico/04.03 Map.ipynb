{
 "cells": [
  {
   "cell_type": "markdown",
   "metadata": {},
   "source": [
    "# Função Map"
   ]
  },
  {
   "cell_type": "markdown",
   "metadata": {},
   "source": [
    "O Python possui algumas funções orientadas à expressão. A função Map é uma delas (temos também reduce, filter, lambda e list comprehension)  \n",
    "\n",
    "Map é uma função que recebe 2 argumentos:   \n",
    "* Uma função  \n",
    "* Uma sequência  \n",
    "\n",
    "O Map então aplicará a função informada em cada elemento da sequência. Esse sequancia pode ser uma lista, tupla, string, etc.  \n",
    "\n",
    "Sintaxe:  \n",
    "map(função, sequencia)"
   ]
  },
  {
   "cell_type": "code",
   "execution_count": 1,
   "metadata": {},
   "outputs": [],
   "source": [
    "# Vamos começar criando algumas funções e uma lista\n",
    "\n",
    "def quadrado(x):\n",
    "    return x**2\n",
    "\n",
    "def cubo(x):\n",
    "    return x**3\n",
    "\n",
    "lista = [2, 3, 4, 5, 6, 7]"
   ]
  },
  {
   "cell_type": "code",
   "execution_count": 2,
   "metadata": {},
   "outputs": [
    {
     "data": {
      "text/plain": [
       "<map at 0x5a25208>"
      ]
     },
     "execution_count": 2,
     "metadata": {},
     "output_type": "execute_result"
    }
   ],
   "source": [
    "# Vamos então aplicar a função 'quadrado' em cada elemento da lista, utilizando a função map:\n",
    "map(cubo, lista)"
   ]
  },
  {
   "cell_type": "code",
   "execution_count": 3,
   "metadata": {},
   "outputs": [
    {
     "data": {
      "text/plain": [
       "[8, 27, 64, 125, 216, 343]"
      ]
     },
     "execution_count": 3,
     "metadata": {},
     "output_type": "execute_result"
    }
   ],
   "source": [
    "# A função map foi executada, porém em Python 3 ela retorna  função iterator.\n",
    "# Para visualizar os resultados, devemos converte-la para uma lista, por exemplo.\n",
    "list(map(cubo, lista))"
   ]
  },
  {
   "cell_type": "code",
   "execution_count": 4,
   "metadata": {},
   "outputs": [
    {
     "name": "stdout",
     "output_type": "stream",
     "text": [
      "[4, 9, 16, 25, 36, 49]\n",
      "[8, 27, 64, 125, 216, 343]\n"
     ]
    }
   ],
   "source": [
    "# Executando para as duas funções criadas:\n",
    "print(list(map(quadrado, lista)))\n",
    "print(list(map(cubo, lista)))"
   ]
  },
  {
   "cell_type": "code",
   "execution_count": 5,
   "metadata": {},
   "outputs": [
    {
     "name": "stdout",
     "output_type": "stream",
     "text": [
      "[4, 9, 16, 25, 36, 49]\n",
      "[8, 27, 64, 125, 216, 343]\n"
     ]
    }
   ],
   "source": [
    "# Podemos também em vez de criar uma função, usar o lambda, deixando o código mais enxuto:\n",
    "print(list(map(lambda x: x**2, lista)))\n",
    "print(list(map(lambda x: x**3, lista)))"
   ]
  }
 ],
 "metadata": {
  "kernelspec": {
   "display_name": "Python 3",
   "language": "python",
   "name": "python3"
  },
  "language_info": {
   "codemirror_mode": {
    "name": "ipython",
    "version": 3
   },
   "file_extension": ".py",
   "mimetype": "text/x-python",
   "name": "python",
   "nbconvert_exporter": "python",
   "pygments_lexer": "ipython3",
   "version": "3.6.4"
  }
 },
 "nbformat": 4,
 "nbformat_minor": 2
}
