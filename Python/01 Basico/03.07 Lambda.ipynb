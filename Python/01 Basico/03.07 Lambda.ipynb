{
 "cells": [
  {
   "cell_type": "markdown",
   "metadata": {},
   "source": [
    "# Lambda"
   ]
  },
  {
   "cell_type": "markdown",
   "metadata": {},
   "source": [
    "Funções Lambda permitem criar funções \"anonimas\". Iso significa que podemos fazer rapidamente funções ad-hoc sem a necessidade de definir uma função usando a palavra reservada def.  \n",
    "Objetos de função desenvolvidos executando lambda funcionam exatamente da mesma forma como aquele criados e atribuídos pela palavra reservada def. Há algumas diferenças fundamentais que fazem lambda útil em funções especializadas:  \n",
    "* O corpo do lambda é uma única expressão, não um bloco de instruções.  \n",
    "* Expressões lambda são usadas para criar funções simples, também chamadas de funções in-line  \n",
    "* Cria um objeto, mas o retorna como um resultado em tempo de execução  \n",
    "* Lambda é uma palavra reservada  \n",
    "\n",
    "Exemplo:  \n",
    "lambda argument: manipulate(argument)"
   ]
  },
  {
   "cell_type": "code",
   "execution_count": 1,
   "metadata": {},
   "outputs": [
    {
     "data": {
      "text/plain": [
       "10"
      ]
     },
     "execution_count": 1,
     "metadata": {},
     "output_type": "execute_result"
    }
   ],
   "source": [
    "#Definindo uma expressão Lambda:\n",
    "adicao = lambda x, y, z: x + y + z\n",
    "\n",
    "adicao(3, 5, 2)"
   ]
  },
  {
   "cell_type": "code",
   "execution_count": 2,
   "metadata": {},
   "outputs": [
    {
     "data": {
      "text/plain": [
       "[5, 4, 3, 2, 1]"
      ]
     },
     "execution_count": 2,
     "metadata": {},
     "output_type": "execute_result"
    }
   ],
   "source": [
    "#Podemos, por exemplo, utilizar outras funções com o lambda, como por exemplo o slice inverso:\n",
    "x = [1,2,3,4,5]\n",
    "\n",
    "inverte = lambda x: x[::-1]\n",
    "\n",
    "inverte(x)"
   ]
  }
 ],
 "metadata": {
  "kernelspec": {
   "display_name": "Python 3",
   "language": "python",
   "name": "python3"
  },
  "language_info": {
   "codemirror_mode": {
    "name": "ipython",
    "version": 3
   },
   "file_extension": ".py",
   "mimetype": "text/x-python",
   "name": "python",
   "nbconvert_exporter": "python",
   "pygments_lexer": "ipython3",
   "version": "3.6.4"
  }
 },
 "nbformat": 4,
 "nbformat_minor": 2
}
