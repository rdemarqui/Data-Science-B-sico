{
 "cells": [
  {
   "cell_type": "markdown",
   "metadata": {},
   "source": [
    "# Funções"
   ]
  },
  {
   "cell_type": "markdown",
   "metadata": {},
   "source": [
    "Função é um dispositivo que agrupa um conjunto de instruções para que elas possam ser executadas mais de uma vez. Funções também permitem especificar os parâmetros que podem servir como entrada.  \n",
    "Em um nível mais fundamental, a construção de funções nos permite reutilizar código, sem ter que escrevê-lo novamente. Com funções, escrevemos o código uma única vez e repetimos a mesma instrução, fazendo a chamada à função quantas vezes forem necessárias.  \n",
    "\n",
    "O formato geral de uma função é:  \n",
    "\n",
    "def nome_da_funcao(arg1, arg2, ...):  \n",
    "&nbsp;&nbsp;&nbsp;&nbsp;'Aqui vão os comentários, documentando a função'  \n",
    "&nbsp;&nbsp;&nbsp;&nbsp;Aqui vai o código  \n",
    "&nbsp;&nbsp;&nbsp;&nbsp;Retorno desejado pela função  \n",
    "\n",
    "Funções são declaradas com a palavra chave \"def\" e retorna valores com a palavra chave \"return\":  \n",
    "\n",
    "**Existem 3 tipos de funções:**  \n",
    "\n",
    "**Funções built-in** Como o nome sugere, estas funções vêm com a linguagem Python, por exemplo, help () para pedir ajuda, max () - para obter valor máximo, type () - para retornar o tipo de um objeto e muitos mais.\n",
    "Aqui você acha uma lista com todas as funções Built-in em Python:  \n",
    "https://docs.python.org/3.3/library/functions.html\n",
    "\n",
    "**Funções definidas pelo usuário** Estas são as funções que os usuários criam para ajudá-las, como a função “sum” que criamos acima.\n",
    "\n",
    "**Funções anônimas** Também chamadas de **funções lambda** e, ao contrário da função normal, que é definida usando a palavra-chave def, são definidas usando a palavra-chave lambda."
   ]
  },
  {
   "cell_type": "code",
   "execution_count": 1,
   "metadata": {},
   "outputs": [
    {
     "name": "stdout",
     "output_type": "stream",
     "text": [
      "Hello World\n"
     ]
    }
   ],
   "source": [
    "# Definindo uma função\n",
    "def primeiraFunc():\n",
    "    print('Hello World')\n",
    "\n",
    "primeiraFunc()   # Chamando a função"
   ]
  },
  {
   "cell_type": "code",
   "execution_count": 2,
   "metadata": {},
   "outputs": [
    {
     "name": "stdout",
     "output_type": "stream",
     "text": [
      "Olá Aluno\n"
     ]
    }
   ],
   "source": [
    "# Definindo uma função com parâmetro\n",
    "def primeiraFunc(nome):\n",
    "    print('Olá ' + nome)\n",
    "    \n",
    "primeiraFunc('Aluno')   # Chamando a função"
   ]
  },
  {
   "cell_type": "code",
   "execution_count": 3,
   "metadata": {},
   "outputs": [
    {
     "name": "stdout",
     "output_type": "stream",
     "text": [
      "Número 0\n",
      "Número 1\n",
      "Número 2\n",
      "Número 3\n",
      "Número 4\n"
     ]
    }
   ],
   "source": [
    "#Utilizando loop dentro de uma função\n",
    "def funcLeitura():\n",
    "    for i in range(0, 5):\n",
    "        print(\"Número \" + str(i))\n",
    "\n",
    "funcLeitura()   # Chamando a função"
   ]
  },
  {
   "cell_type": "code",
   "execution_count": 4,
   "metadata": {},
   "outputs": [
    {
     "name": "stdout",
     "output_type": "stream",
     "text": [
      "Primeiro número: 45\n",
      "Segundo número: 3\n",
      "Soma:  48\n"
     ]
    }
   ],
   "source": [
    "# Função para somar números\n",
    "def addNum(firstnum, secondnum):\n",
    "    print(\"Primeiro número: \" + str(firstnum))\n",
    "    print(\"Segundo número: \" + str(secondnum))\n",
    "    print(\"Soma: \", firstnum + secondnum)\n",
    "    \n",
    "addNum(45, 3)   # Chamando a função e passando parâmetros"
   ]
  },
  {
   "cell_type": "code",
   "execution_count": 5,
   "metadata": {},
   "outputs": [
    {
     "name": "stdout",
     "output_type": "stream",
     "text": [
      "1\n",
      "3\n",
      "5\n",
      "7\n",
      "9\n",
      "11\n",
      "13\n",
      "15\n",
      "17\n",
      "19\n"
     ]
    }
   ],
   "source": [
    "#Definindo uma função de sequencia de numeros impares:\n",
    "def impar(n):\n",
    "    x=1\n",
    "    while n >= x:\n",
    "        if x % 2 != 0:\n",
    "            print (x)\n",
    "        x+= 1\n",
    "        \n",
    "impar(20)"
   ]
  },
  {
   "cell_type": "code",
   "execution_count": 6,
   "metadata": {},
   "outputs": [
    {
     "data": {
      "text/plain": [
       "[0, 1, 1, 2, 3, 5, 8, 13, 21, 34, 55, 89, 144, 233, 377]"
      ]
     },
     "execution_count": 6,
     "metadata": {},
     "output_type": "execute_result"
    }
   ],
   "source": [
    "#Definindo uma função que calcule a série de Fibonacci\n",
    "def fibs(num):\n",
    "    result = [0, 1]\n",
    "    for i in range(num-2):\n",
    "        result.append(result[-2] + result[-1])\n",
    "    return result       #Os nomes num e result são arbitrários neste exemplo, mas a return é importante.\n",
    "                        #A instrução return é usada para retornar algo da função.\n",
    "\n",
    "fibs(15)"
   ]
  },
  {
   "cell_type": "markdown",
   "metadata": {},
   "source": [
    "## Variáveis locais e globais"
   ]
  },
  {
   "cell_type": "markdown",
   "metadata": {},
   "source": [
    "Funções podem acessar variáveis em dois escopos diferentes: global e local. Um nome alternativo e mais descritivo que descreve o escopo de uma variável no Python é o namespace. Quaisquer variáveis atribuídas dentro de uma função por padrão são atribuídas ao namespace local. O namespace local é criado quando a função é chamada e imediatamente preenchida pelos argumentos da função.   Após a conclusão da função, o namespace local é destruído (com algumas exceções)."
   ]
  },
  {
   "cell_type": "code",
   "execution_count": 7,
   "metadata": {},
   "outputs": [
    {
     "name": "stdout",
     "output_type": "stream",
     "text": [
      "6\n"
     ]
    }
   ],
   "source": [
    "var_global = 10  # Esta é uma variável global\n",
    "\n",
    "def multiply(num1, num2):\n",
    "    var_local = num1 * num2   # Esta é uma variável local\n",
    "    print(var_local)\n",
    "\n",
    "multiply(2, 3)"
   ]
  },
  {
   "cell_type": "code",
   "execution_count": 8,
   "metadata": {},
   "outputs": [
    {
     "data": {
      "text/plain": [
       "10"
      ]
     },
     "execution_count": 8,
     "metadata": {},
     "output_type": "execute_result"
    }
   ],
   "source": [
    "#Imprimindo a variável Global\n",
    "var_global"
   ]
  },
  {
   "cell_type": "code",
   "execution_count": 9,
   "metadata": {},
   "outputs": [
    {
     "ename": "NameError",
     "evalue": "name 'var_local' is not defined",
     "output_type": "error",
     "traceback": [
      "\u001b[1;31m---------------------------------------------------------------------------\u001b[0m",
      "\u001b[1;31mNameError\u001b[0m                                 Traceback (most recent call last)",
      "\u001b[1;32m<ipython-input-9-550980299616>\u001b[0m in \u001b[0;36m<module>\u001b[1;34m()\u001b[0m\n\u001b[0;32m      1\u001b[0m \u001b[1;31m#Imprimindo a variável local da função multiply\u001b[0m\u001b[1;33m\u001b[0m\u001b[1;33m\u001b[0m\u001b[0m\n\u001b[1;32m----> 2\u001b[1;33m \u001b[0mvar_local\u001b[0m \u001b[1;31m#Como dito na explicação anterior a variável local é descartada após a execução da função, retornando erro\u001b[0m\u001b[1;33m\u001b[0m\u001b[0m\n\u001b[0m",
      "\u001b[1;31mNameError\u001b[0m: name 'var_local' is not defined"
     ]
    }
   ],
   "source": [
    "#Imprimindo a variável local da função multiply\n",
    "var_local #Como dito na explicação anterior a variável local é descartada após a execução da função, retornando erro"
   ]
  },
  {
   "cell_type": "code",
   "execution_count": 10,
   "metadata": {},
   "outputs": [],
   "source": [
    "#Caso queiramos acessar a variável local de um loop, devemos defini-la como global:\n",
    "def multiply(num1, num2):\n",
    "    global var_local          #Definimos uma variável local como global\n",
    "    var_local = num1 * num2"
   ]
  },
  {
   "cell_type": "code",
   "execution_count": 11,
   "metadata": {},
   "outputs": [
    {
     "data": {
      "text/plain": [
       "6"
      ]
     },
     "execution_count": 11,
     "metadata": {},
     "output_type": "execute_result"
    }
   ],
   "source": [
    "multiply(2,3)   #Inserindo valores para os parâmetros da função\n",
    "var_local       #Chamando a variável de dentro da função. Como ela foi declarada como global, o python trará o resultado."
   ]
  },
  {
   "cell_type": "markdown",
   "metadata": {},
   "source": [
    "## Return"
   ]
  },
  {
   "cell_type": "markdown",
   "metadata": {},
   "source": [
    "A instrução return diz à função qual valor a ser retornado após a execução.\n",
    "Abaixo algumas referências:  \n",
    "\n",
    "Referências  \n",
    "http://book.pythontips.com/en/latest/global_&_return.html  \n",
    "https://www.vivaolinux.com.br/topico/Python/diferenca-entre-print-e-return-no-python"
   ]
  },
  {
   "cell_type": "code",
   "execution_count": 12,
   "metadata": {},
   "outputs": [],
   "source": [
    "#Na função abaixo, colocaremos o return no meio do código, e solicitaremos à função para retornar o valor 2:\n",
    "def test():\n",
    "    print('This is printed')\n",
    "    return 2\n",
    "    print('This is not')"
   ]
  },
  {
   "cell_type": "code",
   "execution_count": 13,
   "metadata": {},
   "outputs": [
    {
     "name": "stdout",
     "output_type": "stream",
     "text": [
      "This is printed\n"
     ]
    }
   ],
   "source": [
    "#Quando atribuímos a função à variável x, o código foi encerrado no return, não trazendo a segunda linha de print:\n",
    "x = test()"
   ]
  },
  {
   "cell_type": "code",
   "execution_count": 14,
   "metadata": {},
   "outputs": [
    {
     "data": {
      "text/plain": [
       "2"
      ]
     },
     "execution_count": 14,
     "metadata": {},
     "output_type": "execute_result"
    }
   ],
   "source": [
    "#Avaliando o valor de x, vemos que sua saída se trata do valor indicado no return:\n",
    "x"
   ]
  },
  {
   "cell_type": "code",
   "execution_count": 15,
   "metadata": {},
   "outputs": [
    {
     "name": "stdout",
     "output_type": "stream",
     "text": [
      "This is printed\n"
     ]
    },
    {
     "data": {
      "text/plain": [
       "2"
      ]
     },
     "execution_count": 15,
     "metadata": {},
     "output_type": "execute_result"
    }
   ],
   "source": [
    "#Analisando a função, vemos que ela traz a execução da função print e tabém nos traz o valor de saída 2, indicada no código:\n",
    "test()"
   ]
  },
  {
   "cell_type": "markdown",
   "metadata": {},
   "source": [
    "## Documentando as funções"
   ]
  },
  {
   "cell_type": "markdown",
   "metadata": {},
   "source": [
    "Documentar as funções pode ajudar a ooutras pessoas a entende-la. Podemos documentar utilizando #, ou também utilizando strings.\n",
    "Documentação através de strings, após a função def, é chamada de docstring e podemos acessá-la utilizando alguns atributos especiais."
   ]
  },
  {
   "cell_type": "code",
   "execution_count": 16,
   "metadata": {},
   "outputs": [],
   "source": [
    "def square(x):\n",
    "    'Calculates the square of the number x.'\n",
    "    return x * x"
   ]
  },
  {
   "cell_type": "code",
   "execution_count": 17,
   "metadata": {},
   "outputs": [
    {
     "data": {
      "text/plain": [
       "'Calculates the square of the number x.'"
      ]
     },
     "execution_count": 17,
     "metadata": {},
     "output_type": "execute_result"
    }
   ],
   "source": [
    "#Podemos acessar através do atributo __doc__\n",
    "square.__doc__"
   ]
  },
  {
   "cell_type": "code",
   "execution_count": 19,
   "metadata": {},
   "outputs": [
    {
     "name": "stdout",
     "output_type": "stream",
     "text": [
      "Help on function square in module __main__:\n",
      "\n",
      "square(x)\n",
      "    Calculates the square of the number x.\n",
      "\n"
     ]
    }
   ],
   "source": [
    "#Também podemos acessar a docstring através do comando help\n",
    "help(square)"
   ]
  }
 ],
 "metadata": {
  "kernelspec": {
   "display_name": "Python 3",
   "language": "python",
   "name": "python3"
  },
  "language_info": {
   "codemirror_mode": {
    "name": "ipython",
    "version": 3
   },
   "file_extension": ".py",
   "mimetype": "text/x-python",
   "name": "python",
   "nbconvert_exporter": "python",
   "pygments_lexer": "ipython3",
   "version": "3.6.5"
  }
 },
 "nbformat": 4,
 "nbformat_minor": 2
}
