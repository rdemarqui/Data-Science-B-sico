{
 "cells": [
  {
   "cell_type": "markdown",
   "metadata": {},
   "source": [
    "# Função Reduce"
   ]
  },
  {
   "cell_type": "markdown",
   "metadata": {},
   "source": [
    "Ao contrário da função map que aplica a função a cada elemento da sequencia e retorna outra sequancia de elementos, a função reduce aplica a função passada como parâmetro aos elementos da sequencia, até que reste apenas um elemento.  \n",
    "Os conceitos do map e reduce são a essência de frameworks Apache Haddop e Apache Spark, dois dos principais frameworks para processamento de big data.  \n",
    "\n",
    "A função reduce recebe 2 argumentos:  \n",
    "* Uma função  \n",
    "* Uma sequencia  \n",
    "\n",
    "Sintaxe:  \n",
    "&nbsp;&nbsp;&nbsp;&nbsp;reduce(função, sequencia)  \n",
    "\n",
    "Obs.: Apesar de ser uma função built-in o reduce necessita ser importado a partir do pacote functools"
   ]
  },
  {
   "cell_type": "code",
   "execution_count": 1,
   "metadata": {},
   "outputs": [],
   "source": [
    "# Importando a função reduce do módulo functools\n",
    "from functools import reduce"
   ]
  },
  {
   "cell_type": "code",
   "execution_count": 2,
   "metadata": {},
   "outputs": [
    {
     "name": "stdout",
     "output_type": "stream",
     "text": [
      "Elementos da lista:  [0, 1, 2, 3, 4, 5, 6, 7, 8, 9, 10]\n",
      "Resposta do reduce:  55\n",
      "Resposta usando a função built-in sum:  55\n"
     ]
    }
   ],
   "source": [
    "# Verificando o funcionamento do reduce\n",
    "\n",
    "def somar (x, y):            # Definindo uma função \n",
    "    return x+y\n",
    "\n",
    "lista = list(range(0, 11))   # Gerando uma lista\n",
    "print('Elementos da lista: ', lista)\n",
    "\n",
    "print('Resposta do reduce: ', reduce(somar, lista))           # Utilizando reduce para somar todos os elementos da lista\n",
    "print('Resposta usando a função built-in sum: ', sum(lista))  # Utilizando a função sum para comparar a resposta"
   ]
  },
  {
   "cell_type": "code",
   "execution_count": 3,
   "metadata": {},
   "outputs": [
    {
     "name": "stdout",
     "output_type": "stream",
     "text": [
      "Método1:  55\n",
      "Método2:  55\n"
     ]
    }
   ],
   "source": [
    "# Utilizando a função reduce com lambda\n",
    "\n",
    "somar2 = lambda x,y: x+y  # Atribuindo lambda à uma variável\n",
    "\n",
    "print('Método1: ', reduce(somar2, lista))           # Utilizando a variável na função reduce. \n",
    "print('Método2: ', reduce(lambda x,y: x+y, lista))  # Também poderíamos aplicar lambda diretamente na função."
   ]
  }
 ],
 "metadata": {
  "kernelspec": {
   "display_name": "Python 3",
   "language": "python",
   "name": "python3"
  },
  "language_info": {
   "codemirror_mode": {
    "name": "ipython",
    "version": 3
   },
   "file_extension": ".py",
   "mimetype": "text/x-python",
   "name": "python",
   "nbconvert_exporter": "python",
   "pygments_lexer": "ipython3",
   "version": "3.6.4"
  }
 },
 "nbformat": 4,
 "nbformat_minor": 2
}
