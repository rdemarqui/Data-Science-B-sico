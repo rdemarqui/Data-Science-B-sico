{
 "cells": [
  {
   "cell_type": "markdown",
   "metadata": {},
   "source": [
    "## Principais Conceitos da POO (Programação Orientada à Objetos)"
   ]
  },
  {
   "cell_type": "markdown",
   "metadata": {},
   "source": [
    "* **Classes**  \n",
    "Podemos pensar na classe como um 'template' que associa dados (atributos) e operações (métodos) numa só estrutura. Podemos criar objetos que possuam as mesmas características desse 'template' instanciando a classe.\n",
    "* **Objetos**  \n",
    "O objeto é uma instância de uma classe que por sua vez possui atributos que são características ou propriedades desse objeto.\n",
    "* **Atributos**  \n",
    "São características ou propriedades que ajudam a identificar os objetos.\n",
    "* **Métodos**  \n",
    "Métodos são ações do objeto, nada mais são que **funções dentro de uma classe** e tem como objetivo manipular os atributos do objeto.\n",
    "* **Mensagem**  \n",
    "Mensagem é uma chamada ao objeto para invocar um de seus métodos.\n",
    "* **Herança**  \n",
    "É o mecanismo pela qual uma classe, chamada subclasse, pode extender uma outra classe chamada de superclasse, aplicando seu atributos e métodos, ou seja, a subclasse herda atributos e métodos da superclasse. A herança possibilita que as classes compartilhem seus atributos métodos e outros membros dentro da classe em si.\n",
    "* **Polimorfismo**  \n",
    "Podemos definir o polimorfismo pelo princípio a paartir do qual as classes derivadas de uma única classe basesão capazez de evocar os métodos que embora apresentam a mesma definição comportam-se de maneira diferente para cada uma das classes derivadas. Com polimorfismo os mesmo atributos e métodos podem ser utilizados em objetos distintos, porém com interpretações lógicas diferentes.\n",
    "* **Encapsulamento**  \n",
    "É o método que faz com que detalhes internos do funcionamento do método de uma classe permanecam ocultos para os objetos. Essa é uma característica importante quando criamos aplicações orientadas a objetos, principalmente APIs. Por conta dessa técnica o conhecimento a respeito da da implmentação interna da classe é desnecessário do ponto de vista do objeto uma vez que isso passa a ser reponsabilidade dos métodos internos daquela classe.\n",
    "\n",
    "Um bom tutorial a respeito de metodos, classes e instâncias: http://pythonclub.com.br/introducao-classes-metodos-python-basico.html"
   ]
  },
  {
   "cell_type": "markdown",
   "metadata": {},
   "source": [
    "### Em Python TUDO é objeto, com métodos e atributos\n",
    "#### Método - realiza ação no objeto\n",
    "#### Atributo - característica do objeto"
   ]
  },
  {
   "cell_type": "markdown",
   "metadata": {},
   "source": [
    "### Classes  \n",
    "Para criar uma classe, utiliza-se a palavra reservada class. O nome da sua classe segue a mesma convenção de nomes para criação de funções e variáveis, mas normalmente se usa a primeira letra maiúscula em cada palavra no nome da classe.  \n",
    "\n",
    "**Estrutura**  \n",
    "class NomeDaClasse( ):  \n",
    "&nbsp;&nbsp;&nbsp;&nbsp;\"Descrição opcional da classe\"  \n",
    "&nbsp;&nbsp;&nbsp;&nbsp;def \\__init__(self, atr1, atr2):  \n",
    "&nbsp;&nbsp;&nbsp;&nbsp;&nbsp;&nbsp;&nbsp;&nbsp;Instruções do construtor  \n",
    "\n",
    "&nbsp;&nbsp;&nbsp;&nbsp;def metodo1(self, atr1, atr2):  \n",
    "&nbsp;&nbsp;&nbsp;&nbsp;&nbsp;&nbsp;&nbsp;&nbsp;Instruções do método1  \n",
    "\n",
    "**Nota:** Parênteses após a definição de uma classe são usados para indicar herança. Caso não seja necessária a utilização de herança nas subclasses, pode-se declarar uma classe utilizando a forma abaixo:  \n",
    "class NomeDaClasse:  \n",
    "&nbsp;&nbsp;&nbsp;&nbsp;Instrução1  \n",
    "&nbsp;&nbsp;&nbsp;&nbsp;Instrução2  \n",
    "\n",
    "**Nota2:** A descrição inserida entre aspas duplas no começo do código, conhecida como \"Docstrings\", também pode ser repetida nos três níveis. Essa descrição ajuda o usuário a entender a o funcionamento das classes e métodos e pode ser consultada através do help(classe). "
   ]
  },
  {
   "cell_type": "markdown",
   "metadata": {},
   "source": [
    "**Métodos**  \n",
    "Os métodos são um pouco parecidos com funções, por isso a sintaxe é parecida. Eles são usados para realizar operações ou manipular os atributos dos nossos objetos.  \n",
    "Podemos criar classes para nossas atividades de análise de dados e criar métodos específicos para cada tarefa, encapsulando nossa lógica de programação.  \n",
    "**Importante  \n",
    "O primeiro argumento de um método se referirá ao objeto que foi instanciado**. Apesar de não ser uma palavra reservada, utiliza-se como convenção a palavra **self** para o primeiro parâmetro argumento do método.\n",
    "Portanto na definição de um método, deve-se incluir como primeiro parâmetro o self, ainda que o método não espere argumentos quando chamado. Quando um método é chamado com um objeto, o interpretador liga o parâmetro self a esse objeto para que o código do método possa se referir ao objeto pelo nome."
   ]
  },
  {
   "cell_type": "code",
   "execution_count": 1,
   "metadata": {},
   "outputs": [
    {
     "data": {
      "text/plain": [
       "'Isso é um teste'"
      ]
     },
     "execution_count": 1,
     "metadata": {},
     "output_type": "execute_result"
    }
   ],
   "source": [
    "# Críando uma classe\n",
    "class NewClass():\n",
    "    # Abaixo, criaremos o método imprimir:\n",
    "    def imprimir(self, x): \n",
    "        self.x = x\n",
    "        return x\n",
    "    \n",
    "# Atribuindo o objeto Classe1 à variável abc\n",
    "abc = NewClass()\n",
    "\n",
    "# Agora que a variável abc possui todos as características do objeto 'Classe1', vamos utilizar o método imprimir:\n",
    "abc.imprimir('Isso é um teste')"
   ]
  },
  {
   "cell_type": "markdown",
   "metadata": {},
   "source": [
    "No exemplo acima, ao instanciarmos a NewClass à variavel abc, atribuímos todas as características dessa classe, tranformando abc em um objeto. Dentro do código da NewClass, onde estiver o parâmetro self o pyhton entenderá que se trata do objeto abc.\n",
    "A linha self.x = x, atribui o valor que for passado para x e o atribui à abc.\n",
    "\n",
    "Quando não incluimos nenhuma declaração de retorno, o método retorna automaticamente o valor None ."
   ]
  },
  {
   "cell_type": "markdown",
   "metadata": {},
   "source": [
    "**Construtores**  \n",
    "O objetivo dos construtores é inicializar um objeto recém-criado em qualquer linguagem orientada a objetos. Eles são automaticamente invocados na criação de um novo objeto.  \n",
    "Em Python, os construtores são criados usando o método \"\\__init__\". Esse método sempre toma \"self\" como o primeiro argumento, que é referência ao objeto que está sendo inicializado. Outros argumentos também podem ser passados após \"self\"."
   ]
  },
  {
   "cell_type": "code",
   "execution_count": 2,
   "metadata": {},
   "outputs": [
    {
     "name": "stdout",
     "output_type": "stream",
     "text": [
      "latitude:  -23.5504686\n",
      "longitude:  -46.6340189\n"
     ]
    }
   ],
   "source": [
    "# Podemos utilizar o construtor para inserir um valor padrão para as variáveis que não tiverem valores atribuídos\n",
    "# No exemplo abaixo, inserimos a coordenada do marco zero de SP, caso não haja inserção dos valores\n",
    "\n",
    "class Coordenadas:\n",
    "    def __init__(self, x=-23.5504686, y=-46.6340189):  #Esse é o construtor, que utiliza o método especial __init__\n",
    "        self.lat = x\n",
    "        self.lon = y\n",
    "        \n",
    "# Em seguida atribuímos a classe à variável\n",
    "saoPaulo = Coordenadas()\n",
    "\n",
    "# Enfim, imprimimos os valores de latitude e longitude\n",
    "print('latitude: ', saoPaulo.lat)\n",
    "print('longitude: ', saoPaulo.lon)"
   ]
  },
  {
   "cell_type": "markdown",
   "metadata": {},
   "source": [
    "**Herança**  \n",
    "Herança é a forma de gerar novas classes usando classes que foram definidas previamente.  \n",
    "Estas novas classes formadas, são chamadas classes derivadas ou sub-classes.  \n",
    "A classe que deu origem a sub-classe, é chamada super-classe ou classe base.  \n",
    "As classes derivadas estendem as funcionalidade das classes base.  \n",
    "Um dos benefícios da herança é a reutilização de código e a redução da complexidade dos programas.   "
   ]
  },
  {
   "cell_type": "code",
   "execution_count": 3,
   "metadata": {},
   "outputs": [],
   "source": [
    "# Primeiramente vamos criar uma super-classe ou classe base.\n",
    "# Nesse exemplo, vamos criar um objeto onde a atribuição de combustivel será sempre gasolina\n",
    "class Veiculo():\n",
    "    def __init__(self, combustivel = 'gasolina'):\n",
    "        self.combustivel = combustivel\n",
    "\n",
    "# Em seguida, vamos criar uma sub-classe ou classe derivada, que herdará os atributos da classe veículo\n",
    "class Carro(Veiculo):\n",
    "    def __init__ (self, portas):\n",
    "        self.portas = portas\n",
    "        Veiculo.__init__(self)           #Utilizando o objeto da classe veículo\n",
    "\n",
    "# Faremos a mesma coisa para a classe moto, porém ela possuirá atributos diferentes da classe Carro, porém\n",
    "# herdará os mesmo atributos da classe Veículo\n",
    "class Moto(Veiculo):\n",
    "    def __init__ (self, cilindradas):\n",
    "        Veiculo.__init__(self)           #Utilizando o objeto da classe veículo\n",
    "        self.cilindradas = cilindradas        "
   ]
  },
  {
   "cell_type": "code",
   "execution_count": 4,
   "metadata": {},
   "outputs": [
    {
     "name": "stdout",
     "output_type": "stream",
     "text": [
      "Categoria carro: 4\n",
      "Categoria veiculo: gasolina\n"
     ]
    }
   ],
   "source": [
    "# Vamos atribuir a classe carro à variável ferrari. Essa classe exige que coloquemos o atributo de portas\n",
    "ferrari = Carro(4)\n",
    "\n",
    "# Vamos agora verificar quais os atributos da ferrari vindos da categoria Carro\n",
    "print('Categoria carro:', ferrari.portas)\n",
    "\n",
    "# Vamos também verificar os atributos herdados da categoria Veiculo\n",
    "print('Categoria veiculo:', ferrari.combustivel)"
   ]
  },
  {
   "cell_type": "code",
   "execution_count": 5,
   "metadata": {},
   "outputs": [
    {
     "name": "stdout",
     "output_type": "stream",
     "text": [
      "Categoria veiculo: gasolina\n",
      "Categoria moto: 1200\n"
     ]
    }
   ],
   "source": [
    "# Vamos fazer o mesmo procedimento para moto. Essa classe exige que coloquemos as cilindradas\n",
    "honda = Moto(1200)\n",
    "\n",
    "# Vamos verificar os atributos herdados:\n",
    "print('Categoria veiculo:', honda.combustivel)\n",
    "print('Categoria moto:', honda.cilindradas)"
   ]
  },
  {
   "cell_type": "markdown",
   "metadata": {},
   "source": [
    "**Métodos Especiais**  \n",
    "Ao usar métodos especiais, sua classe poderá ter um comportamento semelhante  a um dicionário, uma função ou mesmo um número.\n",
    "Podemos distinguir os métodos especiais através de sua sintaxe \\__metodo__.  \n",
    "\n",
    "Quando utilizamos, por exemplo, o print( ), o python faz internamente uma chamada ao método \\__str__.  \n",
    "\n",
    "Tendo isso em mente, podemos então modificar ou extender a saída default do print( ), bastando trabalhar com o método \\__str__ dentro da nossa classe."
   ]
  },
  {
   "cell_type": "markdown",
   "metadata": {},
   "source": [
    "**Outros Exemplos**"
   ]
  },
  {
   "cell_type": "code",
   "execution_count": 6,
   "metadata": {},
   "outputs": [],
   "source": [
    "# Vamos, no exemplo a seguir, montar uma classe para executar soma e subtração. Vamos também trabalhar com o constructor\n",
    "# e modificar o print() através da função especial __str__.\n",
    "\n",
    "class Calculadora:\n",
    "    \"Com essa classe podemos somar e subtrair 2 valores\"\n",
    "    def __init__(self, valor1= 3, valor2= 4):  #Configuramos o construtor para iniciar os atributos com valor\n",
    "        \"Caso não seja atribuído nenhum valor à x e y, as váriaveis ficaraão com valores 1 e 2 respectivamente\"\n",
    "        self.valor1 = valor1\n",
    "        self.valor2 = valor2\n",
    "        print('Valores default atribuídos pelo constructor:', 'x=', valor1, 'y=', valor2)\n",
    "    \n",
    "    def __str__(self):                         #Configuramos a saída do print() para a nossa classe\n",
    "        return \"O valores atribuídos foram v1: %s , v2: %s,\" \\\n",
    "    %(self.valor1, self.valor2)\n",
    "    \n",
    "    def soma(self, valor1, valor2):            #Método criado para somar\n",
    "        \"Soma dois valores\"\n",
    "        resultado = valor1 + valor2\n",
    "        return resultado\n",
    "    \n",
    "    def subtracao(self, valor1, valor2):       #Método criado para subtrair\n",
    "        \"Subtrai dois valores\"\n",
    "        resultado = valor1 - valor2\n",
    "        return resultado"
   ]
  },
  {
   "cell_type": "code",
   "execution_count": 7,
   "metadata": {},
   "outputs": [
    {
     "name": "stdout",
     "output_type": "stream",
     "text": [
      "Help on class Calculadora in module __main__:\n",
      "\n",
      "class Calculadora(builtins.object)\n",
      " |  Com essa classe podemos somar e subtrair 2 valores\n",
      " |  \n",
      " |  Methods defined here:\n",
      " |  \n",
      " |  __init__(self, valor1=3, valor2=4)\n",
      " |      Caso não seja atribuído nenhum valor à x e y, as váriaveis ficaraão com valores 1 e 2 respectivamente\n",
      " |  \n",
      " |  __str__(self)\n",
      " |      Return str(self).\n",
      " |  \n",
      " |  soma(self, valor1, valor2)\n",
      " |      Soma dois valores\n",
      " |  \n",
      " |  subtracao(self, valor1, valor2)\n",
      " |      Subtrai dois valores\n",
      " |  \n",
      " |  ----------------------------------------------------------------------\n",
      " |  Data descriptors defined here:\n",
      " |  \n",
      " |  __dict__\n",
      " |      dictionary for instance variables (if defined)\n",
      " |  \n",
      " |  __weakref__\n",
      " |      list of weak references to the object (if defined)\n",
      "\n"
     ]
    }
   ],
   "source": [
    "# Verificando a documentação da classe criada\n",
    "help(Calculadora)"
   ]
  },
  {
   "cell_type": "code",
   "execution_count": 8,
   "metadata": {},
   "outputs": [
    {
     "name": "stdout",
     "output_type": "stream",
     "text": [
      "Valores default atribuídos pelo constructor: x= 3 y= 4\n"
     ]
    }
   ],
   "source": [
    "# Vamos verificar os valores configurados como padrão pelo constructor\n",
    "calcular = Calculadora()  #Atribuindo a classe à variável"
   ]
  },
  {
   "cell_type": "code",
   "execution_count": 9,
   "metadata": {},
   "outputs": [
    {
     "name": "stdout",
     "output_type": "stream",
     "text": [
      "O valores atribuídos foram v1: 3 , v2: 4,\n"
     ]
    }
   ],
   "source": [
    "#Utilizando o método especial modificado __str__\n",
    "print(calcular)"
   ]
  },
  {
   "cell_type": "code",
   "execution_count": 10,
   "metadata": {},
   "outputs": [
    {
     "name": "stdout",
     "output_type": "stream",
     "text": [
      "Soma: 11\n",
      "Subtração: -2\n"
     ]
    }
   ],
   "source": [
    "# Abaixo vamos testar a classe criada\n",
    "print('Soma:', calcular.soma(5, 6))\n",
    "print('Subtração:', calcular.subtracao(3, 5))"
   ]
  }
 ],
 "metadata": {
  "kernelspec": {
   "display_name": "Python 3",
   "language": "python",
   "name": "python3"
  },
  "language_info": {
   "codemirror_mode": {
    "name": "ipython",
    "version": 3
   },
   "file_extension": ".py",
   "mimetype": "text/x-python",
   "name": "python",
   "nbconvert_exporter": "python",
   "pygments_lexer": "ipython3",
   "version": "3.6.5"
  }
 },
 "nbformat": 4,
 "nbformat_minor": 2
}
