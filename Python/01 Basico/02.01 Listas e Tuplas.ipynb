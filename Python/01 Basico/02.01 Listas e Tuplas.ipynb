{
 "cells": [
  {
   "cell_type": "markdown",
   "metadata": {},
   "source": [
    "# Listas e Tuplas"
   ]
  },
  {
   "cell_type": "markdown",
   "metadata": {},
   "source": [
    "A diferença entre lista e tupla é que podemos alterar a primeira, enquanto que a segunda não. Por essa característica em nossos códigos provavelmente utilizaremos mais listas do que tuplas.\n",
    "\n",
    "IMPORTANTE: Devemos lembrar que o índice no Python começa em 0.\n",
    "\n",
    "As listas são feitas com conchetes e separadas por vírgula [x, y, z] <- Podem ser modificadas\n",
    "As tuplas são feitas com parênteses e separadas por vírgula (x, y, z) <- Não podem ser modificadas"
   ]
  },
  {
   "cell_type": "code",
   "execution_count": 1,
   "metadata": {},
   "outputs": [],
   "source": [
    "# Criando 1 lista e 1 tupla\n",
    "trapalhoes = ['Didi', 'Dedé', 'Mussum', 'Zacarias']\n",
    "patetas = ('Curly', 'Moe', 'Larry')"
   ]
  },
  {
   "cell_type": "code",
   "execution_count": 2,
   "metadata": {},
   "outputs": [
    {
     "data": {
      "text/plain": [
       "['Curly', 'Moe', 'Larry']"
      ]
     },
     "execution_count": 2,
     "metadata": {},
     "output_type": "execute_result"
    }
   ],
   "source": [
    "# Convertendo de tupla para lista\n",
    "patetas2 = list(patetas)\n",
    "patetas2"
   ]
  },
  {
   "cell_type": "code",
   "execution_count": 3,
   "metadata": {},
   "outputs": [
    {
     "data": {
      "text/plain": [
       "('Didi', 'Dedé', 'Mussum', 'Zacarias')"
      ]
     },
     "execution_count": 3,
     "metadata": {},
     "output_type": "execute_result"
    }
   ],
   "source": [
    "# Convertendo de lista para tupla\n",
    "trapalhoes2 = tuple(trapalhoes)\n",
    "trapalhoes2"
   ]
  },
  {
   "cell_type": "code",
   "execution_count": 4,
   "metadata": {},
   "outputs": [
    {
     "name": "stdout",
     "output_type": "stream",
     "text": [
      "['Didi', 'Dedé', 'Mussum', 'Zacarias']\n"
     ]
    }
   ],
   "source": [
    "# Imprimindo a Lista\n",
    "print(trapalhoes)"
   ]
  },
  {
   "cell_type": "code",
   "execution_count": 5,
   "metadata": {},
   "outputs": [
    {
     "data": {
      "text/plain": [
       "'Didi'"
      ]
     },
     "execution_count": 5,
     "metadata": {},
     "output_type": "execute_result"
    }
   ],
   "source": [
    "# Chamando um elemento da lista\n",
    "trapalhoes[0]"
   ]
  },
  {
   "cell_type": "code",
   "execution_count": 6,
   "metadata": {},
   "outputs": [
    {
     "data": {
      "text/plain": [
       "['Didi', 'Dedé', 'Mussum', 'Zaca']"
      ]
     },
     "execution_count": 6,
     "metadata": {},
     "output_type": "execute_result"
    }
   ],
   "source": [
    "# Atualizando um item da Lista. Não funciona na tupla\n",
    "trapalhoes[3] = 'Zaca'\n",
    "trapalhoes #Imprimindo a lista atualizada"
   ]
  },
  {
   "cell_type": "code",
   "execution_count": 7,
   "metadata": {},
   "outputs": [
    {
     "data": {
      "text/plain": [
       "['Didi', 'Dedé', 'Mussum', 'Zaca', 'Sgt. Pincel']"
      ]
     },
     "execution_count": 7,
     "metadata": {},
     "output_type": "execute_result"
    }
   ],
   "source": [
    "# Adicionando um item à lista. Não funciona na tupla\n",
    "trapalhoes.append(\"Sgt. Pincel\")\n",
    "trapalhoes"
   ]
  },
  {
   "cell_type": "code",
   "execution_count": 8,
   "metadata": {},
   "outputs": [
    {
     "data": {
      "text/plain": [
       "['Didi', 'Dedé', 'Mussum', 'Zaca']"
      ]
     },
     "execution_count": 8,
     "metadata": {},
     "output_type": "execute_result"
    }
   ],
   "source": [
    "# Retirando um item da Lista. Não funciona na tupla\n",
    "del trapalhoes[4]\n",
    "trapalhoes"
   ]
  },
  {
   "cell_type": "code",
   "execution_count": 9,
   "metadata": {},
   "outputs": [
    {
     "data": {
      "text/plain": [
       "['Didi', 'Dedé', 'Tatá', 'Mussum', 'Zaca']"
      ]
     },
     "execution_count": 9,
     "metadata": {},
     "output_type": "execute_result"
    }
   ],
   "source": [
    "# Inserindo um elemento em uma posição específica da lista. Não funciona na tupla\n",
    "trapalhoes.insert(2, 'Tatá')\n",
    "trapalhoes"
   ]
  },
  {
   "cell_type": "code",
   "execution_count": 10,
   "metadata": {},
   "outputs": [
    {
     "data": {
      "text/plain": [
       "['Didi', 'Dedé', 'Mussum', 'Zaca']"
      ]
     },
     "execution_count": 10,
     "metadata": {},
     "output_type": "execute_result"
    }
   ],
   "source": [
    "# Remove um item pelo seu valor, não pela posição. Não funciona na tupla\n",
    "trapalhoes.remove('Tatá')\n",
    "trapalhoes"
   ]
  },
  {
   "cell_type": "code",
   "execution_count": 11,
   "metadata": {},
   "outputs": [
    {
     "name": "stdout",
     "output_type": "stream",
     "text": [
      "['Didi', 'Dedé', 'Mussum', 'Zaca', 'Curly', 'Moe', 'Larry']\n"
     ]
    }
   ],
   "source": [
    "# Concatenando listas\n",
    "humor = trapalhoes + patetas2\n",
    "print(humor)"
   ]
  },
  {
   "cell_type": "code",
   "execution_count": 12,
   "metadata": {},
   "outputs": [
    {
     "name": "stdout",
     "output_type": "stream",
     "text": [
      "['Mussum', 'Zaca', 'Curly', 'Moe', 'Larry']\n",
      "['Didi', 'Dedé']\n",
      "['Zaca', 'Curly', 'Moe']\n",
      "['Larry', 'Moe', 'Curly', 'Zaca', 'Mussum', 'Dedé', 'Didi']\n"
     ]
    }
   ],
   "source": [
    "# Slicing\n",
    "print(humor[2:]) #Equivalente à right no Excel. Inclui o elemento à esquerda\n",
    "print(humor[:2]) #Equivalente à left no Excel. Não inclui o elemento à direita\n",
    "print(humor[3:6]) #Equivalente à mid no Excel\n",
    "print(humor[::-1]) #Invertendo a sequência"
   ]
  },
  {
   "cell_type": "code",
   "execution_count": 13,
   "metadata": {},
   "outputs": [
    {
     "data": {
      "text/plain": [
       "[['Didi', 'Dedé', 'Mussum', 'Zaca'], ['Curly', 'Moe', 'Larry']]"
      ]
     },
     "execution_count": 13,
     "metadata": {},
     "output_type": "execute_result"
    }
   ],
   "source": [
    "# Aninhando Listas.\n",
    "# Obs.: É possível aninhar uma tupla e uma lista dentro de uma mesma lista\n",
    "humor2 = [trapalhoes, patetas2]\n",
    "humor2"
   ]
  },
  {
   "cell_type": "code",
   "execution_count": 14,
   "metadata": {},
   "outputs": [
    {
     "data": {
      "text/plain": [
       "'Curly'"
      ]
     },
     "execution_count": 14,
     "metadata": {},
     "output_type": "execute_result"
    }
   ],
   "source": [
    "# Buscando o primeiro valor do segundo elemento da lista aninhada\n",
    "humor2[1][0]"
   ]
  },
  {
   "cell_type": "code",
   "execution_count": 15,
   "metadata": {},
   "outputs": [
    {
     "name": "stdout",
     "output_type": "stream",
     "text": [
      "False <- Sgt Pincel\n",
      "True <- Mussum\n"
     ]
    }
   ],
   "source": [
    "# Verificando se Sgt Pincel pertence à lista e em seguida se Mussum pertence\n",
    "print('Sgt Pincel' in trapalhoes, '<- Sgt Pincel')\n",
    "print('Mussum' in trapalhoes, '<- Mussum')"
   ]
  },
  {
   "cell_type": "code",
   "execution_count": 16,
   "metadata": {},
   "outputs": [
    {
     "name": "stdout",
     "output_type": "stream",
     "text": [
      "30  <- função max\n",
      "3  <- função min\n",
      "6  <- função len\n",
      "2  <- função count\n",
      "4  <- busca de valor pelo indice\n",
      "[30, 20, 8, 5, 5, 3]  <- função reverse\n",
      "[3, 5, 5, 8, 20, 30]  <- função sort\n"
     ]
    }
   ],
   "source": [
    "# É possível executar Funções Built-in com listas, tais como: Max, Min, Len, Count, Index, Reverse e Sort\n",
    "lista = [3, 5, 5, 8, 20, 30]\n",
    "print(max(lista), ' <- função max')\n",
    "print(min(lista), ' <- função min')\n",
    "print(len(lista), ' <- função len')\n",
    "print(lista.count(5), ' <- função count') #Contando o número de vezes que o 5 aparece na lista\n",
    "print(humor.index('Curly'), ' <- busca de valor pelo indice') #Retorna o valor do índice da palavra buscada Curly\n",
    "lista.reverse()\n",
    "print(lista, ' <- função reverse')\n",
    "lista.sort()\n",
    "print(lista, ' <- função sort')"
   ]
  }
 ],
 "metadata": {
  "kernelspec": {
   "display_name": "Python 3",
   "language": "python",
   "name": "python3"
  },
  "language_info": {
   "codemirror_mode": {
    "name": "ipython",
    "version": 3
   },
   "file_extension": ".py",
   "mimetype": "text/x-python",
   "name": "python",
   "nbconvert_exporter": "python",
   "pygments_lexer": "ipython3",
   "version": "3.6.5"
  }
 },
 "nbformat": 4,
 "nbformat_minor": 2
}
