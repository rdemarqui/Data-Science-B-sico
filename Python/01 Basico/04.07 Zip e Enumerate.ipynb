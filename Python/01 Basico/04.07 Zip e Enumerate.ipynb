{
 "cells": [
  {
   "cell_type": "markdown",
   "metadata": {},
   "source": [
    "# Função Zip"
   ]
  },
  {
   "cell_type": "markdown",
   "metadata": {},
   "source": [
    "A função zip() agrega os valores de duas sequencias e retorna uma tupla.  \n",
    "Essa função também pode ser utilizada quando o número de elementos for diferente em cada sequencia. \n",
    "\n",
    "Sintaxe:  \n",
    "&nbsp;&nbsp;&nbsp;&nbsp;zip(sequencia1, sequencia2)  \n",
    "\n",
    "IMPORTANTE\n",
    "Devemos nos atentar que o objeto resultante terá a quantidade de elementos referente à menor lista.  \n",
    "Ex.:  \n",
    "zip([1, 2, 3, 4], [1, 2, 3])  \n",
    "(1, 1) (2, 2) (3, 3)\n"
   ]
  },
  {
   "cell_type": "code",
   "execution_count": 1,
   "metadata": {},
   "outputs": [
    {
     "data": {
      "text/plain": [
       "[(1, 4), (2, 5), (3, 6)]"
      ]
     },
     "execution_count": 1,
     "metadata": {},
     "output_type": "execute_result"
    }
   ],
   "source": [
    "# Criando duas listas\n",
    "a = [1,2,3]\n",
    "b = [4,5,6,7,8]\n",
    "\n",
    "list(zip(a, b)) #Atenção quando as sequências tiverem número diferente de elementos!"
   ]
  },
  {
   "cell_type": "code",
   "execution_count": 2,
   "metadata": {},
   "outputs": [
    {
     "name": "stdout",
     "output_type": "stream",
     "text": [
      "Unindo chaves:  [('a', 'c'), ('b', 'd')]\n",
      "Unindo valores:  [('a', 4), ('b', 5)]\n"
     ]
    }
   ],
   "source": [
    "# Criando 2 dicionários\n",
    "d1 = {'a':1,'b':2}\n",
    "d2 = {'c':4,'d':5}\n",
    "\n",
    "# Zip vai unir as chaves\n",
    "print('Unindo chaves: ', list(zip(d1,d2)))\n",
    "\n",
    "#Zip pode unir os valores (itens)\n",
    "print('Unindo valores: ', list(zip(d1, d2.values())))"
   ]
  },
  {
   "cell_type": "code",
   "execution_count": 3,
   "metadata": {},
   "outputs": [
    {
     "name": "stdout",
     "output_type": "stream",
     "text": [
      "anne is 12 years old\n",
      "beth is 45 years old\n",
      "george is 32 years old\n",
      "damon is 102 years old\n"
     ]
    }
   ],
   "source": [
    "# Utilizando zip com loop for\n",
    "names = ['anne', 'beth', 'george', 'damon']\n",
    "ages = [12, 45, 32, 102]\n",
    "\n",
    "for name, age in zip(names, ages):\n",
    "    print(name, 'is', age, 'years old')"
   ]
  },
  {
   "cell_type": "markdown",
   "metadata": {},
   "source": [
    "# Função Enumerate"
   ]
  },
  {
   "cell_type": "markdown",
   "metadata": {},
   "source": [
    "A função enumerate() permite retornar o índice de cada valor em uma sequencia, à medida que percorre toda a sequencia.  \n",
    "Enumerate retorna uma tupla no formato tupla (índice, valor).\n",
    "\n",
    "Sintaxe:  \n",
    "&nbsp;&nbsp;&nbsp;&nbsp;enumerate(sequencia)"
   ]
  },
  {
   "cell_type": "code",
   "execution_count": 4,
   "metadata": {},
   "outputs": [
    {
     "name": "stdout",
     "output_type": "stream",
     "text": [
      "0 a\n",
      "1 b\n",
      "2 c\n"
     ]
    }
   ],
   "source": [
    "# Criando uma lista\n",
    "seq = ['a','b','c']\n",
    "\n",
    "# Imprimindo os valores de uma lista com a função enumerate() e seus respectivos índices\n",
    "for indice, valor in enumerate(seq):\n",
    "    print (indice, valor)"
   ]
  }
 ],
 "metadata": {
  "kernelspec": {
   "display_name": "Python 3",
   "language": "python",
   "name": "python3"
  },
  "language_info": {
   "codemirror_mode": {
    "name": "ipython",
    "version": 3
   },
   "file_extension": ".py",
   "mimetype": "text/x-python",
   "name": "python",
   "nbconvert_exporter": "python",
   "pygments_lexer": "ipython3",
   "version": "3.6.4"
  }
 },
 "nbformat": 4,
 "nbformat_minor": 2
}
