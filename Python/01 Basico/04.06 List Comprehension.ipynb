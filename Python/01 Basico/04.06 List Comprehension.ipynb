{
 "cells": [
  {
   "cell_type": "markdown",
   "metadata": {},
   "source": [
    "# List Comprehension"
   ]
  },
  {
   "cell_type": "markdown",
   "metadata": {},
   "source": [
    "List Comprehension aplica uma expressão arbitrária (em vez de aplicar apenas ua função) a uma sequencia de dados.  \n",
    "Essa função permite desenvolver listas usando uma notação diferente. Seria essencialmente uma linha de loop for, construída dentro de [ ].  \n",
    "Normalmente se usa loop for quando se trabalha com função map() e utiliza-se list comprehention quando esta for mais fácil de ser aplicada.  \n",
    "\n",
    "Forma básica:  \n",
    "[*expressão* ``for`` *valor* ``in`` *coleção* ``if`` *condição*]\n",
    "\n",
    "**Nota:** Objetos de list comprehention são ligeiramente mais velozes que a função map ou filter."
   ]
  },
  {
   "cell_type": "code",
   "execution_count": 1,
   "metadata": {},
   "outputs": [
    {
     "data": {
      "text/plain": [
       "[0, 1, 4, 9, 16, 25, 36, 49, 64, 81, 100]"
      ]
     },
     "execution_count": 1,
     "metadata": {},
     "output_type": "execute_result"
    }
   ],
   "source": [
    "# Calculando o quadrado de um range de valores\n",
    "lst = [x**2 for x in range(0, 11)]\n",
    "lst"
   ]
  },
  {
   "cell_type": "code",
   "execution_count": 2,
   "metadata": {},
   "outputs": [
    {
     "data": {
      "text/plain": [
       "[0, 2, 4, 6, 8, 10]"
      ]
     },
     "execution_count": 2,
     "metadata": {},
     "output_type": "execute_result"
    }
   ],
   "source": [
    "# Verificar os números pares em um range de números\n",
    "[x for x in range(11) if x % 2 == 0]"
   ]
  },
  {
   "cell_type": "code",
   "execution_count": 3,
   "metadata": {},
   "outputs": [
    {
     "data": {
      "text/plain": [
       "[0, 1, 16, 81, 256, 625, 1296, 2401, 4096, 6561, 10000]"
      ]
     },
     "execution_count": 3,
     "metadata": {},
     "output_type": "execute_result"
    }
   ],
   "source": [
    "# Operações aninhadas\n",
    "[ x**2 for x in [x**2 for x in range(11)]]"
   ]
  },
  {
   "cell_type": "code",
   "execution_count": 4,
   "metadata": {},
   "outputs": [
    {
     "data": {
      "text/plain": [
       "['bbb', 'dddd', 'fff']"
      ]
     },
     "execution_count": 4,
     "metadata": {},
     "output_type": "execute_result"
    }
   ],
   "source": [
    "# Verificando se uma lista de strings possui mais de 2 caracteres\n",
    "\n",
    "lstCar = ['aa', 'bbb', 'c', 'dddd', 'ee', 'fff']\n",
    "\n",
    "[x for x in lstCar if len(x) > 2]"
   ]
  }
 ],
 "metadata": {
  "kernelspec": {
   "display_name": "Python 3",
   "language": "python",
   "name": "python3"
  },
  "language_info": {
   "codemirror_mode": {
    "name": "ipython",
    "version": 3
   },
   "file_extension": ".py",
   "mimetype": "text/x-python",
   "name": "python",
   "nbconvert_exporter": "python",
   "pygments_lexer": "ipython3",
   "version": "3.6.5"
  }
 },
 "nbformat": 4,
 "nbformat_minor": 2
}
