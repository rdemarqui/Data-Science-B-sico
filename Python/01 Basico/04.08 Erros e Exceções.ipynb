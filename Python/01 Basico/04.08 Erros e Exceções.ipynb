{
 "cells": [
  {
   "cell_type": "markdown",
   "metadata": {},
   "source": [
    "# Erros e Exceções"
   ]
  },
  {
   "cell_type": "markdown",
   "metadata": {},
   "source": [
    "Erros estão geralmente associados à sintaxe da linguagem, enquanto exceções estão relacionadas à uma saída não esperada (por exemplo uma divisão por zero).  \n",
    "\n",
    "Podemos tratar exceções em Python da seguinte forma:  \n",
    "try:  \n",
    "&nbsp;&nbsp;&nbsp;&nbsp;aqui vão as operações  \n",
    "except exceção1:  \n",
    "&nbsp;&nbsp;&nbsp;&nbsp;Se houver a exceção1, execute esse bloco  \n",
    "except exceção2:  \n",
    "&nbsp;&nbsp;&nbsp;&nbsp;Se houver a exceção2, execute esse bloco  \n",
    "else:  \n",
    "&nbsp;&nbsp;&nbsp;&nbsp;Se NÂO houver exceção, execute esse bloco  \n",
    "finally:  \n",
    "&nbsp;&nbsp;&nbsp;&nbsp;Executa esse bloco, independentemente das execuções anteriores\n",
    "\n",
    "Uma lista completa de exceções em Python pode ser encontrada no endereço:  \n",
    "https://docs.python.org/3.6/library/exceptions.html"
   ]
  },
  {
   "cell_type": "markdown",
   "metadata": {},
   "source": [
    "## Try, except e finally"
   ]
  },
  {
   "cell_type": "code",
   "execution_count": 1,
   "metadata": {},
   "outputs": [],
   "source": [
    "# Utilizando try e except\n",
    "try:\n",
    "    8 + 's'\n",
    "except TypeError:\n",
    "    print(\"Operação não permitida\")"
   ]
  },
  {
   "cell_type": "code",
   "execution_count": 2,
   "metadata": {},
   "outputs": [],
   "source": [
    "# Utilizando try, except e else\n",
    "try:\n",
    "    f = open('arquivos/testandoerros','r')                       # Tenta abrir um arquivo, caso não encontredará o erro IOERROR  \n",
    "except IOError:                                                  # Usamos o except para tratar esse caso  \n",
    "   print (\"Erro: arquivo não encontrado ou não pode ser lido.\")  # mostra uma mensagem de erro personalizada  \n",
    "else:                                                            # Caso ache o arquivo  \n",
    "   print (\"Conteúdo gravado com sucesso!\")                       # Mostra a mensagem de sucesso  \n",
    "   f.close()"
   ]
  },
  {
   "cell_type": "code",
   "execution_count": 3,
   "metadata": {},
   "outputs": [
    {
     "name": "stdout",
     "output_type": "stream",
     "text": [
      "0.5 : é a metade de  1\n",
      "Verificando o próximo elemento...\n",
      "A : não é possível dividir string!\n",
      "Verificando o próximo elemento...\n",
      "1.0 : é a metade de  2\n",
      "Verificando o próximo elemento...\n",
      "B : não é possível dividir string!\n",
      "Verificando o próximo elemento...\n",
      "1.5 : é a metade de  3\n",
      "Verificando o próximo elemento...\n",
      "C : não é possível dividir string!\n",
      "Verificando o próximo elemento...\n"
     ]
    }
   ],
   "source": [
    "# Utilizando try, except, else e finaly  \n",
    "# No exemplo abaixo a divisão por string dará o erro do tipo TypeError. Com base nisso, vamos tratá-lo.  \n",
    "list = [1, 'A', 2, 'B', 3, 'C']  \n",
    "\n",
    "for x in list:                                       # Criamos um loop para cada elemento da lista\n",
    "    try:\n",
    "        x/2                                          # Tentamos dividir cada elemento por 1\n",
    "    except TypeError:                                # Não é possível dividir strings, portanto retornará o erro TypeError\n",
    "        print(x, ': não é possível dividir string!') # Imprimimos a mensagem de erro\n",
    "    else:                                            # Caso realmente seja um número, aparece mensagem de sucesso\n",
    "        print(x/2, ': é a metade de ', x)       \n",
    "    finally:\n",
    "        print('Verificando o próximo elemento...')   # Executa esse comando em todos os loops"
   ]
  }
 ],
 "metadata": {
  "kernelspec": {
   "display_name": "Python 3",
   "language": "python",
   "name": "python3"
  },
  "language_info": {
   "codemirror_mode": {
    "name": "ipython",
    "version": 3
   },
   "file_extension": ".py",
   "mimetype": "text/x-python",
   "name": "python",
   "nbconvert_exporter": "python",
   "pygments_lexer": "ipython3",
   "version": "3.6.4"
  }
 },
 "nbformat": 4,
 "nbformat_minor": 2
}
