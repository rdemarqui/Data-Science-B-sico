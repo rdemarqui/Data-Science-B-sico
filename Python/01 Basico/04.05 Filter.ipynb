{
 "cells": [
  {
   "cell_type": "markdown",
   "metadata": {},
   "source": [
    "# Filter"
   ]
  },
  {
   "cell_type": "markdown",
   "metadata": {},
   "source": [
    "A função filter() oferece uma maneira conveniente de filtrar todos os elementos de uma sequencia para os quais a função retorne true. A função será aplicada à sequencia e somente os valores que forem true para a função, serão retornados.  \n",
    "\n",
    "Sintaxe:  \n",
    "&nbsp;&nbsp;&nbsp;&nbsp;filter(função, sequencia)"
   ]
  },
  {
   "cell_type": "code",
   "execution_count": 1,
   "metadata": {},
   "outputs": [
    {
     "data": {
      "text/plain": [
       "[0, 2, 4, 6, 8, 10, 12, 14, 16, 18, 20]"
      ]
     },
     "execution_count": 1,
     "metadata": {},
     "output_type": "execute_result"
    }
   ],
   "source": [
    "# Verificando se os valores de uma lista são pares:\n",
    "\n",
    "lista = list(range(0, 21))   # Gerando uma lista\n",
    "\n",
    "list(filter(lambda x: x%2==0, lista))  #Verificando se os elementos são par, através do resto da divisão por 2"
   ]
  },
  {
   "cell_type": "code",
   "execution_count": 2,
   "metadata": {},
   "outputs": [
    {
     "data": {
      "text/plain": [
       "[9, 10, 11, 12, 13, 14, 15, 16, 17, 18, 19, 20]"
      ]
     },
     "execution_count": 2,
     "metadata": {},
     "output_type": "execute_result"
    }
   ],
   "source": [
    "# Filtrando valores\n",
    "list(filter(lambda num: num > 8, lista))"
   ]
  },
  {
   "cell_type": "code",
   "execution_count": 3,
   "metadata": {},
   "outputs": [
    {
     "data": {
      "text/plain": [
       "['1', '2', '3', '4', '5']"
      ]
     },
     "execution_count": 3,
     "metadata": {},
     "output_type": "execute_result"
    }
   ],
   "source": [
    "# Filtrando os caracteres numéricos de uma lista\n",
    "\n",
    "lista_mista = ['a', '1', 'b', '2', 'c', '3', 'd', '4', 'e', '5']\n",
    "\n",
    "def numero(x):\n",
    "    if ord(x) >= 48 and ord(x) <= 57:\n",
    "        return True\n",
    "    else:\n",
    "        return False   # A função 'ord' retorna o valor Ascii. Os números estão entre 48 e 57\n",
    "   \n",
    "list(filter(numero, lista_mista))"
   ]
  }
 ],
 "metadata": {
  "kernelspec": {
   "display_name": "Python 3",
   "language": "python",
   "name": "python3"
  },
  "language_info": {
   "codemirror_mode": {
    "name": "ipython",
    "version": 3
   },
   "file_extension": ".py",
   "mimetype": "text/x-python",
   "name": "python",
   "nbconvert_exporter": "python",
   "pygments_lexer": "ipython3",
   "version": "3.6.4"
  }
 },
 "nbformat": 4,
 "nbformat_minor": 2
}
