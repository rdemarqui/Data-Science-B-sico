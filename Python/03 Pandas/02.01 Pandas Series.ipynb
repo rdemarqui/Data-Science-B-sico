{
 "cells": [
  {
   "cell_type": "markdown",
   "metadata": {},
   "source": [
    "## Series"
   ]
  },
  {
   "cell_type": "markdown",
   "metadata": {},
   "source": [
    "Uma série é um objeto unidimensional do tipo array que contém uma seqüência de valores (de tipos semelhantes aos do NumPy) e uma matriz associada de rótulos de dados, chamada de índice.\n",
    "\n",
    "**Sintaxe**:\n",
    "\n",
    "    pd.Series(dados, index=indice)\n",
    "    \n",
    "O índice é um argumento opcional e os dados podem ser uma ou muitas entidades. Se não inserirmos um argumento no índice o Pandar por default vai nomea-los com valores inteiros, a partir de 0."
   ]
  },
  {
   "cell_type": "code",
   "execution_count": 1,
   "metadata": {},
   "outputs": [],
   "source": [
    "# Importando o pacote\n",
    "import pandas as pd"
   ]
  },
  {
   "cell_type": "markdown",
   "metadata": {},
   "source": [
    "Note que ao chamar a serie criada, o pandas trará 2 colunas. A primeira se referirá ao índice e a segunda aos dados propriamente ditos."
   ]
  },
  {
   "cell_type": "code",
   "execution_count": 2,
   "metadata": {},
   "outputs": [
    {
     "data": {
      "text/plain": [
       "0    0.25\n",
       "1    0.50\n",
       "2    0.75\n",
       "3    1.00\n",
       "dtype: float64"
      ]
     },
     "execution_count": 2,
     "metadata": {},
     "output_type": "execute_result"
    }
   ],
   "source": [
    "# Criando uma série\n",
    "data = pd.Series([0.25, 0.5, 0.75, 1.0])\n",
    "data"
   ]
  },
  {
   "cell_type": "code",
   "execution_count": 3,
   "metadata": {},
   "outputs": [
    {
     "name": "stdout",
     "output_type": "stream",
     "text": [
      "indice RangeIndex(start=0, stop=4, step=1)\n",
      "valores [0.25 0.5  0.75 1.  ]\n"
     ]
    }
   ],
   "source": [
    "# Podemos trazer informações sobre o índice e valores\n",
    "print('indice', data.index)\n",
    "print('valores', data.values)"
   ]
  },
  {
   "cell_type": "code",
   "execution_count": 4,
   "metadata": {},
   "outputs": [
    {
     "data": {
      "text/plain": [
       "1    0.50\n",
       "2    0.75\n",
       "dtype: float64"
      ]
     },
     "execution_count": 4,
     "metadata": {},
     "output_type": "execute_result"
    }
   ],
   "source": [
    "# Assim como o array do numpy, podemos trazer os valores pelo índice, inclusive utilizando slicing\n",
    "data[1:3]"
   ]
  },
  {
   "cell_type": "markdown",
   "metadata": {},
   "source": [
    "**Indice**  \n",
    "Diferentemente do array do Numpy que só aceita índices de números inteiros, nas séries do Pandas é possível nomear as arrays com strings, se quisermos:"
   ]
  },
  {
   "cell_type": "code",
   "execution_count": 5,
   "metadata": {},
   "outputs": [
    {
     "data": {
      "text/plain": [
       "GOOG    0\n",
       "FB      0\n",
       "YHOO    0\n",
       "TWTR    0\n",
       "AMZN    0\n",
       "AAPL    0\n",
       "dtype: int64"
      ]
     },
     "execution_count": 5,
     "metadata": {},
     "output_type": "execute_result"
    }
   ],
   "source": [
    "# Podemos utilizar um único valor para uma série\n",
    "stockPricePd = pd.Series(0, index = ['GOOG','FB','YHOO','TWTR','AMZN','AAPL'])\n",
    "stockPricePd"
   ]
  },
  {
   "cell_type": "code",
   "execution_count": 6,
   "metadata": {},
   "outputs": [
    {
     "data": {
      "text/plain": [
       "GOOG    1092.23\n",
       "FB        59.78\n",
       "TWTR      67.31\n",
       "AMZN     342.90\n",
       "AAPL     501.60\n",
       "dtype: float64"
      ]
     },
     "execution_count": 6,
     "metadata": {},
     "output_type": "execute_result"
    }
   ],
   "source": [
    "# Podemos utilizar os dados de um dicionário\n",
    "stockPrices = {'GOOG':1092.23, 'FB':59.78, 'TWTR': 67.31, 'AMZN':342.90, 'AAPL':501.60} # Dicionário\n",
    "\n",
    "stockPricePd = pd.Series(stockPrices) # Atribuindo à uma série Pandas\n",
    "stockPricePd"
   ]
  },
  {
   "cell_type": "code",
   "execution_count": 7,
   "metadata": {},
   "outputs": [
    {
     "data": {
      "text/plain": [
       "Stocks\n",
       "GOOG    1092.23\n",
       "FB        59.78\n",
       "TWTR      67.31\n",
       "AMZN     342.90\n",
       "AAPL     501.60\n",
       "Name: Dialy Stocks, dtype: float64"
      ]
     },
     "execution_count": 7,
     "metadata": {},
     "output_type": "execute_result"
    }
   ],
   "source": [
    "# Podemos também nomear nossa série a coluna de índice\n",
    "stockPricePd.name = 'Dialy Stocks'\n",
    "stockPricePd.index.name = 'Stocks'\n",
    "\n",
    "stockPricePd"
   ]
  },
  {
   "cell_type": "code",
   "execution_count": 8,
   "metadata": {},
   "outputs": [
    {
     "name": "stdout",
     "output_type": "stream",
     "text": [
      "Usando a string:  67.31\n",
      "Usando a numeração:  67.31\n"
     ]
    }
   ],
   "source": [
    "# Podemos referenciar o índice com a string nomeada, ou com o proprio valor numérico do índice\n",
    "print('Usando a string: ', stockPricePd['TWTR'])\n",
    "print('Usando a numeração: ', stockPricePd[2])"
   ]
  },
  {
   "cell_type": "markdown",
   "metadata": {},
   "source": [
    "**Operações**"
   ]
  },
  {
   "cell_type": "code",
   "execution_count": 9,
   "metadata": {},
   "outputs": [
    {
     "data": {
      "text/plain": [
       "Stocks\n",
       "FB      59.78\n",
       "TWTR    67.31\n",
       "Name: Dialy Stocks, dtype: float64"
      ]
     },
     "execution_count": 9,
     "metadata": {},
     "output_type": "execute_result"
    }
   ],
   "source": [
    "# Podemos filtrar os dados\n",
    "stockPricePd [stockPricePd < 100]"
   ]
  },
  {
   "cell_type": "code",
   "execution_count": 10,
   "metadata": {},
   "outputs": [
    {
     "data": {
      "text/plain": [
       "Stocks\n",
       "GOOG    546.115\n",
       "FB       29.890\n",
       "TWTR     33.655\n",
       "AMZN    171.450\n",
       "AAPL    250.800\n",
       "Name: Dialy Stocks, dtype: float64"
      ]
     },
     "execution_count": 10,
     "metadata": {},
     "output_type": "execute_result"
    }
   ],
   "source": [
    "# Executar funções aritméticas\n",
    "stockPricePd / 2"
   ]
  },
  {
   "cell_type": "code",
   "execution_count": 11,
   "metadata": {},
   "outputs": [
    {
     "data": {
      "text/plain": [
       "True"
      ]
     },
     "execution_count": 11,
     "metadata": {},
     "output_type": "execute_result"
    }
   ],
   "source": [
    "# Verificar se um dado faz parte do índice\n",
    "'AMZN' in stockPricePd"
   ]
  }
 ],
 "metadata": {
  "kernelspec": {
   "display_name": "Python 3",
   "language": "python",
   "name": "python3"
  },
  "language_info": {
   "codemirror_mode": {
    "name": "ipython",
    "version": 3
   },
   "file_extension": ".py",
   "mimetype": "text/x-python",
   "name": "python",
   "nbconvert_exporter": "python",
   "pygments_lexer": "ipython3",
   "version": "3.6.5"
  }
 },
 "nbformat": 4,
 "nbformat_minor": 2
}
