{
 "cells": [
  {
   "cell_type": "markdown",
   "metadata": {},
   "source": [
    "# Introdução ao Pandas"
   ]
  },
  {
   "cell_type": "markdown",
   "metadata": {},
   "source": [
    "O Pandas é muito utilizado para manipulação e análise de dados. Ele fornece estruturas de dados especiais e operações para a manipulação de tabelas numéricas e séries temporais. É frequentemente usado em conjunto com ferramentas computacionais numéricas como o NumPy e o SciPy, bibliotecas analíticas como statsmodels e scikit-learn, e bibliotecas de visualização de dados como o matplotlib. O pandas adota partes significativas do estilo idiomático de computação baseada em array do NumPy, especialmente funções baseadas em array e uma preferência por processamento de dados em vez de loop for.\n",
    "\n",
    "A palavra pandas é um acrônimo derivado de \"Python and data analysis\" e \"panel data\".\n",
    "\n",
    "O pandas foi construído em cima do NumPy. A grande diferença entre os dois é que o pandas é projetado para trabalhar com **dados tabulares heterogêneos**, também conhecido como DataFrames. O NumPy, por outro lado, é mais adequado para trabalhar com dados de **matriz numérica homogênea**.\n",
    "\n",
    "Como vimos, a estrutura de dados ndarray do NumPy fornece recursos essenciais para tipo de dados limpos e bem organizados normalmente vistos em tarefas de computação numérica. Embora sirva a esse propósito muito bem, suas limitações tornam-se claras quando precisamos de mais flexibilidade (anexando rótulos a dados, trabalhando com dados ausentes, etc.). O Pandas e, em particular, seus objetos **Series** e **DataFrame**, se baseiam na estrutura do array NumPy e fornecem acesso eficiente a esses tipos de tarefas de “coleta de dados” que ocupam muito do tempo de um cientista de dados.\n",
    "\n",
    "**Nota:** Como dito acima o pandas foi escrito em cima do NumPy, por esse motivo, o NumPy é um pré-requisito para instalação do Pandas, portando necessitam também estar instalado."
   ]
  },
  {
   "cell_type": "markdown",
   "metadata": {},
   "source": [
    "**Importando o pacote Pandas**  \n",
    "Por convenção, abreviamos o pandas como pd"
   ]
  },
  {
   "cell_type": "code",
   "execution_count": 1,
   "metadata": {},
   "outputs": [],
   "source": [
    "import pandas as pd"
   ]
  },
  {
   "cell_type": "markdown",
   "metadata": {},
   "source": [
    "**Verificando a versão**"
   ]
  },
  {
   "cell_type": "code",
   "execution_count": 2,
   "metadata": {},
   "outputs": [
    {
     "data": {
      "text/plain": [
       "'0.23.1'"
      ]
     },
     "execution_count": 2,
     "metadata": {},
     "output_type": "execute_result"
    }
   ],
   "source": [
    "pd.__version__"
   ]
  },
  {
   "cell_type": "markdown",
   "metadata": {},
   "source": [
    "**Estrutura de dados em Pandas**"
   ]
  },
  {
   "cell_type": "markdown",
   "metadata": {},
   "source": [
    "pandas.Series()          - 1 Dimensão  - 1D\n",
    "\n",
    "pandas.DataFrame()  - 2 Dimensões - 2D\n",
    "\n",
    "pandas.Panel()           - 3 Dimensões - 3D\n",
    "\n",
    "numpy.ndarray()     - x Dimensões "
   ]
  },
  {
   "cell_type": "markdown",
   "metadata": {},
   "source": [
    "![Tipos de Array](Dimensions.png)"
   ]
  }
 ],
 "metadata": {
  "kernelspec": {
   "display_name": "Python 3",
   "language": "python",
   "name": "python3"
  },
  "language_info": {
   "codemirror_mode": {
    "name": "ipython",
    "version": 3
   },
   "file_extension": ".py",
   "mimetype": "text/x-python",
   "name": "python",
   "nbconvert_exporter": "python",
   "pygments_lexer": "ipython3",
   "version": "3.6.4"
  }
 },
 "nbformat": 4,
 "nbformat_minor": 2
}
