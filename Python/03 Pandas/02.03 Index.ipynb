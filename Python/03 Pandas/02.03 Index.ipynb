{
 "cells": [
  {
   "cell_type": "markdown",
   "metadata": {},
   "source": [
    "## Index"
   ]
  },
  {
   "cell_type": "markdown",
   "metadata": {},
   "source": [
    "Vimos aqui que os objetos Series e DataFrame contêm um índice explícito que permite fazer referência e modificar dados. Este objeto Index é uma estrutura interessante em si, e pode ser pensado como um array imutável ou como um conjunto ordenado (tecnicamente um multiconjunto, já que os objetos Index podem conter valores repetidos).\n",
    "\n",
    "Uma diferença entre os objetos Index e os arrays NumPy é que os índices são imutáveis - isto é, eles não podem ser modificados através dos meios normais. Essa imutabilidade torna mais seguro compartilhar índices entre vários DataFrames e\n",
    "matrizes, sem o potencial de efeitos colaterais da modificação inadvertida do índice.\n",
    "\n",
    "Alguns usuários geralmente não aproveitam os recursos fornecidos pelos índices, mas como algumas operações produzem resultados que contêm dados indexados, é importante entender como eles funcionam."
   ]
  },
  {
   "cell_type": "code",
   "execution_count": 1,
   "metadata": {},
   "outputs": [],
   "source": [
    "import pandas as pd"
   ]
  },
  {
   "cell_type": "code",
   "execution_count": 26,
   "metadata": {},
   "outputs": [],
   "source": [
    "# Criando uma lista a ser usada como índice\n",
    "indice = ['a', 'b', 'c', 'd', 'e']\n",
    "\n",
    "# Em seguida, vamos criar 2 datasets compartilhando o mesmo índice\n",
    "df1 = pd.DataFrame({'carro': ['fusca', 'brasília', 'santana', 'gol', 'ferrari']}, index=indice)\n",
    "df2 = pd.DataFrame({'cor': ['azul', 'amearela', 'cina', 'branco', 'vermelho']}, index=indice)"
   ]
  },
  {
   "cell_type": "code",
   "execution_count": 29,
   "metadata": {},
   "outputs": [
    {
     "data": {
      "text/html": [
       "<div>\n",
       "<style scoped>\n",
       "    .dataframe tbody tr th:only-of-type {\n",
       "        vertical-align: middle;\n",
       "    }\n",
       "\n",
       "    .dataframe tbody tr th {\n",
       "        vertical-align: top;\n",
       "    }\n",
       "\n",
       "    .dataframe thead th {\n",
       "        text-align: right;\n",
       "    }\n",
       "</style>\n",
       "<table border=\"1\" class=\"dataframe\">\n",
       "  <thead>\n",
       "    <tr style=\"text-align: right;\">\n",
       "      <th></th>\n",
       "      <th>carro</th>\n",
       "      <th>cor</th>\n",
       "    </tr>\n",
       "  </thead>\n",
       "  <tbody>\n",
       "    <tr>\n",
       "      <th>a</th>\n",
       "      <td>fusca</td>\n",
       "      <td>azul</td>\n",
       "    </tr>\n",
       "    <tr>\n",
       "      <th>b</th>\n",
       "      <td>brasília</td>\n",
       "      <td>amearela</td>\n",
       "    </tr>\n",
       "    <tr>\n",
       "      <th>c</th>\n",
       "      <td>santana</td>\n",
       "      <td>cina</td>\n",
       "    </tr>\n",
       "    <tr>\n",
       "      <th>d</th>\n",
       "      <td>gol</td>\n",
       "      <td>branco</td>\n",
       "    </tr>\n",
       "    <tr>\n",
       "      <th>e</th>\n",
       "      <td>ferrari</td>\n",
       "      <td>vermelho</td>\n",
       "    </tr>\n",
       "  </tbody>\n",
       "</table>\n",
       "</div>"
      ],
      "text/plain": [
       "      carro       cor\n",
       "a     fusca      azul\n",
       "b  brasília  amearela\n",
       "c   santana      cina\n",
       "d       gol    branco\n",
       "e   ferrari  vermelho"
      ]
     },
     "execution_count": 29,
     "metadata": {},
     "output_type": "execute_result"
    }
   ],
   "source": [
    "# Concatenando as duas informações através do índice\n",
    "df3 = pd.concat([df1, df2], axis=1)\n",
    "df3"
   ]
  },
  {
   "cell_type": "markdown",
   "metadata": {},
   "source": [
    "**Operações com índices**"
   ]
  },
  {
   "cell_type": "code",
   "execution_count": 56,
   "metadata": {},
   "outputs": [
    {
     "data": {
      "text/html": [
       "<div>\n",
       "<style scoped>\n",
       "    .dataframe tbody tr th:only-of-type {\n",
       "        vertical-align: middle;\n",
       "    }\n",
       "\n",
       "    .dataframe tbody tr th {\n",
       "        vertical-align: top;\n",
       "    }\n",
       "\n",
       "    .dataframe thead th {\n",
       "        text-align: right;\n",
       "    }\n",
       "</style>\n",
       "<table border=\"1\" class=\"dataframe\">\n",
       "  <thead>\n",
       "    <tr style=\"text-align: right;\">\n",
       "      <th></th>\n",
       "      <th>carro</th>\n",
       "      <th>cor</th>\n",
       "    </tr>\n",
       "  </thead>\n",
       "  <tbody>\n",
       "    <tr>\n",
       "      <th>c</th>\n",
       "      <td>santana</td>\n",
       "      <td>cina</td>\n",
       "    </tr>\n",
       "    <tr>\n",
       "      <th>d</th>\n",
       "      <td>gol</td>\n",
       "      <td>branco</td>\n",
       "    </tr>\n",
       "    <tr>\n",
       "      <th>e</th>\n",
       "      <td>ferrari</td>\n",
       "      <td>vermelho</td>\n",
       "    </tr>\n",
       "  </tbody>\n",
       "</table>\n",
       "</div>"
      ],
      "text/plain": [
       "     carro       cor\n",
       "c  santana      cina\n",
       "d      gol    branco\n",
       "e  ferrari  vermelho"
      ]
     },
     "execution_count": 56,
     "metadata": {},
     "output_type": "execute_result"
    }
   ],
   "source": [
    "#Slicing\n",
    "df3['c':'e']"
   ]
  },
  {
   "cell_type": "code",
   "execution_count": 49,
   "metadata": {},
   "outputs": [
    {
     "data": {
      "text/plain": [
       "Index(['carro', 'cor'], dtype='object')"
      ]
     },
     "execution_count": 49,
     "metadata": {},
     "output_type": "execute_result"
    }
   ],
   "source": [
    "# Quando fazemos uma transposta o índice muda\n",
    "df4 = df3.T\n",
    "df4.index"
   ]
  }
 ],
 "metadata": {
  "kernelspec": {
   "display_name": "Python 3",
   "language": "python",
   "name": "python3"
  },
  "language_info": {
   "codemirror_mode": {
    "name": "ipython",
    "version": 3
   },
   "file_extension": ".py",
   "mimetype": "text/x-python",
   "name": "python",
   "nbconvert_exporter": "python",
   "pygments_lexer": "ipython3",
   "version": "3.6.4"
  }
 },
 "nbformat": 4,
 "nbformat_minor": 2
}
