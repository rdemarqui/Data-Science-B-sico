{
 "cells": [
  {
   "cell_type": "markdown",
   "metadata": {},
   "source": [
    "## Series Temporais"
   ]
  },
  {
   "cell_type": "markdown",
   "metadata": {},
   "source": [
    "O Pandas possui 3 tipos de objetos para lidar com séries temporias:\n",
    "* **Timestamp** - Para marcação de data, hora, minuto, etc. A estrutura de índice associada é ``DatetimeIndex``.\n",
    "* **Period** - Para período de tempos.  A estrutura de índice associada é ``PeriodIndex``.\n",
    "* **Timedelta** - Para duração de tempo. A estrutura de índice associada é ``TimedeltaIndex``.\n",
    "\n",
    "Os exemplos a seguir serão apenas uma breve introdução. Para uma ir mais a fundo, a documentação sobre timeseries do Pnadas encontra-se no link a seguir: http://pandas.pydata.org/pandas-docs/stable/timeseries.html"
   ]
  },
  {
   "cell_type": "code",
   "execution_count": 1,
   "metadata": {},
   "outputs": [],
   "source": [
    "import numpy as np\n",
    "import pandas as pd"
   ]
  },
  {
   "cell_type": "code",
   "execution_count": 2,
   "metadata": {},
   "outputs": [
    {
     "data": {
      "text/plain": [
       "Timestamp('1982-11-16 00:00:00')"
      ]
     },
     "execution_count": 2,
     "metadata": {},
     "output_type": "execute_result"
    }
   ],
   "source": [
    "# Criando um objeto\n",
    "date = pd.to_datetime(\"16/11/1982\")\n",
    "date"
   ]
  },
  {
   "cell_type": "code",
   "execution_count": 3,
   "metadata": {},
   "outputs": [
    {
     "data": {
      "text/plain": [
       "'Tuesday'"
      ]
     },
     "execution_count": 3,
     "metadata": {},
     "output_type": "execute_result"
    }
   ],
   "source": [
    "# Mostrando o dia da semana\n",
    "date.strftime('%A')"
   ]
  },
  {
   "cell_type": "markdown",
   "metadata": {},
   "source": [
    "**Indexação por tempo**  \n",
    "Quando temos um conjunto de dados indexado por data, podemos executar algumas operações de maneira mais rápida, como por exemplo filtrar intervalos"
   ]
  },
  {
   "cell_type": "code",
   "execution_count": 4,
   "metadata": {},
   "outputs": [
    {
     "data": {
      "text/plain": [
       "2014-07-04    0\n",
       "2014-08-04    1\n",
       "2015-07-04    2\n",
       "2015-08-04    3\n",
       "dtype: int64"
      ]
     },
     "execution_count": 4,
     "metadata": {},
     "output_type": "execute_result"
    }
   ],
   "source": [
    "# Criando uma série indexada por data\n",
    "indice = pd.DatetimeIndex(['2014-07-04', '2014-08-04',\n",
    "                           '2015-07-04', '2015-08-04'])\n",
    "\n",
    "dados = pd.Series([0, 1, 2, 3], index=indice)\n",
    "\n",
    "dados"
   ]
  },
  {
   "cell_type": "code",
   "execution_count": 5,
   "metadata": {},
   "outputs": [
    {
     "data": {
      "text/plain": [
       "2014-07-04    0\n",
       "2014-08-04    1\n",
       "dtype: int64"
      ]
     },
     "execution_count": 5,
     "metadata": {},
     "output_type": "execute_result"
    }
   ],
   "source": [
    "# Filtrando por ano\n",
    "dados['2014']"
   ]
  },
  {
   "cell_type": "code",
   "execution_count": 6,
   "metadata": {},
   "outputs": [
    {
     "data": {
      "text/plain": [
       "2014-07-04    0\n",
       "2014-08-04    1\n",
       "2015-07-04    2\n",
       "dtype: int64"
      ]
     },
     "execution_count": 6,
     "metadata": {},
     "output_type": "execute_result"
    }
   ],
   "source": [
    "# Filtrando um intervalo\n",
    "dados['2014-07-04':'2015-07-04']"
   ]
  },
  {
   "cell_type": "markdown",
   "metadata": {},
   "source": [
    "**Série de datas**  \n",
    "Assim como podemos criar uma série de dados utilizando o ``range()`` para o Python e o ``np.arange()`` para o NumPy, podemos criar também uma sequência de datas com a função ``pd.date_range()``."
   ]
  },
  {
   "cell_type": "code",
   "execution_count": 7,
   "metadata": {},
   "outputs": [
    {
     "data": {
      "text/plain": [
       "DatetimeIndex(['2018-03-15', '2018-03-16', '2018-03-17', '2018-03-18',\n",
       "               '2018-03-19', '2018-03-20'],\n",
       "              dtype='datetime64[ns]', freq='D')"
      ]
     },
     "execution_count": 7,
     "metadata": {},
     "output_type": "execute_result"
    }
   ],
   "source": [
    "# Criando através da definição das datas de início e fim\n",
    "pd.date_range('2018-03-15', '2018-03-20')"
   ]
  },
  {
   "cell_type": "code",
   "execution_count": 8,
   "metadata": {},
   "outputs": [
    {
     "data": {
      "text/plain": [
       "DatetimeIndex(['2018-03-15', '2018-03-16', '2018-03-17', '2018-03-18',\n",
       "               '2018-03-19', '2018-03-20'],\n",
       "              dtype='datetime64[ns]', freq='D')"
      ]
     },
     "execution_count": 8,
     "metadata": {},
     "output_type": "execute_result"
    }
   ],
   "source": [
    "# Criando através de uma sequenca de dias\n",
    "pd.date_range('2018-03-15', periods=6)"
   ]
  },
  {
   "cell_type": "code",
   "execution_count": 9,
   "metadata": {},
   "outputs": [
    {
     "data": {
      "text/plain": [
       "DatetimeIndex(['2018-03-15 00:00:00', '2018-03-15 01:00:00',\n",
       "               '2018-03-15 02:00:00', '2018-03-15 03:00:00',\n",
       "               '2018-03-15 04:00:00', '2018-03-15 05:00:00'],\n",
       "              dtype='datetime64[ns]', freq='H')"
      ]
     },
     "execution_count": 9,
     "metadata": {},
     "output_type": "execute_result"
    }
   ],
   "source": [
    "# Podemos também modificar a sequência, modificando o parâmetro seq de dias para anos, mês, horas, minutos, segundos, etc.\n",
    "pd.date_range('2018-03-15', periods=6, freq='H')"
   ]
  },
  {
   "cell_type": "code",
   "execution_count": 10,
   "metadata": {},
   "outputs": [
    {
     "data": {
      "text/plain": [
       "TimedeltaIndex(['00:00:00', '02:30:00', '05:00:00', '07:30:00', '10:00:00',\n",
       "                '12:30:00', '15:00:00', '17:30:00', '20:00:00'],\n",
       "               dtype='timedelta64[ns]', freq='150T')"
      ]
     },
     "execution_count": 10,
     "metadata": {},
     "output_type": "execute_result"
    }
   ],
   "source": [
    "# A função aceita inclusive combinação de frequências, como horas e minutos. Abaixo exemplo com intervalo de 2 horas e meia.\n",
    "pd.timedelta_range(0, periods=9, freq=\"2H30T\")"
   ]
  },
  {
   "cell_type": "markdown",
   "metadata": {},
   "source": [
    "**resample**  \n",
    "A partir da indexação por data, podemos manipular os dados a partir delas. Uma função interessante é a ``resample()`` que nos permite agregar os valores por média, soma, máximo, etc; e pelo período que desejarmos tais como dia, semana, mês, etc."
   ]
  },
  {
   "cell_type": "code",
   "execution_count": 11,
   "metadata": {},
   "outputs": [
    {
     "data": {
      "text/plain": [
       "2018-07-02     0\n",
       "2018-07-03     1\n",
       "2018-07-04     2\n",
       "2018-07-05     3\n",
       "2018-07-06     4\n",
       "2018-07-07     5\n",
       "2018-07-08     6\n",
       "2018-07-09     7\n",
       "2018-07-10     8\n",
       "2018-07-11     9\n",
       "2018-07-12    10\n",
       "2018-07-13    11\n",
       "2018-07-14    12\n",
       "2018-07-15    13\n",
       "Freq: D, dtype: int32"
      ]
     },
     "execution_count": 11,
     "metadata": {},
     "output_type": "execute_result"
    }
   ],
   "source": [
    "# Gerando dados\n",
    "data = pd.date_range('2018-07-02', periods=14, freq='D')  # 2 semanas de index\n",
    "dados = np.array(range(len(data)))  # array com 14 elementos\n",
    "\n",
    "data_dados = pd.Series(dados, index=data)  # juntando os dois dados\n",
    "data_dados"
   ]
  },
  {
   "cell_type": "code",
   "execution_count": 12,
   "metadata": {},
   "outputs": [
    {
     "data": {
      "text/plain": [
       "2018-07-08     3\n",
       "2018-07-15    10\n",
       "Freq: W-SUN, dtype: int32"
      ]
     },
     "execution_count": 12,
     "metadata": {},
     "output_type": "execute_result"
    }
   ],
   "source": [
    "# Agregando de dias para semanas e calculando a média dos valores\n",
    "data_dados.resample('W').mean()"
   ]
  }
 ],
 "metadata": {
  "kernelspec": {
   "display_name": "Python 3",
   "language": "python",
   "name": "python3"
  },
  "language_info": {
   "codemirror_mode": {
    "name": "ipython",
    "version": 3
   },
   "file_extension": ".py",
   "mimetype": "text/x-python",
   "name": "python",
   "nbconvert_exporter": "python",
   "pygments_lexer": "ipython3",
   "version": "3.6.4"
  }
 },
 "nbformat": 4,
 "nbformat_minor": 2
}
