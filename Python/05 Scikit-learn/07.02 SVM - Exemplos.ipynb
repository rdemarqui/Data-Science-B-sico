{
 "cells": [
  {
   "cell_type": "markdown",
   "metadata": {},
   "source": [
    "## SVM - Support Vector Machines"
   ]
  },
  {
   "cell_type": "code",
   "execution_count": 1,
   "metadata": {},
   "outputs": [],
   "source": [
    "import numpy as np\n",
    "import pandas as pd\n",
    "\n",
    "from sklearn.svm import SVC\n",
    "from sklearn.model_selection import train_test_split\n",
    "from sklearn.preprocessing import MinMaxScaler\n",
    "\n",
    "import matplotlib.pyplot as plt"
   ]
  },
  {
   "cell_type": "markdown",
   "metadata": {},
   "source": [
    "### Dataset 01: Breast Cancer"
   ]
  },
  {
   "cell_type": "code",
   "execution_count": 2,
   "metadata": {},
   "outputs": [],
   "source": [
    "# Importando os dados\n",
    "from sklearn.datasets import load_breast_cancer\n",
    "\n",
    "# Instanciando\n",
    "cancer = load_breast_cancer()\n",
    "\n",
    "# Separando entre treino e teste\n",
    "X_train, X_test, y_train, y_test = train_test_split(cancer.data, cancer.target, random_state=0)"
   ]
  },
  {
   "cell_type": "code",
   "execution_count": 3,
   "metadata": {},
   "outputs": [
    {
     "data": {
      "text/plain": [
       "SVC(C=1.0, cache_size=200, class_weight=None, coef0=0.0,\n",
       "  decision_function_shape='ovr', degree=3, gamma='auto', kernel='rbf',\n",
       "  max_iter=-1, probability=False, random_state=None, shrinking=True,\n",
       "  tol=0.001, verbose=False)"
      ]
     },
     "execution_count": 3,
     "metadata": {},
     "output_type": "execute_result"
    }
   ],
   "source": [
    "svc = SVC()\n",
    "\n",
    "svc.fit(X_train, y_train)"
   ]
  },
  {
   "cell_type": "code",
   "execution_count": 4,
   "metadata": {},
   "outputs": [
    {
     "name": "stdout",
     "output_type": "stream",
     "text": [
      "Score de treino:  1.0\n",
      "Score de teste:  0.6293706293706294\n"
     ]
    }
   ],
   "source": [
    "print(\"Score de treino: \", svc.score(X_train, y_train))\n",
    "print(\"Score de teste: \", svc.score(X_test, y_test))"
   ]
  },
  {
   "cell_type": "markdown",
   "metadata": {},
   "source": [
    "Olhando os scores vemos que há uma grande diferença de resultado entre o treino e teste. Conforme citado na parte teórica, o SVM é sensível à escala e isso pode estar afetando o modelo. Vamos, a seguir, verificar os valores mínimos e máximos de cada uma das fetaures e verificar se estão numa mesma escala."
   ]
  },
  {
   "cell_type": "code",
   "execution_count": 5,
   "metadata": {},
   "outputs": [
    {
     "data": {
      "image/png": "[encoded data removed]",
      "text/plain": [
       "<Figure size 432x288 with 1 Axes>"
      ]
     },
     "metadata": {},
     "output_type": "display_data"
    }
   ],
   "source": [
    "plt.plot(X_train.max(axis=0), 'o', label=\"max\")\n",
    "plt.plot(X_train.min(axis=0), 'o', label=\"min\")\n",
    "plt.legend(loc=\"best\")\n",
    "plt.xlabel(\"FEATURES\")\n",
    "plt.ylabel(\"ESCALA\")\n",
    "plt.yscale(\"log\")"
   ]
  },
  {
   "cell_type": "markdown",
   "metadata": {},
   "source": [
    "Como pode ser visto acima, as features estão em escalas diferentes. Para corrigir esse problema e melhorar a performance do modelo, vamos normalizar os dados."
   ]
  },
  {
   "cell_type": "code",
   "execution_count": 6,
   "metadata": {},
   "outputs": [
    {
     "data": {
      "text/plain": [
       "Text(0,0.5,'ESCALA')"
      ]
     },
     "execution_count": 6,
     "metadata": {},
     "output_type": "execute_result"
    },
    {
     "data": {
      "image/png": "[encoded data removed]",
      "text/plain": [
       "<Figure size 432x288 with 1 Axes>"
      ]
     },
     "metadata": {},
     "output_type": "display_data"
    }
   ],
   "source": [
    "# Instanciando o modelo MinMax\n",
    "scaler = MinMaxScaler()\n",
    "\n",
    "# Aplicando o MinMax no dataset inteiro\n",
    "X = cancer.data\n",
    "X_norm = scaler.fit_transform(X)\n",
    "\n",
    "# Plotando novamente o gráfico com a variação máxima e mínima de cada uma das 30 features\n",
    "plt.plot(X_norm.max(axis=0), 'o', label=\"max\")\n",
    "plt.plot(X_norm.min(axis=0), 'o', label=\"min\")\n",
    "plt.legend(loc=\"best\")\n",
    "plt.xlabel(\"FEATURES\")\n",
    "plt.ylabel(\"ESCALA\")"
   ]
  },
  {
   "cell_type": "markdown",
   "metadata": {},
   "source": [
    "Como podemos ver acima, cada uma das fetaures varia entre 1 e 0 após a normalização. Vamos então aplicar os dados normaizados novamente ao modelo."
   ]
  },
  {
   "cell_type": "code",
   "execution_count": 7,
   "metadata": {},
   "outputs": [
    {
     "name": "stdout",
     "output_type": "stream",
     "text": [
      "Score de treino:  0.9483568075117371\n",
      "Score de teste:  0.958041958041958\n"
     ]
    }
   ],
   "source": [
    "# Dividindo entre treino e teste\n",
    "X_Ntrain, X_Ntest, y_train, y_test = train_test_split(X_norm, cancer.target, random_state=0)\n",
    "\n",
    "# Treinando o modelo\n",
    "svc.fit(X_Ntrain, y_train)\n",
    "\n",
    "# Verificando o score\n",
    "print(\"Score de treino: \", svc.score(X_Ntrain, y_train))\n",
    "print(\"Score de teste: \", svc.score(X_Ntest, y_test))"
   ]
  },
  {
   "cell_type": "markdown",
   "metadata": {},
   "source": [
    "Houve uma melhoria significativa após a normalização dos dados! Também podemos alterar os parâmetro para buscar um resultado ainda melhor."
   ]
  },
  {
   "cell_type": "code",
   "execution_count": 8,
   "metadata": {},
   "outputs": [
    {
     "name": "stdout",
     "output_type": "stream",
     "text": [
      "Score de treino, C= 1 :  0.9483568075117371\n",
      "Score de teste, C= 1 :  0.958041958041958 \n",
      "\n",
      "Score de treino, C= 10 :  0.9765258215962441\n",
      "Score de teste, C= 10 :  0.958041958041958 \n",
      "\n",
      "Score de treino, C= 100 :  0.9859154929577465\n",
      "Score de teste, C= 100 :  0.965034965034965 \n",
      "\n",
      "Score de treino, C= 1000 :  0.9859154929577465\n",
      "Score de teste, C= 1000 :  0.972027972027972 \n",
      "\n",
      "Score de treino, C= 10000 :  0.9953051643192489\n",
      "Score de teste, C= 10000 :  0.958041958041958 \n",
      "\n"
     ]
    }
   ],
   "source": [
    "parametro = (1, 10, 100, 1000, 10000)\n",
    "\n",
    "for i in parametro:\n",
    "    svc = SVC(C=i)\n",
    "    svc.fit(X_Ntrain, y_train)\n",
    "    \n",
    "    print(\"Score de treino, C=\", i, \": \", svc.score(X_Ntrain, y_train))\n",
    "    print(\"Score de teste, C=\", i, \": \", svc.score(X_Ntest, y_test), chr(10))"
   ]
  },
  {
   "cell_type": "markdown",
   "metadata": {},
   "source": [
    "Conforme podemos ver acima à medida que fomos aumentando o valor de C, os resultados foram ficando cada vez melhor, porém ao configurarmos C=10000, obtivemos um valor superior nos dados de treino e uma queda nos dados de teste, indicando um overfitting. Dado os resultados acima, podemos concluir que para esses dados o melhor valor para C está em torno de 1000."
   ]
  }
 ],
 "metadata": {
  "kernelspec": {
   "display_name": "Python 3",
   "language": "python",
   "name": "python3"
  },
  "language_info": {
   "codemirror_mode": {
    "name": "ipython",
    "version": 3
   },
   "file_extension": ".py",
   "mimetype": "text/x-python",
   "name": "python",
   "nbconvert_exporter": "python",
   "pygments_lexer": "ipython3",
   "version": "3.6.5"
  }
 },
 "nbformat": 4,
 "nbformat_minor": 2
}
