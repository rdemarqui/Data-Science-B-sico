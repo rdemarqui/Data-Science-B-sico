{
 "cells": [
  {
   "cell_type": "markdown",
   "metadata": {},
   "source": [
    "## Scikit-Learn  \n",
    "A scikit-learn (originalmente scikits.learn) é uma biblioteca de aprendizado de máquina de código aberto para a linguagem de programação Python.[3] Ela inclui vários algoritmos de classificação, regressão e agrupamento incluindo máquinas de vetores de suporte, florestas aleatórias, gradient boosting, k-means e DBSCAN, e é projetada para interagir com as bibliotecas Python numéricas e científicas NumPy e SciPy.  \n",
    "\n",
    "Todo algoritmo de aprendizado de máquina no Scikit-Learn é implementado por meio da API Estimator, que fornece uma interface consistente para uma ampla variedade de aplicativos de aprendizado de máquina."
   ]
  },
  {
   "cell_type": "markdown",
   "metadata": {},
   "source": [
    "**Noções básicas da API**  \n",
    "Mais comumente, as etapas de uso da API do estimador Scikit-Learn são as seguintes (vamos percorrer alguns exemplos detalhados nas seções a seguir):\n",
    "1. Escolha uma classe de modelo importando a classe de estimadores apropriada do Scikit-Learn;\n",
    "2. Escolha os hyperparametros do modelo, instanciando essa classe com os valores desejados;\n",
    "3. Organize os dados em uma matriz de recursos e um vetor de destino;\n",
    "4. Ajuste o modelo aos seus dados chamando o método ``fit()`` da instância do modelo;\n",
    "5. Aplique o modelo a novos dados:\n",
    "    * Para o aprendizado supervisionado, geralmente prevemos rótulos para dados desconhecidos usando o método ``predict()``.\n",
    "    * Para aprendizado não supervisionado, geralmente transformamos ou inferimos propriedades dos dados usando o método ``transform()`` ou ``predict()``."
   ]
  },
  {
   "cell_type": "markdown",
   "metadata": {},
   "source": [
    "### Tipos de Aprendizado\n",
    "\n",
    "**Aprendizado supervisionado**  \n",
    "    Modelos que podem prever rótulos com base em dados de treinamento rotulados  \n",
    "    \n",
    "* Classificação  \n",
    "         Modelos que prevêem rótulos como duas ou mais categorias distintas  \n",
    "* Regressão  \n",
    "         Modelos que prevêem rótulos contínuos\n",
    "\n",
    "\n",
    "**Aprendizagem não supervisionada**  \n",
    "Modelos que identificam estrutura em dados não rotulados  \n",
    "\n",
    "* Clustering\n",
    "        Modelos que detectam e identificam grupos distintos nos dados\n",
    "* Redução de dimensionalidade\n",
    "        Modelos que detectam e identificam estrutura de menor dimensão em dados de dimensão superior."
   ]
  }
 ],
 "metadata": {
  "kernelspec": {
   "display_name": "Python 3",
   "language": "python",
   "name": "python3"
  },
  "language_info": {
   "codemirror_mode": {
    "name": "ipython",
    "version": 3
   },
   "file_extension": ".py",
   "mimetype": "text/x-python",
   "name": "python",
   "nbconvert_exporter": "python",
   "pygments_lexer": "ipython3",
   "version": "3.6.4"
  }
 },
 "nbformat": 4,
 "nbformat_minor": 2
}
