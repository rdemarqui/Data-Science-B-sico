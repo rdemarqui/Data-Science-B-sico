{
 "cells": [
  {
   "cell_type": "markdown",
   "metadata": {},
   "source": [
    "## Scikit-Learn  \n",
    "A scikit-learn (originalmente scikits.learn) é uma biblioteca de aprendizado de máquina de código aberto para a linguagem de programação Python.[3] Ela inclui vários algoritmos de classificação, regressão e agrupamento incluindo máquinas de vetores de suporte, florestas aleatórias, gradient boosting, k-means e DBSCAN, e é projetada para interagir com as bibliotecas Python numéricas e científicas NumPy e SciPy."
   ]
  },
  {
   "cell_type": "markdown",
   "metadata": {},
   "source": [
    "### Tipos de Aprendizado\n",
    "\n",
    "**Aprendizado supervisionado**  \n",
    "    Modelos que podem prever rótulos com base em dados de treinamento rotulados  \n",
    "    \n",
    "* Classificação  \n",
    "         Modelos que prevêem rótulos como duas ou mais categorias distintas  \n",
    "* Regressão  \n",
    "         Modelos que prevêem rótulos contínuos\n",
    "\n",
    "\n",
    "**Aprendizagem não supervisionada**  \n",
    "Modelos que identificam estrutura em dados não rotulados  \n",
    "\n",
    "* Clustering\n",
    "        Modelos que detectam e identificam grupos distintos nos dados\n",
    "* Redução de dimensionalidade\n",
    "        Modelos que detectam e identificam estrutura de menor dimensão em dados de dimensão superior"
   ]
  },
  {
   "cell_type": "markdown",
   "metadata": {},
   "source": [
    "**Representação dos dados**  \n",
    "Na figura abaixo temos a representação da iris dataset. Cada linha refere-se a uma única flor observada e o número de linhas é o número total de flores no conjunto de dados. Em geral, nos referiremos às linhas da matriz como samples (amostras) e ao número de linhas como n_samples (n_amostras). Da mesma forma, cada coluna refere-se a uma informação quantitativa específica que descreve cada amostra. Em geral, nos referiremos às colunas da matriz como fetures (recursos) e ao número de colunas como n_features (n_recursos). Na última coluna temos a class label (rótulo) que informa sobre a categoria da flor. Essa última coluna é usada para treinarmos os modelos de apresndizagem supervisionada e é também conhcecida como target (alvo)."
   ]
  },
  {
   "cell_type": "markdown",
   "metadata": {},
   "source": [
    "<img src=\"iris-data-set.png\" alt=\"drawing\" width=\"430\"/>"
   ]
  }
 ],
 "metadata": {
  "kernelspec": {
   "display_name": "Python 3",
   "language": "python",
   "name": "python3"
  },
  "language_info": {
   "codemirror_mode": {
    "name": "ipython",
    "version": 3
   },
   "file_extension": ".py",
   "mimetype": "text/x-python",
   "name": "python",
   "nbconvert_exporter": "python",
   "pygments_lexer": "ipython3",
   "version": "3.6.4"
  }
 },
 "nbformat": 4,
 "nbformat_minor": 2
}
