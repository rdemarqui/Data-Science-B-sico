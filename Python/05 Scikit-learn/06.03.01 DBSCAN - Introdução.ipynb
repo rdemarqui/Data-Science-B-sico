{
 "cells": [
  {
   "cell_type": "markdown",
   "metadata": {},
   "source": [
    "# DBSCAN\n",
    "Density-Based Spatial Clustering of Applications with Noise (Agrupamento Espacial Baseado em Densidade de Aplicações com Ruído)"
   ]
  },
  {
   "cell_type": "markdown",
   "metadata": {},
   "source": [
    "DBSCAN é um algoritmo de clustering popular usado como uma alternativa ao K-Means, em análise preditiva.\n",
    "\n",
    "Foi proposto por Martin Ester, Hans-Peter Kriegel, Jörg Sander e Xiaowei Xu em 1996. Trata-se de um algoritmo de agrupamento baseado em densidade: dado um conjunto de pontos em algum espaço, agrupa pontos que estão intimamente próximos (pontos com muitos vizinhos próximos), e marca como outliers pontos que estão sozinhos em regiões de baixa densidade (vizinhos que estão muito longe). DBSCAN é um dos algoritmos de agrupamento mais comuns e também mais citados na literatura científica. É um pouco mais lento que o agrupamento aglomerativo e o k-Means, mas ainda é escalável para conjuntos de dados relativamente grandes."
   ]
  },
  {
   "cell_type": "markdown",
   "metadata": {},
   "source": [
    "**Densidade**  \n",
    "A noção de densidade em DBSCAN é definida como o número de pontos dentro de um raio épsilon especificado. Um rótulo especial é atribuído a cada amostra (ponto) usando os seguintes critérios:\n",
    "* Um ponto é considerado como ponto central (core) se pelo menos a quantidade de pontos vizinhos dentro do raio especificado (epsilon), for maior ou igual à quantidade mínima definidida (min_samples);\n",
    "* Um ponto de borda (border) é um ponto que tem menos vizinhos do que min_samples dentro de epsilon, mas está dentro do raio epsilon de um ponto central;\n",
    "* Todos os outros pontos que não são nem pontos centrais nem de borda são considerados como pontos de ruído (noise).\n",
    "\n",
    "<img src=\"figuras/DBSCAN1.png\" width=\"350\"/>"
   ]
  },
  {
   "cell_type": "markdown",
   "metadata": {},
   "source": [
    "**Algoritmo**\n",
    "1. Escolhe um ponto aleatório inicial;\n",
    "2. Executa um DFS (depth first search) dentro do raio definido pela distância eps;  \n",
    "2.1 Se a quantidade de pontos (incluindo a si próprio) for maior ou igual a min_samples, esse ponto é rotulado como central (core) e um cluster é criado;\n",
    "\n",
    "<img src=\"figuras/DBSCAN_Points01.png\" width=\"200\"/>\n",
    "\n",
    "2.1.2 Aplica recursivamente o DFS para cada um dos pontos de vizinhança, expandidno o cluster, até que não haja mais pontos que possam ser adicionados ao conjunto.\n",
    "\n",
    "<img src=\"figuras/DBSCAN_Points02.png\" width=\"200\"/>\n",
    "\n",
    "3. Repete as etapas 1 e 2 até que todos os pontos no conjunto de dados sejam explorados\n",
    "\n",
    "<img src=\"figuras/DBSCAN_Points03.png\" width=\"200\"/>\n",
    "\n",
    "Nota: Pontos que foram classificados como outlier na construção de um cluster podem mudar de status por estarem perto de outro cluster e atenderem as exigências dos parâmetros configurados."
   ]
  },
  {
   "cell_type": "markdown",
   "metadata": {},
   "source": [
    "Uma das principais vantagens do uso do DBSCAN é que ele não assume que os clusters tenham uma forma esférica como em k-means. Além disso, o DBSCAN é diferente do k-means e do clustering hierárquico, pois não designa necessariamente cada ponto para um cluster, sendo capaz de identificar pontos de ruído.\n",
    "\n",
    "**Nota:** Há excelente representação de como o DBSCAN funciona no link: https://www.naftaliharris.com/blog/visualizing-dbscan-clustering/"
   ]
  },
  {
   "cell_type": "markdown",
   "metadata": {},
   "source": [
    "**Parâmetros**  \n",
    "Apesar de não termos que definir o número de clusters a priori, o DBSCAN necessita que 2 parâmetros sejam ajustados: ``eps`` e ``min_samples``.  \n",
    "\n",
    "Relembrando:\n",
    "* eps (epsilon) é a distância máxima entre dois pontos de dados a serem considerados na mesma vizinhança.  \n",
    "* min_samples é a quantidade mínima de pontos de dados em uma vizinhança para ser considerado um cluster.\n",
    "\n",
    "Aumentar eps significa que mais pontos serão incluídos em um cluster. Isso faz com que os clusters cresçam, mas também pode levar vários clusters a se unirem em um.  \n",
    "Aumentar min_samples significa que menos pontos serão pontos centrais e mais pontos serão rotulados como ruído.\n",
    "\n",
    "Encontrar uma boa configuração para eps é, às vezes, mais fácil após dimensionar os dados usando ``StandardScaler`` ou ``MinMaxScaler``, pois o uso dessas técnicas de dimensionamento garantirá que todos os recursos tenham intervalos semelhantes."
   ]
  },
  {
   "cell_type": "markdown",
   "metadata": {},
   "source": [
    "**Avaliação de performance**  \n",
    "\n",
    "**Silhouette Score:** É calculada utilizando a distância intra-cluster média entre os pontos, e a distância média do cluster mais próximo. Por exemplo, um cluster com muitos pontos de dados muito próximos uns dos outros (alta densidade) E longe do cluster mais próximo, terá uma pontuação alta. O escore varia de -1 a 1, sendo -1 o pior possível e 1 o melhor escore. Escores 0 sugerem clusters sobrepostos."
   ]
  },
  {
   "cell_type": "markdown",
   "metadata": {},
   "source": [
    "**Vantagens:**\n",
    "- Não requer que o usuário defina o número de clusters a priori;\n",
    "- Pode capturar clusters de formas complexas;\n",
    "- Pode identificar pontos que não fazem parte de nenhum cluster (outliers).\n",
    "\n",
    "**Desvantagens:**\n",
    "- Como o algoritmo utiliza um valor de distância (epsilon) e quantidade mínima entre pontos (min_samples) para definição de um cluster, ele pode encontrar problemas na classificação de clusters com densidade muito variadas, podendo interpretar um cluster de pontos muitos esparsos como pontos outliers.\n",
    "- Dificludade com dados de alta dimensionalidade."
   ]
  },
  {
   "cell_type": "markdown",
   "metadata": {},
   "source": [
    "**Aplicações**  \n",
    "Como o algoritmo DBSCAN tem um conceito interno de ruído, é comumente usado para detectar valores anómalos nos dados - por exemplo, atividade fraudulenta em cartões de crédito, e-commerce ou reivindicações de seguros.  \n",
    "https://www.nature.com/articles/srep34406#f2  \n",
    "https://www.oatext.com/Usage-of-Kernel-K-Means-and-DBSCAN-cluster-algorithms-in-health-studies-An-application.php#Article"
   ]
  },
  {
   "cell_type": "markdown",
   "metadata": {},
   "source": [
    "**Referências**  \n",
    "http://delivery.acm.org/10.1145/3070000/3068335/a19-schubert.pdf"
   ]
  }
 ],
 "metadata": {
  "kernelspec": {
   "display_name": "Python 3",
   "language": "python",
   "name": "python3"
  },
  "language_info": {
   "codemirror_mode": {
    "name": "ipython",
    "version": 3
   },
   "file_extension": ".py",
   "mimetype": "text/x-python",
   "name": "python",
   "nbconvert_exporter": "python",
   "pygments_lexer": "ipython3",
   "version": "3.6.5"
  }
 },
 "nbformat": 4,
 "nbformat_minor": 2
}
