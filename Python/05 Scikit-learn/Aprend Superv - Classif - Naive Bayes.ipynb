{
 "cells": [
  {
   "cell_type": "markdown",
   "metadata": {},
   "source": [
    "## Naive Bayes Classification"
   ]
  },
  {
   "cell_type": "markdown",
   "metadata": {},
   "source": [
    "É um algoritmo para problemas de Classificação. Recebe esse nome por ser baseado no teorema da probailidade de Bayes. O algoritimo tem como objetivo calcular a probabilidade que uma amostra desconhecida pertença à uma das classes possíveis, ou seja, predizer a classe mais provável. Esse tipo de regressão é chamado de classificação estatística pois é baseada totalmente em probabilidade. Considera que o valor de um atributo sobre determinada classe é independente dos outros atributos, o que simplifica os cálculos envolvidos.\n",
    "\n",
    "\n",
    "O modelo Naive Bayes é um algoritmo de classificação extremamente rápido e simples, adequado para conjuntos de dados de grandes dimensões. O preço pago por essa eficiência é que o modelo Naive Bayes geralmente fornece um desempenho de generalização um pouco pior que os classificadores lineares, como LogisticRegression e LinearSVC."
   ]
  },
  {
   "cell_type": "markdown",
   "metadata": {},
   "source": [
    "**Possíveis aplicações**  \n",
    "* Previsões multi-classes\n",
    "* Classificação de textos/Filtragem de spam/Análise de sentimento\n",
    "* Previsões em tempo real\n",
    "* Sistema de Recomendação\n"
   ]
  },
  {
   "cell_type": "markdown",
   "metadata": {},
   "source": [
    "**Teorema de Bayes**  \n",
    "Em teoria da probabilidade o teorema de bayes mostra a relação entre a probabilidade condicional e a sua inversa.\n",
    "\n",
    "A essência do teorema de Bayes consiste na revisão das probabilidades iniciais (a priori) em relação à evidência amostral. As estimativas revisadas chamam-se probabilidades a posteriori. \n",
    "\n",
    "![](figuras\\naive-bayes-eq.png)\n",
    "\n",
    "A equação acima se lê da seguinte forma: Probabilidade de um evento A, dado B é igual à Probabilidade de um evento B, dado A, multiplicado pela probabilidade de A, tudo isso sendo dividido pela probabilidade de B.\n",
    "O teorema, na prática, busca calcular as probabilidades condicionais do evento A, no numerador, dividido pelo total da probabilidade do evento B no denominador.\n",
    "\n",
    "Pr(A) e Pr(B) são as probabilidades a priori de A e B.\n",
    "Pr(B|A) e Pr(A|B) são as probabilidades a posteriori de B condicional a A e de A condicional a B\n",
    "respectivamente.\n",
    "\n",
    "\n"
   ]
  },
  {
   "cell_type": "markdown",
   "metadata": {},
   "source": [
    "**Por que Naive?**  \n",
    "A tradução aproximada de naive é ingênuo/simples, e usamos esse termo devido à algumas suposições que fazemos para calcular as probabilidades. O termo naive vem do fato de que se assume que cada recurso é independente do resto, ou seja, o valor de um recurso não tem relação com o valor de outro recurso. Para facilitar os cálculos, atribuimos características à distribuição dos dados que podem assumir:  \n",
    "\n",
    "**No Scikit-Learn**\n",
    "* Gaussian - Assume a distribuição normal. ``GaussianNB()``.  \n",
    "* Multinomial - Usado para contagem de variáveis discretas. ``MultinomialNB()``.  \n",
    "* Bernoulli - Ou binomial, onde possuímos como saída uma classificação binária. ``BernoulliNB()``."
   ]
  },
  {
   "cell_type": "code",
   "execution_count": null,
   "metadata": {},
   "outputs": [],
   "source": []
  }
 ],
 "metadata": {
  "kernelspec": {
   "display_name": "Python 3",
   "language": "python",
   "name": "python3"
  },
  "language_info": {
   "codemirror_mode": {
    "name": "ipython",
    "version": 3
   },
   "file_extension": ".py",
   "mimetype": "text/x-python",
   "name": "python",
   "nbconvert_exporter": "python",
   "pygments_lexer": "ipython3",
   "version": "3.6.4"
  }
 },
 "nbformat": 4,
 "nbformat_minor": 2
}
