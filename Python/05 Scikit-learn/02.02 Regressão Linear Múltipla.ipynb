{
 "cells": [
  {
   "cell_type": "markdown",
   "metadata": {},
   "source": [
    "## Regressão Linear Multipla"
   ]
  },
  {
   "cell_type": "markdown",
   "metadata": {},
   "source": [
    "No exemplo anterior foi utilizado um dataset bi-dimensional, porém o modelo de regressão linear do Scikit-Learn permite também o calculo multidimensional, utilizando o formato:\n",
    "\n",
    "    y = a0 + a1x1 + a2x2 + ⋯\n",
    "\n",
    "Como podemos ver, o método de regressão linaer múltipla é que uma extensão da regressão linear simples. Geometricamente, isso é como ajustar um plano a pontos em três dimensões, ou encaixar um hiperplano em pontos de dimensões mais altas."
   ]
  },
  {
   "cell_type": "code",
   "execution_count": 1,
   "metadata": {},
   "outputs": [],
   "source": [
    "%matplotlib inline\n",
    "import matplotlib.pyplot as plt\n",
    "import seaborn as sns; sns.set()\n",
    "import numpy as np"
   ]
  },
  {
   "cell_type": "markdown",
   "metadata": {},
   "source": [
    "### Exemplo"
   ]
  },
  {
   "cell_type": "markdown",
   "metadata": {},
   "source": [
    "**Gerando os dados tridimensionais**"
   ]
  },
  {
   "cell_type": "code",
   "execution_count": 2,
   "metadata": {},
   "outputs": [
    {
     "data": {
      "text/plain": [
       "(100, 3)"
      ]
     },
     "execution_count": 2,
     "metadata": {},
     "output_type": "execute_result"
    }
   ],
   "source": [
    "rng = np.random.RandomState(1)  # Seed\n",
    "X = 10 * rng.rand(100, 3)       # Gerando os dados tridimensionais de X\n",
    "\n",
    "X.shape                         # Verificando o formato"
   ]
  },
  {
   "cell_type": "markdown",
   "metadata": {},
   "source": [
    "**Aplicando o modelo e encontrando os parâmetros**"
   ]
  },
  {
   "cell_type": "code",
   "execution_count": 3,
   "metadata": {},
   "outputs": [
    {
     "name": "stdout",
     "output_type": "stream",
     "text": [
      "Coef. angular:  [ 1.5 -2.   1. ]\n",
      "Inclinação da reta:  0.5000000000000049\n"
     ]
    }
   ],
   "source": [
    "from sklearn.linear_model import LinearRegression\n",
    "\n",
    "# Instanciando o modelo\n",
    "model = LinearRegression(fit_intercept=True)\n",
    "\n",
    "# Gerando os dados de y\n",
    "y = 0.5 + np.dot(X, [1.5, -2., 1.])\n",
    "\n",
    "# Treinando o modelo\n",
    "model.fit(X, y)\n",
    "\n",
    "# Verificando os parâmetros\n",
    "print('Coef. angular: ', model.coef_)\n",
    "print('Inclinação da reta: ', model.intercept_)"
   ]
  }
 ],
 "metadata": {
  "kernelspec": {
   "display_name": "Python 3",
   "language": "python",
   "name": "python3"
  },
  "language_info": {
   "codemirror_mode": {
    "name": "ipython",
    "version": 3
   },
   "file_extension": ".py",
   "mimetype": "text/x-python",
   "name": "python",
   "nbconvert_exporter": "python",
   "pygments_lexer": "ipython3",
   "version": "3.6.4"
  }
 },
 "nbformat": 4,
 "nbformat_minor": 2
}
