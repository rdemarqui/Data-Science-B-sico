{
 "cells": [
  {
   "cell_type": "markdown",
   "metadata": {},
   "source": [
    "## Clustering\n",
    "É o processo de agrupamento através de identificação de padrões (aprendizagem não supervisionada). O principal objetivo da técnica de Clustering é encontrar grupos semelhantes ou homogêneos em dados, que são chamados clusters.\n",
    "\n",
    "Clustering é comumente usado para explorar um conjunto de dados. As redes sociais podem ser agrupadas para identificar comunidades e sugerir conexões ausentes entre as pessoas. Em biologia, o agrupamento é usado para encontrar grupos de genes com padrões de expressão semelhantes. Os sistemas de recomendação, por vezes, empregam o agrupamento para identificar produtos ou mídias que possam atrair um usuário. No marketing, o clustering é usado para encontrar segmentos de consumidores semelhantes.\n",
    "\n",
    "<img src=\"figuras/Clustering1.png\" width=\"600\"/>"
   ]
  },
  {
   "cell_type": "markdown",
   "metadata": {},
   "source": [
    "O agrupamento é guiado pelo princípio de que os itens dentro de um cluster devem ser **muito semelhantes entre si**, mas **muito diferentes entre clusters**.\n",
    "\n",
    "- O centro do cluster (centróide) é a média aritmética de todos os pontos pertencentes ao cluster.  \n",
    "- Cada ponto está mais próximo de seu próprio centro de cluster do que de outros centros de cluster.\n",
    "\n",
    "Aplicações do método de Cluster:\n",
    "- Segmentação de clientes em grupos com demografia semelhante ou padrões de compra para campanhas de marketing direcionadas.\n",
    "- Detecção de comportamento anômalo, como intrusões de rede não autorizadas, identificando padrões de uso fora dos clusters conhecidos.\n",
    "- Simplificação de grandes conjuntos de dados agrupando características com valores semelhantes em um número menor de categorias homogêneas.\n"
   ]
  },
  {
   "cell_type": "markdown",
   "metadata": {},
   "source": [
    "**Aprendizagem semi-supervisionada**  \n",
    "Quando temos um dataset sem rótulo, ou seja, sem variável target, podemos usar o clustering para criar rótulos de classe. A partir daí, podemos aplicar um algoritmo supervisionado, como árvores de decisão para encontrar os preditores mais importantes dessas classes. Isso processo é chamado de **aprendizagem semi-supervisionada**."
   ]
  },
  {
   "cell_type": "markdown",
   "metadata": {},
   "source": [
    "**Tipos de Clustering**\n",
    "\n",
    "<img src=\"figuras/Clustering2.png\" width=\"600\"/>"
   ]
  },
  {
   "cell_type": "markdown",
   "metadata": {},
   "source": [
    "### Clustering Hierarquico\n",
    "É a definição de cluster que possue uma hierarquia, executada de maneira iterativa, mesclando clusters menores em um cluster maior ou dividindo cluster maior em cluster menores. Esse hierarquia é chamda de dendograma. \n",
    "\n",
    "Um dendograma é uma das maneiras pelas quais os clusters hierarquicos são representados e o cientista de dados pode realizar agrupamentos diferentes através dos níveis representados pelo dendograma. O dendograma é definido pela escala de similaridade que representa a distância entre os clusters que foram agrupados a partir do cluster maior.\n",
    "\n",
    "**Dendograma**    \n",
    "<img src=\"figuras/dendograma.png\" width=\"400\"/>"
   ]
  },
  {
   "cell_type": "markdown",
   "metadata": {},
   "source": [
    "Existe uma outra maneira simples de representar cluster hierarquicos, através do **Diagrama de Venn**. Nessa representação circundamos os pontos de dados, que são uma parte do cluster.  \n",
    "\n",
    "**Diagrama de Venn**\n",
    "<img src=\"figuras/venn.png\" width=\"400\"/>\n"
   ]
  },
  {
   "cell_type": "markdown",
   "metadata": {},
   "source": [
    "Existem 2 tipos de agrupamentos para nível hierárquico:\n",
    "- **Algoritmos Algomerativos (Bottom-up)**: Algomera um conjunto de cluster em um cluster maior.\n",
    "- **Algoritmos Divisivos (Top-down)**; Divide um cluster em sub-clusters.\n",
    "\n",
    "Para o agrupamento hierárquico, os pontos de dados reais não são necessários. Somente a matriz de medidas de distância é suficiente, pois o agrupamento é feito com base nas distâncias.\n",
    "\n",
    "**Heurística de agrupamento:**  \n",
    "1- Comece com clusters como S1 = {X1}, S2 = {X2} ... Sm = {Xm}.  \n",
    "2- Encontre um conjunto dos clusters mais próximos e mescle-os em um único cluster.  \n",
    "3- Repita o passo 2 até que o número de aglomerados formados seja igual ao número definido de clusters."
   ]
  },
  {
   "cell_type": "markdown",
   "metadata": {},
   "source": [
    "**Clustering Hierárquico x Particional**  \n",
    "Normalmente o agrupamento por partições é mais rápido que o hierárquico. Enquanto o agrupamento hierárquico trabalha com medidas de similaridade, o clustering particional requer o número de clusters e detalhe em torno dos centros iniciais de cada cluster.  \n",
    "O agrupamento hierárquico não requer quaisquer parâmentros de entrada, enquanto os algoritmos de agrupaentos por partição requerem um valor entreda que indica o número de clusters necessários para iniciar a execução.   \n",
    "No clustering particional, cada cluster formado é mutuamente exclusivo, nunca pode haver uma relação hierárquica entre os clusters.  \n",
    "\n",
    "A qualidade do agrupamento depende do algoritmo escolhido, da função de distância e da aplicação. Diz-se que a qualidade de um modelo de cluster é superior, quando a **distância inter-cluster é maximizada** e a **distância intra-cluster é minimizada**."
   ]
  },
  {
   "cell_type": "markdown",
   "metadata": {},
   "source": [
    "<img src=\"figuras/Clustering.png\">"
   ]
  }
 ],
 "metadata": {
  "kernelspec": {
   "display_name": "Python 3",
   "language": "python",
   "name": "python3"
  },
  "language_info": {
   "codemirror_mode": {
    "name": "ipython",
    "version": 3
   },
   "file_extension": ".py",
   "mimetype": "text/x-python",
   "name": "python",
   "nbconvert_exporter": "python",
   "pygments_lexer": "ipython3",
   "version": "3.6.5"
  }
 },
 "nbformat": 4,
 "nbformat_minor": 2
}
