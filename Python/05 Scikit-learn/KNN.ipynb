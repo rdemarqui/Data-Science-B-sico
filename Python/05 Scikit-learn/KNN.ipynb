{
 "cells": [
  {
   "cell_type": "markdown",
   "metadata": {},
   "source": [
    "## KNN"
   ]
  },
  {
   "cell_type": "markdown",
   "metadata": {},
   "source": [
    "O algoritmo k-Nearest Neighbors (kNN) é indiscutivelmente o mais simples algoritmo de aprendizado de máquina. Construir o modelo consiste apenas em armazenar o conjunto de dados de treinamento. Diferentemente do modelo de regressão onde o modelo é treinado, as variáveis são definidas na equação e o modelo fica pronto para a predição, o modelo KNN é do tipo **lazy**, ou seja, somente computa os dados e cria o modelo quando solicitamos a classificação. Para fazer uma previsão para um novo ponto de dados, o algoritmo encontra os pontos de dados mais próximos (vizinhos) no conjunto de dados de treinamento."
   ]
  },
  {
   "cell_type": "markdown",
   "metadata": {},
   "source": [
    "### Os passos para sua implementação são: \n",
    "1 - Normalizar os dados  \n",
    "2 - Definir o método para cálculo da distância  \n",
    "3 - Definir o valor de K"
   ]
  },
  {
   "cell_type": "markdown",
   "metadata": {},
   "source": [
    "**1 - Normalização**  \n",
    "Os dados devem ser normalizados antes de aplicar o modelo, pois ele é sensível aos valores.\n",
    "O algoritmo é sensível a outliers e portanto devemos analisar o dataset para eventuais retiradas desses dados altamente discrepantes."
   ]
  },
  {
   "cell_type": "markdown",
   "metadata": {},
   "source": [
    "**2 - Formas de medir a Distância**\n",
    "- Distância Euclidiana - Para atributos numéricos.  \n",
    "- Distância Manhatan - É a distância entre dois pontos através do angulo de X e Y.  \n",
    "- Distância de Minkowsky - É uma generalização da distância Euclidiana.  \n",
    "- Distância de Hamming - Para atributos categóricos. Se os atributos de dois elementos forem iguais a distância será 0, se forem diferentes será 1."
   ]
  },
  {
   "cell_type": "markdown",
   "metadata": {},
   "source": [
    "**3 - Definição do valor de K**  \n",
    "Esse método utiliza o rótulo dos vizinhos mais próximos para rotular o elemento desconhecido. Utiliza-se o voto majoritário para a classificação.\n",
    "Um ponto crítico do modelo é definir exatamente o valor de K, que é o número de vizinhos mais próximos que serão considerados pelo algoritmo.  \n",
    "\n",
    "<div style=\"width:60%\">![knn](figuras/knn1.png)</div>"
   ]
  },
  {
   "cell_type": "code",
   "execution_count": null,
   "metadata": {},
   "outputs": [],
   "source": []
  }
 ],
 "metadata": {
  "kernelspec": {
   "display_name": "Python 3",
   "language": "python",
   "name": "python3"
  },
  "language_info": {
   "codemirror_mode": {
    "name": "ipython",
    "version": 3
   },
   "file_extension": ".py",
   "mimetype": "text/x-python",
   "name": "python",
   "nbconvert_exporter": "python",
   "pygments_lexer": "ipython3",
   "version": "3.6.4"
  }
 },
 "nbformat": 4,
 "nbformat_minor": 2
}
