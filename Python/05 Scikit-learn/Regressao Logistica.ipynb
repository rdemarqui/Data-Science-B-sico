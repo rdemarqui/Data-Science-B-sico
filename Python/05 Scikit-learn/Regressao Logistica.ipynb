{
 "cells": [
  {
   "cell_type": "code",
   "execution_count": 53,
   "metadata": {},
   "outputs": [],
   "source": [
    "import pandas as pd\n",
    "from sklearn.model_selection import train_test_split\n",
    "import matplotlib.pyplot as plt\n",
    "import seaborn as sns\n",
    "import numpy as np\n",
    "import statsmodels.api as sm\n",
    "\n",
    "from sklearn import metrics\n",
    "from sklearn.metrics import (accuracy_score, \n",
    "                             confusion_matrix, \n",
    "                             recall_score, \n",
    "                             precision_score)"
   ]
  },
  {
   "cell_type": "code",
   "execution_count": 38,
   "metadata": {},
   "outputs": [
    {
     "data": {
      "text/html": [
       "<div>\n",
       "<style scoped>\n",
       "    .dataframe tbody tr th:only-of-type {\n",
       "        vertical-align: middle;\n",
       "    }\n",
       "\n",
       "    .dataframe tbody tr th {\n",
       "        vertical-align: top;\n",
       "    }\n",
       "\n",
       "    .dataframe thead th {\n",
       "        text-align: right;\n",
       "    }\n",
       "</style>\n",
       "<table border=\"1\" class=\"dataframe\">\n",
       "  <thead>\n",
       "    <tr style=\"text-align: right;\">\n",
       "      <th></th>\n",
       "      <th>Pregnancies</th>\n",
       "      <th>Glucose</th>\n",
       "      <th>BloodPressure</th>\n",
       "      <th>SkinThickness</th>\n",
       "      <th>Insulin</th>\n",
       "      <th>BMI</th>\n",
       "      <th>Pedigree</th>\n",
       "      <th>Age</th>\n",
       "      <th>Class</th>\n",
       "    </tr>\n",
       "  </thead>\n",
       "  <tbody>\n",
       "    <tr>\n",
       "      <th>0</th>\n",
       "      <td>6</td>\n",
       "      <td>148</td>\n",
       "      <td>72</td>\n",
       "      <td>35</td>\n",
       "      <td>0</td>\n",
       "      <td>33.6</td>\n",
       "      <td>0.627</td>\n",
       "      <td>50</td>\n",
       "      <td>1</td>\n",
       "    </tr>\n",
       "    <tr>\n",
       "      <th>1</th>\n",
       "      <td>1</td>\n",
       "      <td>85</td>\n",
       "      <td>66</td>\n",
       "      <td>29</td>\n",
       "      <td>0</td>\n",
       "      <td>26.6</td>\n",
       "      <td>0.351</td>\n",
       "      <td>31</td>\n",
       "      <td>0</td>\n",
       "    </tr>\n",
       "    <tr>\n",
       "      <th>2</th>\n",
       "      <td>8</td>\n",
       "      <td>183</td>\n",
       "      <td>64</td>\n",
       "      <td>0</td>\n",
       "      <td>0</td>\n",
       "      <td>23.3</td>\n",
       "      <td>0.672</td>\n",
       "      <td>32</td>\n",
       "      <td>1</td>\n",
       "    </tr>\n",
       "    <tr>\n",
       "      <th>3</th>\n",
       "      <td>1</td>\n",
       "      <td>89</td>\n",
       "      <td>66</td>\n",
       "      <td>23</td>\n",
       "      <td>94</td>\n",
       "      <td>28.1</td>\n",
       "      <td>0.167</td>\n",
       "      <td>21</td>\n",
       "      <td>0</td>\n",
       "    </tr>\n",
       "    <tr>\n",
       "      <th>4</th>\n",
       "      <td>0</td>\n",
       "      <td>137</td>\n",
       "      <td>40</td>\n",
       "      <td>35</td>\n",
       "      <td>168</td>\n",
       "      <td>43.1</td>\n",
       "      <td>2.288</td>\n",
       "      <td>33</td>\n",
       "      <td>1</td>\n",
       "    </tr>\n",
       "  </tbody>\n",
       "</table>\n",
       "</div>"
      ],
      "text/plain": [
       "   Pregnancies  Glucose  BloodPressure  SkinThickness  Insulin   BMI  \\\n",
       "0            6      148             72             35        0  33.6   \n",
       "1            1       85             66             29        0  26.6   \n",
       "2            8      183             64              0        0  23.3   \n",
       "3            1       89             66             23       94  28.1   \n",
       "4            0      137             40             35      168  43.1   \n",
       "\n",
       "   Pedigree  Age  Class  \n",
       "0     0.627   50      1  \n",
       "1     0.351   31      0  \n",
       "2     0.672   32      1  \n",
       "3     0.167   21      0  \n",
       "4     2.288   33      1  "
      ]
     },
     "execution_count": 38,
     "metadata": {},
     "output_type": "execute_result"
    }
   ],
   "source": [
    "df = pd.read_csv('datasets\\pima-indians-diabetes.txt')\n",
    "df.head()"
   ]
  },
  {
   "cell_type": "code",
   "execution_count": 39,
   "metadata": {},
   "outputs": [
    {
     "data": {
      "text/html": [
       "<div>\n",
       "<style scoped>\n",
       "    .dataframe tbody tr th:only-of-type {\n",
       "        vertical-align: middle;\n",
       "    }\n",
       "\n",
       "    .dataframe tbody tr th {\n",
       "        vertical-align: top;\n",
       "    }\n",
       "\n",
       "    .dataframe thead th {\n",
       "        text-align: right;\n",
       "    }\n",
       "</style>\n",
       "<table border=\"1\" class=\"dataframe\">\n",
       "  <thead>\n",
       "    <tr style=\"text-align: right;\">\n",
       "      <th></th>\n",
       "      <th>count</th>\n",
       "      <th>mean</th>\n",
       "      <th>std</th>\n",
       "      <th>min</th>\n",
       "      <th>25%</th>\n",
       "      <th>50%</th>\n",
       "      <th>75%</th>\n",
       "      <th>max</th>\n",
       "    </tr>\n",
       "  </thead>\n",
       "  <tbody>\n",
       "    <tr>\n",
       "      <th>Pregnancies</th>\n",
       "      <td>768.0</td>\n",
       "      <td>3.845052</td>\n",
       "      <td>3.369578</td>\n",
       "      <td>0.000</td>\n",
       "      <td>1.00000</td>\n",
       "      <td>3.0000</td>\n",
       "      <td>6.00000</td>\n",
       "      <td>17.00</td>\n",
       "    </tr>\n",
       "    <tr>\n",
       "      <th>Glucose</th>\n",
       "      <td>768.0</td>\n",
       "      <td>120.894531</td>\n",
       "      <td>31.972618</td>\n",
       "      <td>0.000</td>\n",
       "      <td>99.00000</td>\n",
       "      <td>117.0000</td>\n",
       "      <td>140.25000</td>\n",
       "      <td>199.00</td>\n",
       "    </tr>\n",
       "    <tr>\n",
       "      <th>BloodPressure</th>\n",
       "      <td>768.0</td>\n",
       "      <td>69.105469</td>\n",
       "      <td>19.355807</td>\n",
       "      <td>0.000</td>\n",
       "      <td>62.00000</td>\n",
       "      <td>72.0000</td>\n",
       "      <td>80.00000</td>\n",
       "      <td>122.00</td>\n",
       "    </tr>\n",
       "    <tr>\n",
       "      <th>SkinThickness</th>\n",
       "      <td>768.0</td>\n",
       "      <td>20.536458</td>\n",
       "      <td>15.952218</td>\n",
       "      <td>0.000</td>\n",
       "      <td>0.00000</td>\n",
       "      <td>23.0000</td>\n",
       "      <td>32.00000</td>\n",
       "      <td>99.00</td>\n",
       "    </tr>\n",
       "    <tr>\n",
       "      <th>Insulin</th>\n",
       "      <td>768.0</td>\n",
       "      <td>79.799479</td>\n",
       "      <td>115.244002</td>\n",
       "      <td>0.000</td>\n",
       "      <td>0.00000</td>\n",
       "      <td>30.5000</td>\n",
       "      <td>127.25000</td>\n",
       "      <td>846.00</td>\n",
       "    </tr>\n",
       "    <tr>\n",
       "      <th>BMI</th>\n",
       "      <td>768.0</td>\n",
       "      <td>31.992578</td>\n",
       "      <td>7.884160</td>\n",
       "      <td>0.000</td>\n",
       "      <td>27.30000</td>\n",
       "      <td>32.0000</td>\n",
       "      <td>36.60000</td>\n",
       "      <td>67.10</td>\n",
       "    </tr>\n",
       "    <tr>\n",
       "      <th>Pedigree</th>\n",
       "      <td>768.0</td>\n",
       "      <td>0.471876</td>\n",
       "      <td>0.331329</td>\n",
       "      <td>0.078</td>\n",
       "      <td>0.24375</td>\n",
       "      <td>0.3725</td>\n",
       "      <td>0.62625</td>\n",
       "      <td>2.42</td>\n",
       "    </tr>\n",
       "    <tr>\n",
       "      <th>Age</th>\n",
       "      <td>768.0</td>\n",
       "      <td>33.240885</td>\n",
       "      <td>11.760232</td>\n",
       "      <td>21.000</td>\n",
       "      <td>24.00000</td>\n",
       "      <td>29.0000</td>\n",
       "      <td>41.00000</td>\n",
       "      <td>81.00</td>\n",
       "    </tr>\n",
       "    <tr>\n",
       "      <th>Class</th>\n",
       "      <td>768.0</td>\n",
       "      <td>0.348958</td>\n",
       "      <td>0.476951</td>\n",
       "      <td>0.000</td>\n",
       "      <td>0.00000</td>\n",
       "      <td>0.0000</td>\n",
       "      <td>1.00000</td>\n",
       "      <td>1.00</td>\n",
       "    </tr>\n",
       "  </tbody>\n",
       "</table>\n",
       "</div>"
      ],
      "text/plain": [
       "               count        mean         std     min       25%       50%  \\\n",
       "Pregnancies    768.0    3.845052    3.369578   0.000   1.00000    3.0000   \n",
       "Glucose        768.0  120.894531   31.972618   0.000  99.00000  117.0000   \n",
       "BloodPressure  768.0   69.105469   19.355807   0.000  62.00000   72.0000   \n",
       "SkinThickness  768.0   20.536458   15.952218   0.000   0.00000   23.0000   \n",
       "Insulin        768.0   79.799479  115.244002   0.000   0.00000   30.5000   \n",
       "BMI            768.0   31.992578    7.884160   0.000  27.30000   32.0000   \n",
       "Pedigree       768.0    0.471876    0.331329   0.078   0.24375    0.3725   \n",
       "Age            768.0   33.240885   11.760232  21.000  24.00000   29.0000   \n",
       "Class          768.0    0.348958    0.476951   0.000   0.00000    0.0000   \n",
       "\n",
       "                     75%     max  \n",
       "Pregnancies      6.00000   17.00  \n",
       "Glucose        140.25000  199.00  \n",
       "BloodPressure   80.00000  122.00  \n",
       "SkinThickness   32.00000   99.00  \n",
       "Insulin        127.25000  846.00  \n",
       "BMI             36.60000   67.10  \n",
       "Pedigree         0.62625    2.42  \n",
       "Age             41.00000   81.00  \n",
       "Class            1.00000    1.00  "
      ]
     },
     "execution_count": 39,
     "metadata": {},
     "output_type": "execute_result"
    }
   ],
   "source": [
    "df.describe().T"
   ]
  },
  {
   "cell_type": "code",
   "execution_count": 40,
   "metadata": {},
   "outputs": [],
   "source": [
    "df_train, df_test = train_test_split(df, test_size=0.2, random_state=42, stratify=df[\"Class\"])"
   ]
  },
  {
   "cell_type": "code",
   "execution_count": 41,
   "metadata": {},
   "outputs": [
    {
     "data": {
      "image/png": "[encoded data removed]",
      "text/plain": [
       "<Figure size 1080x720 with 9 Axes>"
      ]
     },
     "metadata": {
      "needs_background": "light"
     },
     "output_type": "display_data"
    }
   ],
   "source": [
    "df_train.hist(figsize=(15, 10));\n"
   ]
  },
  {
   "cell_type": "code",
   "execution_count": 42,
   "metadata": {},
   "outputs": [
    {
     "data": {
      "text/plain": [
       "Pregnancies        0\n",
       "Glucose            4\n",
       "BloodPressure     23\n",
       "SkinThickness    175\n",
       "Insulin          290\n",
       "BMI                9\n",
       "Pedigree           0\n",
       "Age                0\n",
       "Class              0\n",
       "dtype: int64"
      ]
     },
     "execution_count": 42,
     "metadata": {},
     "output_type": "execute_result"
    }
   ],
   "source": [
    "cols = ['Glucose', 'BloodPressure', 'SkinThickness', \n",
    "        'Insulin', 'BMI', 'Pedigree']\n",
    "\n",
    "df_train[cols] = df_train[cols].replace(0, np.nan)\n",
    "df_train.isnull().sum()"
   ]
  },
  {
   "cell_type": "code",
   "execution_count": 43,
   "metadata": {},
   "outputs": [
    {
     "data": {
      "text/plain": [
       "Glucose          121.701639\n",
       "BloodPressure     72.145516\n",
       "SkinThickness     29.059226\n",
       "Insulin          149.077160\n",
       "BMI               32.448926\n",
       "Pedigree           0.477428\n",
       "dtype: float64"
      ]
     },
     "execution_count": 43,
     "metadata": {},
     "output_type": "execute_result"
    }
   ],
   "source": [
    "mean_val = df_train[cols].mean()\n",
    "mean_val"
   ]
  },
  {
   "cell_type": "code",
   "execution_count": 44,
   "metadata": {},
   "outputs": [],
   "source": [
    "df_train[cols] = df_train[cols].fillna(mean_val)\n",
    "df_test[cols] = df_test[cols].fillna(mean_val)"
   ]
  },
  {
   "cell_type": "code",
   "execution_count": 45,
   "metadata": {},
   "outputs": [
    {
     "data": {
      "image/png": "[encoded data removed]",
      "text/plain": [
       "<Figure size 432x288 with 2 Axes>"
      ]
     },
     "metadata": {
      "needs_background": "light"
     },
     "output_type": "display_data"
    }
   ],
   "source": [
    "sns.heatmap(df_train.corr(), annot=True, vmin=-1, vmax=1);"
   ]
  },
  {
   "cell_type": "code",
   "execution_count": 46,
   "metadata": {},
   "outputs": [
    {
     "data": {
      "text/plain": [
       "0    400\n",
       "1    214\n",
       "Name: Class, dtype: int64"
      ]
     },
     "execution_count": 46,
     "metadata": {},
     "output_type": "execute_result"
    }
   ],
   "source": [
    "df_train['Class'].value_counts()"
   ]
  },
  {
   "cell_type": "code",
   "execution_count": 47,
   "metadata": {},
   "outputs": [],
   "source": [
    "x_train, y_train = df_train.drop(['Class'], axis=1), df_train['Class']\n",
    "x_test, y_test = df_test.drop(['Class'], axis=1), df_test['Class']\n"
   ]
  },
  {
   "cell_type": "code",
   "execution_count": 48,
   "metadata": {},
   "outputs": [],
   "source": [
    "x_train = sm.add_constant(x_train)\n",
    "x_test = sm.add_constant(x_test)"
   ]
  },
  {
   "cell_type": "code",
   "execution_count": 49,
   "metadata": {},
   "outputs": [
    {
     "name": "stdout",
     "output_type": "stream",
     "text": [
      "Optimization terminated successfully.\n",
      "         Current function value: 0.453087\n",
      "         Iterations 6\n"
     ]
    }
   ],
   "source": [
    "logit = sm.Logit(y_train, x_train.astype(float))\n",
    "lg = logit.fit()"
   ]
  },
  {
   "cell_type": "code",
   "execution_count": 50,
   "metadata": {},
   "outputs": [
    {
     "name": "stdout",
     "output_type": "stream",
     "text": [
      "                           Logit Regression Results                           \n",
      "==============================================================================\n",
      "Dep. Variable:                  Class   No. Observations:                  614\n",
      "Model:                          Logit   Df Residuals:                      605\n",
      "Method:                           MLE   Df Model:                            8\n",
      "Date:                Sat, 25 May 2024   Pseudo R-squ.:                  0.2992\n",
      "Time:                        14:34:50   Log-Likelihood:                -278.20\n",
      "converged:                       True   LL-Null:                       -396.97\n",
      "Covariance Type:            nonrobust   LLR p-value:                 7.463e-47\n",
      "=================================================================================\n",
      "                    coef    std err          z      P>|z|      [0.025      0.975]\n",
      "---------------------------------------------------------------------------------\n",
      "const            -9.9591      0.955    -10.424      0.000     -11.832      -8.087\n",
      "Pregnancies       0.1163      0.037      3.113      0.002       0.043       0.190\n",
      "Glucose           0.0399      0.005      8.788      0.000       0.031       0.049\n",
      "BloodPressure    -0.0039      0.010     -0.407      0.684      -0.023       0.015\n",
      "SkinThickness     0.0022      0.015      0.147      0.883      -0.027       0.031\n",
      "Insulin          -0.0006      0.002     -0.413      0.680      -0.004       0.002\n",
      "BMI               0.1028      0.021      5.003      0.000       0.063       0.143\n",
      "Pedigree          0.7076      0.336      2.105      0.035       0.049       1.366\n",
      "Age               0.0126      0.010      1.203      0.229      -0.008       0.033\n",
      "=================================================================================\n"
     ]
    }
   ],
   "source": [
    "print(lg.summary())"
   ]
  },
  {
   "cell_type": "markdown",
   "metadata": {},
   "source": [
    "### Interpretação dos Resultados da Regressão Logística\n",
    "\n",
    "Vamos interpretar cada parte dos resultados da regressão logística fornecidos.\n",
    "\n",
    "#### 1. **Informações Gerais**\n",
    "- **Dep. Variable**: `Class` (a variável dependente, ou seja, a classe do paciente, indicando se tem ou não diabetes).\n",
    "- **No. Observations**: `614` (o número total de observações/pacientes).\n",
    "- **Model**: `Logit` (modelo de regressão logística).\n",
    "- **Df Residuals**: `605` (graus de liberdade dos resíduos).\n",
    "- **Df Model**: `8` (graus de liberdade do modelo, que corresponde ao número de variáveis independentes).\n",
    "- **Method**: `MLE` (Máxima Verossimilhança, o método usado para ajustar o modelo).\n",
    "- **Date**: `Sat, 25 May 2024` (data em que o modelo foi ajustado).\n",
    "- **Time**: `14:34:50` (hora em que o modelo foi ajustado).\n",
    "- **Pseudo R-squ.**: `0.2992` (pseudo R-quadrado, uma medida da qualidade do ajuste do modelo. Embora não seja diretamente comparável ao R-quadrado da regressão linear, um valor maior indica um melhor ajuste).\n",
    "- **Log-Likelihood**: `-278.20` (log-verossimilhança do modelo ajustado).\n",
    "- **converged**: `True` (indica que o algoritmo de otimização convergiu).\n",
    "- **LL-Null**: `-396.97` (log-verossimilhança do modelo nulo, ou seja, um modelo sem variáveis independentes).\n",
    "- **LLR p-value**: `7.463e-47` (valor p do teste de razão de verossimilhança, que compara o modelo ajustado com o modelo nulo. Um valor muito pequeno indica que o modelo ajustado é significativamente melhor do que o modelo nulo).\n",
    "\n",
    "#### 2. **Coeficientes das Variáveis**\n",
    "A tabela de coeficientes fornece os seguintes detalhes para cada variável:\n",
    "\n",
    "- **coef**: O coeficiente estimado para a variável.\n",
    "- **std err**: O erro padrão do coeficiente.\n",
    "- **z**: O valor z (coef / std err).\n",
    "- **P>|z|**: O valor p para o teste de hipótese de que o coeficiente é diferente de zero.\n",
    "- **[0.025, 0.975]**: Intervalo de confiança de 95% para o coeficiente.\n",
    "\n",
    "Vamos interpretar cada variável:\n",
    "\n",
    "- **const**: \n",
    "  - **coef**: `-9.9591` (intercepto do modelo).\n",
    "  - **P>|z|**: `0.000` (altamente significativo).\n",
    "  - Indica que, sem nenhuma das variáveis independentes, o log-odds de ter diabetes é muito baixo.\n",
    "\n",
    "- **Pregnancies**:\n",
    "  - **coef**: `0.1163`.\n",
    "  - **P>|z|**: `0.002` (significativo).\n",
    "  - Gravidez aumenta ligeiramente a probabilidade de diabetes.\n",
    "\n",
    "- **Glucose**:\n",
    "  - **coef**: `0.0399`.\n",
    "  - **P>|z|**: `0.000` (altamente significativo).\n",
    "  - Níveis mais altos de glicose aumentam significativamente a probabilidade de diabetes.\n",
    "\n",
    "- **BloodPressure**:\n",
    "  - **coef**: `-0.0039`.\n",
    "  - **P>|z|**: `0.684` (não significativo).\n",
    "  - A pressão arterial não mostra uma associação significativa com a probabilidade de diabetes.\n",
    "\n",
    "- **SkinThickness**:\n",
    "  - **coef**: `0.0022`.\n",
    "  - **P>|z|**: `0.883` (não significativo).\n",
    "  - A espessura da pele não mostra uma associação significativa com a probabilidade de diabetes.\n",
    "\n",
    "- **Insulin**:\n",
    "  - **coef**: `-0.0006`.\n",
    "  - **P>|z|**: `0.680` (não significativo).\n",
    "  - Os níveis de insulina não mostram uma associação significativa com a probabilidade de diabetes.\n",
    "\n",
    "- **BMI**:\n",
    "  - **coef**: `0.1028`.\n",
    "  - **P>|z|**: `0.000` (altamente significativo).\n",
    "  - Um índice de massa corporal (BMI) mais alto aumenta significativamente a probabilidade de diabetes.\n",
    "\n",
    "- **Pedigree**:\n",
    "  - **coef**: `0.7076`.\n",
    "  - **P>|z|**: `0.035` (significativo).\n",
    "  - Um pedigree mais alto (história familiar de diabetes) aumenta significativamente a probabilidade de diabetes.\n",
    "\n",
    "- **Age**:\n",
    "  - **coef**: `0.0126`.\n",
    "  - **P>|z|**: `0.229` (não significativo).\n",
    "  - A idade não mostra uma associação significativa com a probabilidade de diabetes.\n",
    "\n",
    "### Conclusão\n",
    "- O modelo de regressão logística mostra que algumas variáveis (Gravidez, Glicose, BMI e Pedigree) são significativas para prever a probabilidade de diabetes, enquanto outras (Pressão Arterial, Espessura da Pele, Insulina e Idade) não são significativas no nível de significância de 5%.\n",
    "- O pseudo R-quadrado de 0.2992 sugere que o modelo explica aproximadamente 29.92% da variabilidade nos dados, o que é razoável para um problema médico.\n",
    "- O valor p do teste de razão de verossimilhança é extremamente baixo, indicando que o modelo ajustado é significativamente melhor do que o modelo nulo.\n",
    "\n",
    "Essas interpretações ajudam a entender quais fatores são mais relevantes na determinação da probabilidade de diabetes entre os pacientes analisados."
   ]
  },
  {
   "cell_type": "code",
   "execution_count": 79,
   "metadata": {},
   "outputs": [
    {
     "data": {
      "image/png": "[encoded data removed]",
      "text/plain": [
       "<Figure size 504x360 with 2 Axes>"
      ]
     },
     "metadata": {
      "needs_background": "light"
     },
     "output_type": "display_data"
    }
   ],
   "source": [
    "# Realiza as predições na base de treino\n",
    "# O limiar de classificação padrão é 0.5\n",
    "pred_test = lg.predict(x_test) > 0.25\n",
    "pred_test = np.round(pred_test)\n",
    " \n",
    "# Gera a Matriz de Confusão\n",
    "cm = confusion_matrix(y_test, pred_test)\n",
    " \n",
    "# Plot da Matriz de Confusão\n",
    "plt.figure(figsize=(7, 5))\n",
    "sns.heatmap(cm, annot=True, fmt='g')\n",
    "plt.title('Matriz de Confusão: Base de Teste', weight='bold')\n",
    "plt.xlabel('Valores Previstos')\n",
    "plt.ylabel('Valores Reais')\n",
    "plt.show()"
   ]
  },
  {
   "cell_type": "code",
   "execution_count": 81,
   "metadata": {},
   "outputs": [
    {
     "name": "stdout",
     "output_type": "stream",
     "text": [
      "Acurácia na base de teste: 73.0%\n",
      "Precisão na base de teste: 56.99999999999999%\n",
      "Recall na base de teste: 87.0%\n",
      "F1-Score na base de teste: 69.0%\n"
     ]
    }
   ],
   "source": [
    "# Acurácia\n",
    "acc = accuracy_score(y_test, pred_test)\n",
    "# Precisão\n",
    "prec = precision_score(y_test, pred_test)\n",
    "# Recall\n",
    "rec = recall_score(y_test, pred_test)\n",
    "\n",
    "print(f'Acurácia na base de teste: {round(acc, 2) * 100}%')\n",
    "print(f'Precisão na base de teste: {round(prec, 2) * 100}%')\n",
    "print(f'Recall na base de teste: {round(rec, 2) * 100}%')\n",
    "print(f'F1-Score na base de teste: {round((2*prec*rec)/(prec+rec),2)*100}%')"
   ]
  },
  {
   "cell_type": "code",
   "execution_count": null,
   "metadata": {},
   "outputs": [],
   "source": []
  }
 ],
 "metadata": {
  "kernelspec": {
   "display_name": "Python 3",
   "language": "python",
   "name": "python3"
  },
  "language_info": {
   "codemirror_mode": {
    "name": "ipython",
    "version": 3
   },
   "file_extension": ".py",
   "mimetype": "text/x-python",
   "name": "python",
   "nbconvert_exporter": "python",
   "pygments_lexer": "ipython3",
   "version": "3.9.13"
  }
 },
 "nbformat": 4,
 "nbformat_minor": 2
}
