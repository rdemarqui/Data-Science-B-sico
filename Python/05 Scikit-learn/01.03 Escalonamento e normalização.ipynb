{
 "cells": [
  {
   "cell_type": "markdown",
   "metadata": {},
   "source": [
    "# Escalonamento e normalização"
   ]
  },
  {
   "cell_type": "markdown",
   "metadata": {},
   "source": [
    "Antes de começarmos a implementar os modelos de Machine Learning é necessário efetuar o pré-processamento dos dados, verificando se há valores nulos, outliers e qualquer outra característica que possa afetar o desempenho do algoritmo.\n",
    "\n",
    "O scikit-learn possui algumas ferramentas para facilitar esse processo. Veremos a seguir como cada uma delas funciona."
   ]
  },
  {
   "cell_type": "markdown",
   "metadata": {},
   "source": [
    "### Standard Scaler (z-score)"
   ]
  },
  {
   "cell_type": "markdown",
   "metadata": {},
   "source": [
    "O `StandardScaler` assume que os dados são normalmente distribuídos dentro de cada feature e os escalará de forma que a distribuição fique centralizada em torno de 0 (média=0) e desvio padrão de 1, ou seja, as features serão redimensionadas para que tenham as propriedades de uma distribuição normal padrão.\n",
    "\n",
    "\n",
    "\n",
    "Se os seus dados não possuem distribuição gaussiana, taalvez esse não seja o melhor modelo a ser utilizado."
   ]
  },
  {
   "cell_type": "code",
   "execution_count": 1,
   "metadata": {},
   "outputs": [],
   "source": [
    "from sklearn.preprocessing import StandardScaler"
   ]
  },
  {
   "cell_type": "markdown",
   "metadata": {},
   "source": [
    "### MinMaxScaller"
   ]
  },
  {
   "cell_type": "markdown",
   "metadata": {},
   "source": [
    "### RobustScaller"
   ]
  },
  {
   "cell_type": "markdown",
   "metadata": {},
   "source": [
    "### Normalizer"
   ]
  },
  {
   "cell_type": "markdown",
   "metadata": {},
   "source": [
    "#### Fontes\n",
    "http://scikit-learn.org/stable/modules/preprocessing.html  \n",
    "http://sebastianraschka.com/Articles/2014_about_feature_scaling.html#standardization-and-min-max-scaling  \n",
    "http://benalexkeen.com/feature-scaling-with-scikit-learn/"
   ]
  }
 ],
 "metadata": {
  "kernelspec": {
   "display_name": "Python 3",
   "language": "python",
   "name": "python3"
  },
  "language_info": {
   "codemirror_mode": {
    "name": "ipython",
    "version": 3
   },
   "file_extension": ".py",
   "mimetype": "text/x-python",
   "name": "python",
   "nbconvert_exporter": "python",
   "pygments_lexer": "ipython3",
   "version": "3.6.5"
  }
 },
 "nbformat": 4,
 "nbformat_minor": 2
}
