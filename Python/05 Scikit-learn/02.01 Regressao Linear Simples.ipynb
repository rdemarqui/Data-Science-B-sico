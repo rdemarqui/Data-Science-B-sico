{
 "cells": [
  {
   "cell_type": "markdown",
   "metadata": {},
   "source": [
    "## Regressão Linear Simples"
   ]
  },
  {
   "cell_type": "markdown",
   "metadata": {},
   "source": [
    "O modelo de regressão linear simples, obtém a resposta com apenas uma variável preditora e é dado utilizando a equação:\n",
    "\n",
    "    y= ax+b, onde:\n",
    "        y -> Variável dependente\n",
    "        a -> Coeficiente angular\n",
    "        x -> Variável independente\n",
    "        b -> Inclinação da reta\n",
    "        \n",
    "Para importarmos o módulo, utilizamos:  \n",
    "**from sklearn.linear_model import LinearRegression**"
   ]
  },
  {
   "cell_type": "code",
   "execution_count": 1,
   "metadata": {},
   "outputs": [],
   "source": [
    "%matplotlib inline\n",
    "import matplotlib.pyplot as plt\n",
    "import seaborn as sns; sns.set()\n",
    "import numpy as np"
   ]
  },
  {
   "cell_type": "markdown",
   "metadata": {},
   "source": [
    "### Exemplo"
   ]
  },
  {
   "cell_type": "markdown",
   "metadata": {},
   "source": [
    "**Gerando os dados  \n",
    "y=2x-5**"
   ]
  },
  {
   "cell_type": "code",
   "execution_count": 2,
   "metadata": {},
   "outputs": [
    {
     "data": {
      "image/png": "[encoded data removed]",
      "text/plain": [
       "<Figure size 432x288 with 1 Axes>"
      ]
     },
     "metadata": {},
     "output_type": "display_data"
    }
   ],
   "source": [
    "rng = np.random.RandomState(1)  # Gerando o seed para os valores aleatórios\n",
    "x = 10 * rng.rand(50)           # Criando os valores independentes\n",
    "y = 2 * x - 5 + rng.randn(50)   # Criando os valores dependentes\n",
    "plt.scatter(x, y);              # Plotando"
   ]
  },
  {
   "cell_type": "markdown",
   "metadata": {},
   "source": [
    "**Utilizando o modelo LienarRegression**"
   ]
  },
  {
   "cell_type": "code",
   "execution_count": 3,
   "metadata": {},
   "outputs": [
    {
     "data": {
      "image/png": "[encoded data removed]",
      "text/plain": [
       "<Figure size 432x288 with 1 Axes>"
      ]
     },
     "metadata": {},
     "output_type": "display_data"
    }
   ],
   "source": [
    "from sklearn.linear_model import LinearRegression\n",
    "\n",
    "# Instanciando o modelo\n",
    "model = LinearRegression(fit_intercept=True)\n",
    "\n",
    "# Treinando o modelo\n",
    "model.fit(x[:, np.newaxis], y)  # np.newaxis deixa o X bidimensional, que deve sempre ser uma matriz e nunca um vetor\n",
    "\n",
    "# Gerando novos dados de x\n",
    "xfit = np.linspace(0, 10, 1000)\n",
    "\n",
    "# Predizendo os dados de y através do modelo treinado\n",
    "yfit = model.predict(xfit[:, np.newaxis])\n",
    "\n",
    "# Plotando\n",
    "plt.scatter(x, y)\n",
    "plt.plot(xfit, yfit);"
   ]
  },
  {
   "cell_type": "markdown",
   "metadata": {},
   "source": [
    "**Verificando os parâmetros**"
   ]
  },
  {
   "cell_type": "code",
   "execution_count": 4,
   "metadata": {},
   "outputs": [
    {
     "name": "stdout",
     "output_type": "stream",
     "text": [
      "Coeficiente angular: 2.027208810360695\n",
      "Inclinação da reta: -4.998577085553202\n"
     ]
    }
   ],
   "source": [
    "print(\"Coeficiente angular:\", model.coef_[0])\n",
    "print(\"Inclinação da reta:\", model.intercept_)"
   ]
  },
  {
   "cell_type": "markdown",
   "metadata": {},
   "source": [
    "#### Verificando a cost function (mean squared error)"
   ]
  },
  {
   "cell_type": "code",
   "execution_count": 5,
   "metadata": {},
   "outputs": [
    {
     "data": {
      "text/plain": [
       "0.818338857026618"
      ]
     },
     "execution_count": 5,
     "metadata": {},
     "output_type": "execute_result"
    }
   ],
   "source": [
    "from sklearn.metrics import mean_squared_error\n",
    "\n",
    "y_true = y\n",
    "y_pred = model.predict(x[:, np.newaxis])\n",
    "\n",
    "mean_squared_error(y_true, y_pred)"
   ]
  }
 ],
 "metadata": {
  "kernelspec": {
   "display_name": "Python 3",
   "language": "python",
   "name": "python3"
  },
  "language_info": {
   "codemirror_mode": {
    "name": "ipython",
    "version": 3
   },
   "file_extension": ".py",
   "mimetype": "text/x-python",
   "name": "python",
   "nbconvert_exporter": "python",
   "pygments_lexer": "ipython3",
   "version": "3.6.5"
  }
 },
 "nbformat": 4,
 "nbformat_minor": 2
}
