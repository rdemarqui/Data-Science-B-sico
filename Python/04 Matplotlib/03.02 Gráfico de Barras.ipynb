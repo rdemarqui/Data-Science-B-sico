{
 "cells": [
  {
   "cell_type": "markdown",
   "metadata": {},
   "source": [
    "## Gráfico de Barras  \n",
    "A utilização do gráfico de barras é bem comum em uma análise exploratória. Para sua plotagem, devemos indicar 2 informações importantes que são:  \n",
    "* **indice** = O índice indicará os agrupamentos necessários a serem feitos no eixo x. Por exemplo, se tivermos a contagem em uma amostra entre sexo masculino e feminino, passaremos o índice 2 como parâmetro.\n",
    "* **valores** = A informação dos valores de cada grupo. \n",
    "\n",
    "**Sintaxe:**\n",
    "``plt.bar(índice, valores)``\n",
    "\n",
    "**Nota:** Há outros argumentos que também podem ser inseridos, para a informação completa é melhor consultar a documentação."
   ]
  },
  {
   "cell_type": "code",
   "execution_count": 1,
   "metadata": {},
   "outputs": [],
   "source": [
    "import numpy as np\n",
    "import matplotlib.pyplot as plt\n",
    "\n",
    "%matplotlib inline\n",
    "\n",
    "plt.style.use('ggplot')"
   ]
  },
  {
   "cell_type": "markdown",
   "metadata": {},
   "source": [
    "**Gráfico de Barras vertical**"
   ]
  },
  {
   "cell_type": "code",
   "execution_count": 2,
   "metadata": {},
   "outputs": [
    {
     "data": {
      "image/png": "[encoded data removed]",
      "text/plain": [
       "<matplotlib.figure.Figure at 0x8a162b0>"
      ]
     },
     "metadata": {},
     "output_type": "display_data"
    }
   ],
   "source": [
    "indice = np.arange(14)\n",
    "valores = [941, 854, 4595, 2125, 942, 509, 548, 149, 1952, 161, 64, 61, 35, 5]\n",
    "\n",
    "plt.bar(indice, valores)\n",
    "\n",
    "plt.show()"
   ]
  },
  {
   "cell_type": "markdown",
   "metadata": {},
   "source": [
    "**Gráfico de Barras Horizontal**  \n",
    "Para plotar um gráfico de barras horizontal basta utilizar ``barh()``."
   ]
  },
  {
   "cell_type": "code",
   "execution_count": 3,
   "metadata": {},
   "outputs": [
    {
     "data": {
      "image/png": "[encoded data removed]",
      "text/plain": [
       "<matplotlib.figure.Figure at 0x8abc128>"
      ]
     },
     "metadata": {},
     "output_type": "display_data"
    }
   ],
   "source": [
    "indice = np.arange(14)\n",
    "valores = [941, 854, 4595, 2125, 942, 509, 548, 149, 1952, 161, 64, 61, 35, 5]\n",
    "\n",
    "plt.barh(indice, valores)\n",
    "\n",
    "plt.show()"
   ]
  },
  {
   "cell_type": "markdown",
   "metadata": {},
   "source": [
    "**Gráfico de Barras Empilhado**"
   ]
  },
  {
   "cell_type": "code",
   "execution_count": 4,
   "metadata": {},
   "outputs": [
    {
     "data": {
      "image/png": "[encoded data removed]",
      "text/plain": [
       "<matplotlib.figure.Figure at 0x8c88320>"
      ]
     },
     "metadata": {},
     "output_type": "display_data"
    }
   ],
   "source": [
    "indice = np.arange(5)\n",
    "\n",
    "homem = (20, 35, 30, 35, 27)\n",
    "mulher = (25, 32, 34, 20, 25)\n",
    "\n",
    "p1 = plt.bar(indice, homem)\n",
    "p2 = plt.bar(indice, mulher, bottom=homem)\n",
    "\n",
    "plt.legend((p1[0], p2[0]), ('Homem', 'Mulher')) # Inserindo legenda\n",
    "\n",
    "plt.show()"
   ]
  }
 ],
 "metadata": {
  "kernelspec": {
   "display_name": "Python 3",
   "language": "python",
   "name": "python3"
  },
  "language_info": {
   "codemirror_mode": {
    "name": "ipython",
    "version": 3
   },
   "file_extension": ".py",
   "mimetype": "text/x-python",
   "name": "python",
   "nbconvert_exporter": "python",
   "pygments_lexer": "ipython3",
   "version": "3.6.4"
  }
 },
 "nbformat": 4,
 "nbformat_minor": 2
}
