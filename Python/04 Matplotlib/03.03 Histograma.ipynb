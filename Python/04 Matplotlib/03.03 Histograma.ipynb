{
 "cells": [
  {
   "cell_type": "markdown",
   "metadata": {},
   "source": [
    "## Histograma  \n",
    "Histograma é uma representação gráfica (um gráfico de barras verticais ou barras horizontais) da distribuição de frequências de um conjunto de dados quantitativos contínuos.    \n",
    "\n",
    "**Sintaxe:**\n",
    "\n",
    "    plt.hist(dados)\n",
    "    \n",
    "O matplotlib fará a construção das barras automaticamente. Caso se necessite personalizar a quantidade de barras, temos que configurar o parâmetro **bin** que é o intervalos em que os dados serão agrupados no histograma."
   ]
  },
  {
   "cell_type": "code",
   "execution_count": 1,
   "metadata": {},
   "outputs": [],
   "source": [
    "import matplotlib.pyplot as plt\n",
    "import numpy as np\n",
    "import pandas as pd\n",
    "\n",
    "plt.style.use('seaborn-white')"
   ]
  },
  {
   "cell_type": "markdown",
   "metadata": {},
   "source": [
    "**Construindo um histograma simples**"
   ]
  },
  {
   "cell_type": "code",
   "execution_count": 2,
   "metadata": {},
   "outputs": [
    {
     "data": {
      "image/png": "[encoded data removed]",
      "text/plain": [
       "<matplotlib.figure.Figure at 0x9514470>"
      ]
     },
     "metadata": {},
     "output_type": "display_data"
    }
   ],
   "source": [
    "# Construindo os dados\n",
    "data = np.random.randn(1000)\n",
    "\n",
    "# Plotando o histograma\n",
    "plt.hist(data);"
   ]
  },
  {
   "cell_type": "markdown",
   "metadata": {},
   "source": [
    "**Personalizando a quantidade de bins**"
   ]
  },
  {
   "cell_type": "code",
   "execution_count": 3,
   "metadata": {},
   "outputs": [
    {
     "data": {
      "image/png": "[encoded data removed]",
      "text/plain": [
       "<matplotlib.figure.Figure at 0x95457b8>"
      ]
     },
     "metadata": {},
     "output_type": "display_data"
    }
   ],
   "source": [
    "plt.hist(data, bins=30, alpha=0.5, color='steelblue');"
   ]
  },
  {
   "cell_type": "markdown",
   "metadata": {},
   "source": [
    "Se quisermos contas a quantidade de amostras por bin, basta utilizar o comando abaixo:"
   ]
  },
  {
   "cell_type": "code",
   "execution_count": 4,
   "metadata": {},
   "outputs": [
    {
     "name": "stdout",
     "output_type": "stream",
     "text": [
      "[ 1  0  1  1  2  0  4 15 18 14 27 44 38 58 87 75 75 83 89 84 54 70 41 35\n",
      " 23 19 13 14 10  5]\n"
     ]
    }
   ],
   "source": [
    "counts, bin_edges = np.histogram(data, bins=30)\n",
    "print(counts)"
   ]
  },
  {
   "cell_type": "markdown",
   "metadata": {},
   "source": [
    "**Comparando vários histogramas em um único gráfico**  \n",
    "Podemos comparar a distribuição de vários conjuntos de dados através da sobreposição de histogramas. Para isso, vale a pena configurar alguns parâmetros tais como:\n",
    "\n",
    "* histtype='stepfilled'\n",
    "* alpha=0.3   -> transparência do gráfico para não sobrepor completamente os demais\n",
    "* normed=True -> Normaliza os dados em vez de mostrar a distribuição dos valores absolutos\n"
   ]
  },
  {
   "cell_type": "code",
   "execution_count": 5,
   "metadata": {},
   "outputs": [
    {
     "data": {
      "image/png": "[encoded data removed]",
      "text/plain": [
       "<matplotlib.figure.Figure at 0x9767828>"
      ]
     },
     "metadata": {},
     "output_type": "display_data"
    }
   ],
   "source": [
    "# Gerando os dados\n",
    "x1 = np.random.normal(0, 0.8, 1000)\n",
    "x2 = np.random.normal(-2, 1, 1000)\n",
    "x3 = np.random.normal(3, 2, 1000)\n",
    "\n",
    "# Atribuindo os parâmetros em uma variável\n",
    "config = dict(histtype='stepfilled', alpha=0.3, normed=True, bins=40)\n",
    "# Onde:\n",
    "# histtype='stepfilled' -> Plota t\n",
    "\n",
    "# Plotando os 3 conjuntos de dados\n",
    "plt.hist(x1, **config)\n",
    "plt.hist(x2, **config)\n",
    "plt.hist(x3, **config);"
   ]
  }
 ],
 "metadata": {
  "kernelspec": {
   "display_name": "Python 3",
   "language": "python",
   "name": "python3"
  },
  "language_info": {
   "codemirror_mode": {
    "name": "ipython",
    "version": 3
   },
   "file_extension": ".py",
   "mimetype": "text/x-python",
   "name": "python",
   "nbconvert_exporter": "python",
   "pygments_lexer": "ipython3",
   "version": "3.6.4"
  }
 },
 "nbformat": 4,
 "nbformat_minor": 2
}
