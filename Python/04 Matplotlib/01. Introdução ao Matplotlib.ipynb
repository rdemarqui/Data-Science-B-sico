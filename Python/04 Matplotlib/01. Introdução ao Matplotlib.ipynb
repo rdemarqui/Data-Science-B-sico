{
 "cells": [
  {
   "cell_type": "markdown",
   "metadata": {},
   "source": [
    "## Introdução\n",
    "\n",
    "O Matplotlib é um pacote gráfico para o Python, com inicio de desenvolvimento em 2003. Assim como o Pandas o Matpotlib também foi escrito sobre o NumPy.\n",
    "\n",
    "Com o matplot lib podemos plotar géaficos de linhas, barras, histogramas, pizza, scatterplots entre outros. Seu site é uma excelente fonte de exemplos: https://matplotlib.org/index.html"
   ]
  },
  {
   "cell_type": "markdown",
   "metadata": {},
   "source": [
    "**Importando o pacote Matplotlib**  \n",
    "Como convenção abreviamos o matplotlib para mpl"
   ]
  },
  {
   "cell_type": "code",
   "execution_count": 1,
   "metadata": {},
   "outputs": [],
   "source": [
    "import matplotlib as mpl"
   ]
  },
  {
   "cell_type": "markdown",
   "metadata": {},
   "source": [
    "**Pyplot**  \n",
    "O Matplotlib foi originalmente escrito como uma alternativa do Python para usuários do MATLAB, e grande parte de sua sintaxe reflete esse fato. Os programadores que integram o matplotlib com os servidores de aplicativos geralmente acham mais conveniente trabalhar diretamente com as camadas de back-end. No entanto, para o uso diário dos cientistas, visualização de dados ou interações exploratórias, o pyplot - a camada de script - é uma opção melhor."
   ]
  },
  {
   "cell_type": "code",
   "execution_count": 2,
   "metadata": {},
   "outputs": [],
   "source": [
    "import matplotlib.pyplot as plt"
   ]
  },
  {
   "cell_type": "markdown",
   "metadata": {},
   "source": [
    "**Configurando o matplotlib**  \n",
    "O matplotlib vem configurado com esquemas de cores e padrões voltados principalmente para a preparação de figuras para publicação. Felizmente, quase todo o comportamento padrão pode ser personalizado por meio de um amplo conjunto de parâmetros globais que controlam o tamanho da figura, as cores, os tamanhos das fontes, os estilos de grade e assim por diante. Uma maneira de modificar a configuração do Python é usar o método ``plt.rc()``."
   ]
  },
  {
   "cell_type": "code",
   "execution_count": 3,
   "metadata": {},
   "outputs": [],
   "source": [
    "# Mudando o tamanho da figura para 10x10\n",
    "plt.rc('figure', figsize=(10, 10))\n",
    "\n",
    "# Para modificar a saída do gráfico somente na própria célula utilizamos ANTES de montar o gráfico\n",
    "plt.figure(figsize=(10, 10))\n",
    "\n",
    "# Modificando as fontes\n",
    "font_options = {'family' : 'monospace',\n",
    "                'weight' : 'bold'}\n",
    "plt.rc('font', **font_options)"
   ]
  },
  {
   "cell_type": "markdown",
   "metadata": {},
   "source": [
    "**Configurando utilizando estilos**  \n",
    "Para facilitar a configuração dos gráficos, podemos utilizar estilos pré-definidos.  \n",
    "Para verificar quais estilos estão disponíveis, utilizamos ``plt.style.available``.  \n",
    "Para utilizar o estilo desejado, utilizamos ``plt.style.use('nome_do_estilo')``."
   ]
  },
  {
   "cell_type": "code",
   "execution_count": 4,
   "metadata": {},
   "outputs": [
    {
     "data": {
      "text/plain": [
       "['bmh',\n",
       " 'classic',\n",
       " 'dark_background',\n",
       " 'fast',\n",
       " 'fivethirtyeight',\n",
       " 'ggplot',\n",
       " 'grayscale',\n",
       " 'seaborn-bright',\n",
       " 'seaborn-colorblind',\n",
       " 'seaborn-dark-palette',\n",
       " 'seaborn-dark',\n",
       " 'seaborn-darkgrid',\n",
       " 'seaborn-deep',\n",
       " 'seaborn-muted',\n",
       " 'seaborn-notebook',\n",
       " 'seaborn-paper',\n",
       " 'seaborn-pastel',\n",
       " 'seaborn-poster',\n",
       " 'seaborn-talk',\n",
       " 'seaborn-ticks',\n",
       " 'seaborn-white',\n",
       " 'seaborn-whitegrid',\n",
       " 'seaborn',\n",
       " 'Solarize_Light2',\n",
       " '_classic_test']"
      ]
     },
     "execution_count": 4,
     "metadata": {},
     "output_type": "execute_result"
    }
   ],
   "source": [
    "# Verificando os estilos disponíveis\n",
    "plt.style.available"
   ]
  },
  {
   "cell_type": "code",
   "execution_count": 5,
   "metadata": {},
   "outputs": [],
   "source": [
    "# Configurando para o estilo clássico\n",
    "plt.style.use('seaborn-pastel')"
   ]
  },
  {
   "cell_type": "markdown",
   "metadata": {},
   "source": [
    "**Saída dos gráficos**  \n",
    "Podemos escolher duas formas de gráficos:\n",
    "* %matplotlib notebook - Para gráficos interativos\n",
    "* %matplotlib inline - Para gráficos estáticos (default)\n",
    "    "
   ]
  },
  {
   "cell_type": "code",
   "execution_count": 6,
   "metadata": {},
   "outputs": [],
   "source": [
    "%matplotlib inline"
   ]
  },
  {
   "cell_type": "markdown",
   "metadata": {},
   "source": [
    "**Salvando um gráfico**  \n",
    "Para salvar um gráfico gerado, utilizamos a função ``.savefig()``."
   ]
  },
  {
   "cell_type": "code",
   "execution_count": 7,
   "metadata": {},
   "outputs": [
    {
     "data": {
      "image/png": "[encoded data removed]",
      "text/plain": [
       "<matplotlib.figure.Figure at 0x8a53f98>"
      ]
     },
     "metadata": {},
     "output_type": "display_data"
    }
   ],
   "source": [
    "import numpy as np\n",
    "figura = plt.figure()\n",
    "plt.plot(np.arange(10));\n",
    "\n",
    "# Vamos salvar a figura, escolhendo inclusive a resolução de sáida em dpi.\n",
    "figura.savefig('ex_figura.png', dpi=400)"
   ]
  },
  {
   "cell_type": "markdown",
   "metadata": {},
   "source": [
    "Para verificar os formatos possíves de figuras a serem salvas, utilize ``.canvas.get_supported_filetypes()``"
   ]
  },
  {
   "cell_type": "code",
   "execution_count": 8,
   "metadata": {},
   "outputs": [
    {
     "data": {
      "text/plain": [
       "{'eps': 'Encapsulated Postscript',\n",
       " 'jpeg': 'Joint Photographic Experts Group',\n",
       " 'jpg': 'Joint Photographic Experts Group',\n",
       " 'pdf': 'Portable Document Format',\n",
       " 'pgf': 'PGF code for LaTeX',\n",
       " 'png': 'Portable Network Graphics',\n",
       " 'ps': 'Postscript',\n",
       " 'raw': 'Raw RGBA bitmap',\n",
       " 'rgba': 'Raw RGBA bitmap',\n",
       " 'svg': 'Scalable Vector Graphics',\n",
       " 'svgz': 'Scalable Vector Graphics',\n",
       " 'tif': 'Tagged Image File Format',\n",
       " 'tiff': 'Tagged Image File Format'}"
      ]
     },
     "execution_count": 8,
     "metadata": {},
     "output_type": "execute_result"
    }
   ],
   "source": [
    "figura.canvas.get_supported_filetypes()"
   ]
  }
 ],
 "metadata": {
  "kernelspec": {
   "display_name": "Python 3",
   "language": "python",
   "name": "python3"
  },
  "language_info": {
   "codemirror_mode": {
    "name": "ipython",
    "version": 3
   },
   "file_extension": ".py",
   "mimetype": "text/x-python",
   "name": "python",
   "nbconvert_exporter": "python",
   "pygments_lexer": "ipython3",
   "version": "3.6.4"
  }
 },
 "nbformat": 4,
 "nbformat_minor": 2
}
