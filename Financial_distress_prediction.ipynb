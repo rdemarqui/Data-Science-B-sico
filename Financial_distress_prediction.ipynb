{
  "nbformat": 4,
  "nbformat_minor": 0,
  "metadata": {
    "colab": {
      "provenance": [],
      "toc_visible": true,
      "authorship_tag": "ABX9TyOCO12pGeR2KxDVOBHTPVMW",
      "include_colab_link": true
    },
    "kernelspec": {
      "name": "python3",
      "display_name": "Python 3"
    },
    "language_info": {
      "name": "python"
    }
  },
  "cells": [
    {
      "cell_type": "markdown",
      "metadata": {
        "id": "view-in-github",
        "colab_type": "text"
      },
      "source": [
        "<a href=\"https://colab.research.google.com/github/rdemarqui/Data-Science-Basico/blob/master/Financial_distress_prediction.ipynb\" target=\"_parent\"><img src=\"https://colab.research.google.com/assets/colab-badge.svg\" alt=\"Open In Colab\"/></a>"
      ]
    },
    {
      "cell_type": "markdown",
      "source": [
        "# Financial Distress Prediction"
      ],
      "metadata": {
        "id": "09xPYRvMK1qj"
      }
    },
    {
      "cell_type": "markdown",
      "source": [
        "Source: https://www.kaggle.com/competitions/GiveMeSomeCredit/"
      ],
      "metadata": {
        "id": "ZNIxKljhk1tn"
      }
    },
    {
      "cell_type": "code",
      "execution_count": 44,
      "metadata": {
        "id": "cgHV9TNsKr74"
      },
      "outputs": [],
      "source": [
        "import os\n",
        "import zipfile\n",
        "import pandas as pd\n",
        "import numpy as np\n",
        "from sklearn.model_selection import RandomizedSearchCV, StratifiedKFold, RepeatedStratifiedKFold, cross_val_score"
      ]
    },
    {
      "cell_type": "code",
      "source": [
        "from sklearn.ensemble import AdaBoostClassifier\n",
        "from sklearn.ensemble import HistGradientBoostingClassifier\n",
        "from sklearn.ensemble import ExtraTreesClassifier\n",
        "from sklearn.ensemble import VotingClassifier\n",
        "from sklearn.ensemble import RandomForestClassifier\n",
        "from sklearn.linear_model import LogisticRegression\n",
        "from sklearn.naive_bayes import GaussianNB\n",
        "from sklearn.naive_bayes import BernoulliNB\n",
        "from sklearn.naive_bayes import MultinomialNB\n",
        "from sklearn.neural_network import MLPClassifier\n",
        "from sklearn.svm import SVC\n",
        "from sklearn.tree import DecisionTreeClassifier\n",
        "from xgboost import XGBClassifier\n",
        "from lightgbm import LGBMClassifier"
      ],
      "metadata": {
        "id": "hpX4kfbMcOGf"
      },
      "execution_count": 52,
      "outputs": []
    },
    {
      "cell_type": "code",
      "source": [
        "# Getting current work dir\n",
        "current_dir = os.getcwd()"
      ],
      "metadata": {
        "id": "p8b0_7BFK0lP"
      },
      "execution_count": null,
      "outputs": []
    },
    {
      "cell_type": "code",
      "source": [
        "# Downloading file\n",
        "!wget -q https://github.com/rdemarqui/financial_distress_prediction/raw/main/datasets/GiveMeSomeCredit.zip"
      ],
      "metadata": {
        "id": "xSD9yINyMyPd"
      },
      "execution_count": 6,
      "outputs": []
    },
    {
      "cell_type": "code",
      "source": [
        "# Opening datasets\n",
        "zf = zipfile.ZipFile(os.path.join(current_dir, 'GiveMeSomeCredit.zip'))\n",
        "df_train = pd.read_csv(zf.open('cs-training.csv'), index_col=0, low_memory=False)\n",
        "df_test = pd.read_csv(zf.open('cs-test.csv'), index_col=0, low_memory=False)"
      ],
      "metadata": {
        "id": "MF7Q-7SZNNsV"
      },
      "execution_count": 10,
      "outputs": []
    },
    {
      "cell_type": "markdown",
      "source": [
        "## Exploratory Data Analysis (EDA)"
      ],
      "metadata": {
        "id": "-okzye9NQn-n"
      }
    },
    {
      "cell_type": "code",
      "source": [
        "# Checking null values and data types\n",
        "df_train.info()"
      ],
      "metadata": {
        "colab": {
          "base_uri": "https://localhost:8080/"
        },
        "id": "EBSfp8ktBgVp",
        "outputId": "5a777156-1622-454b-de9a-fee8fb772144"
      },
      "execution_count": 15,
      "outputs": [
        {
          "output_type": "stream",
          "name": "stdout",
          "text": [
            "<class 'pandas.core.frame.DataFrame'>\n",
            "Int64Index: 150000 entries, 1 to 150000\n",
            "Data columns (total 11 columns):\n",
            " #   Column                                Non-Null Count   Dtype  \n",
            "---  ------                                --------------   -----  \n",
            " 0   SeriousDlqin2yrs                      150000 non-null  int64  \n",
            " 1   RevolvingUtilizationOfUnsecuredLines  150000 non-null  float64\n",
            " 2   age                                   150000 non-null  int64  \n",
            " 3   NumberOfTime30-59DaysPastDueNotWorse  150000 non-null  int64  \n",
            " 4   DebtRatio                             150000 non-null  float64\n",
            " 5   MonthlyIncome                         120269 non-null  float64\n",
            " 6   NumberOfOpenCreditLinesAndLoans       150000 non-null  int64  \n",
            " 7   NumberOfTimes90DaysLate               150000 non-null  int64  \n",
            " 8   NumberRealEstateLoansOrLines          150000 non-null  int64  \n",
            " 9   NumberOfTime60-89DaysPastDueNotWorse  150000 non-null  int64  \n",
            " 10  NumberOfDependents                    146076 non-null  float64\n",
            "dtypes: float64(4), int64(7)\n",
            "memory usage: 13.7 MB\n"
          ]
        }
      ]
    },
    {
      "cell_type": "markdown",
      "source": [
        "Dataset has only numeric features. Also has null values on *MonthlyIncome* and *NumberOfDependents*. I'll deal with that later."
      ],
      "metadata": {
        "id": "9O9uCn0ND91b"
      }
    },
    {
      "cell_type": "code",
      "source": [
        "df_train.describe().T"
      ],
      "metadata": {
        "colab": {
          "base_uri": "https://localhost:8080/",
          "height": 394
        },
        "id": "DGaCGx9fAuvh",
        "outputId": "b128550b-9b93-4faf-ee60-8c4f4aad72c5"
      },
      "execution_count": 13,
      "outputs": [
        {
          "output_type": "execute_result",
          "data": {
            "text/plain": [
              "                                         count         mean           std  \\\n",
              "SeriousDlqin2yrs                      150000.0     0.066840      0.249746   \n",
              "RevolvingUtilizationOfUnsecuredLines  150000.0     6.048438    249.755371   \n",
              "age                                   150000.0    52.295207     14.771866   \n",
              "NumberOfTime30-59DaysPastDueNotWorse  150000.0     0.421033      4.192781   \n",
              "DebtRatio                             150000.0   353.005076   2037.818523   \n",
              "MonthlyIncome                         120269.0  6670.221237  14384.674215   \n",
              "NumberOfOpenCreditLinesAndLoans       150000.0     8.452760      5.145951   \n",
              "NumberOfTimes90DaysLate               150000.0     0.265973      4.169304   \n",
              "NumberRealEstateLoansOrLines          150000.0     1.018240      1.129771   \n",
              "NumberOfTime60-89DaysPastDueNotWorse  150000.0     0.240387      4.155179   \n",
              "NumberOfDependents                    146076.0     0.757222      1.115086   \n",
              "\n",
              "                                      min          25%          50%  \\\n",
              "SeriousDlqin2yrs                      0.0     0.000000     0.000000   \n",
              "RevolvingUtilizationOfUnsecuredLines  0.0     0.029867     0.154181   \n",
              "age                                   0.0    41.000000    52.000000   \n",
              "NumberOfTime30-59DaysPastDueNotWorse  0.0     0.000000     0.000000   \n",
              "DebtRatio                             0.0     0.175074     0.366508   \n",
              "MonthlyIncome                         0.0  3400.000000  5400.000000   \n",
              "NumberOfOpenCreditLinesAndLoans       0.0     5.000000     8.000000   \n",
              "NumberOfTimes90DaysLate               0.0     0.000000     0.000000   \n",
              "NumberRealEstateLoansOrLines          0.0     0.000000     1.000000   \n",
              "NumberOfTime60-89DaysPastDueNotWorse  0.0     0.000000     0.000000   \n",
              "NumberOfDependents                    0.0     0.000000     0.000000   \n",
              "\n",
              "                                              75%        max  \n",
              "SeriousDlqin2yrs                         0.000000        1.0  \n",
              "RevolvingUtilizationOfUnsecuredLines     0.559046    50708.0  \n",
              "age                                     63.000000      109.0  \n",
              "NumberOfTime30-59DaysPastDueNotWorse     0.000000       98.0  \n",
              "DebtRatio                                0.868254   329664.0  \n",
              "MonthlyIncome                         8249.000000  3008750.0  \n",
              "NumberOfOpenCreditLinesAndLoans         11.000000       58.0  \n",
              "NumberOfTimes90DaysLate                  0.000000       98.0  \n",
              "NumberRealEstateLoansOrLines             2.000000       54.0  \n",
              "NumberOfTime60-89DaysPastDueNotWorse     0.000000       98.0  \n",
              "NumberOfDependents                       1.000000       20.0  "
            ],
            "text/html": [
              "\n",
              "  <div id=\"df-a63e40c5-86ac-462b-bc4b-cf1f505541da\">\n",
              "    <div class=\"colab-df-container\">\n",
              "      <div>\n",
              "<style scoped>\n",
              "    .dataframe tbody tr th:only-of-type {\n",
              "        vertical-align: middle;\n",
              "    }\n",
              "\n",
              "    .dataframe tbody tr th {\n",
              "        vertical-align: top;\n",
              "    }\n",
              "\n",
              "    .dataframe thead th {\n",
              "        text-align: right;\n",
              "    }\n",
              "</style>\n",
              "<table border=\"1\" class=\"dataframe\">\n",
              "  <thead>\n",
              "    <tr style=\"text-align: right;\">\n",
              "      <th></th>\n",
              "      <th>count</th>\n",
              "      <th>mean</th>\n",
              "      <th>std</th>\n",
              "      <th>min</th>\n",
              "      <th>25%</th>\n",
              "      <th>50%</th>\n",
              "      <th>75%</th>\n",
              "      <th>max</th>\n",
              "    </tr>\n",
              "  </thead>\n",
              "  <tbody>\n",
              "    <tr>\n",
              "      <th>SeriousDlqin2yrs</th>\n",
              "      <td>150000.0</td>\n",
              "      <td>0.066840</td>\n",
              "      <td>0.249746</td>\n",
              "      <td>0.0</td>\n",
              "      <td>0.000000</td>\n",
              "      <td>0.000000</td>\n",
              "      <td>0.000000</td>\n",
              "      <td>1.0</td>\n",
              "    </tr>\n",
              "    <tr>\n",
              "      <th>RevolvingUtilizationOfUnsecuredLines</th>\n",
              "      <td>150000.0</td>\n",
              "      <td>6.048438</td>\n",
              "      <td>249.755371</td>\n",
              "      <td>0.0</td>\n",
              "      <td>0.029867</td>\n",
              "      <td>0.154181</td>\n",
              "      <td>0.559046</td>\n",
              "      <td>50708.0</td>\n",
              "    </tr>\n",
              "    <tr>\n",
              "      <th>age</th>\n",
              "      <td>150000.0</td>\n",
              "      <td>52.295207</td>\n",
              "      <td>14.771866</td>\n",
              "      <td>0.0</td>\n",
              "      <td>41.000000</td>\n",
              "      <td>52.000000</td>\n",
              "      <td>63.000000</td>\n",
              "      <td>109.0</td>\n",
              "    </tr>\n",
              "    <tr>\n",
              "      <th>NumberOfTime30-59DaysPastDueNotWorse</th>\n",
              "      <td>150000.0</td>\n",
              "      <td>0.421033</td>\n",
              "      <td>4.192781</td>\n",
              "      <td>0.0</td>\n",
              "      <td>0.000000</td>\n",
              "      <td>0.000000</td>\n",
              "      <td>0.000000</td>\n",
              "      <td>98.0</td>\n",
              "    </tr>\n",
              "    <tr>\n",
              "      <th>DebtRatio</th>\n",
              "      <td>150000.0</td>\n",
              "      <td>353.005076</td>\n",
              "      <td>2037.818523</td>\n",
              "      <td>0.0</td>\n",
              "      <td>0.175074</td>\n",
              "      <td>0.366508</td>\n",
              "      <td>0.868254</td>\n",
              "      <td>329664.0</td>\n",
              "    </tr>\n",
              "    <tr>\n",
              "      <th>MonthlyIncome</th>\n",
              "      <td>120269.0</td>\n",
              "      <td>6670.221237</td>\n",
              "      <td>14384.674215</td>\n",
              "      <td>0.0</td>\n",
              "      <td>3400.000000</td>\n",
              "      <td>5400.000000</td>\n",
              "      <td>8249.000000</td>\n",
              "      <td>3008750.0</td>\n",
              "    </tr>\n",
              "    <tr>\n",
              "      <th>NumberOfOpenCreditLinesAndLoans</th>\n",
              "      <td>150000.0</td>\n",
              "      <td>8.452760</td>\n",
              "      <td>5.145951</td>\n",
              "      <td>0.0</td>\n",
              "      <td>5.000000</td>\n",
              "      <td>8.000000</td>\n",
              "      <td>11.000000</td>\n",
              "      <td>58.0</td>\n",
              "    </tr>\n",
              "    <tr>\n",
              "      <th>NumberOfTimes90DaysLate</th>\n",
              "      <td>150000.0</td>\n",
              "      <td>0.265973</td>\n",
              "      <td>4.169304</td>\n",
              "      <td>0.0</td>\n",
              "      <td>0.000000</td>\n",
              "      <td>0.000000</td>\n",
              "      <td>0.000000</td>\n",
              "      <td>98.0</td>\n",
              "    </tr>\n",
              "    <tr>\n",
              "      <th>NumberRealEstateLoansOrLines</th>\n",
              "      <td>150000.0</td>\n",
              "      <td>1.018240</td>\n",
              "      <td>1.129771</td>\n",
              "      <td>0.0</td>\n",
              "      <td>0.000000</td>\n",
              "      <td>1.000000</td>\n",
              "      <td>2.000000</td>\n",
              "      <td>54.0</td>\n",
              "    </tr>\n",
              "    <tr>\n",
              "      <th>NumberOfTime60-89DaysPastDueNotWorse</th>\n",
              "      <td>150000.0</td>\n",
              "      <td>0.240387</td>\n",
              "      <td>4.155179</td>\n",
              "      <td>0.0</td>\n",
              "      <td>0.000000</td>\n",
              "      <td>0.000000</td>\n",
              "      <td>0.000000</td>\n",
              "      <td>98.0</td>\n",
              "    </tr>\n",
              "    <tr>\n",
              "      <th>NumberOfDependents</th>\n",
              "      <td>146076.0</td>\n",
              "      <td>0.757222</td>\n",
              "      <td>1.115086</td>\n",
              "      <td>0.0</td>\n",
              "      <td>0.000000</td>\n",
              "      <td>0.000000</td>\n",
              "      <td>1.000000</td>\n",
              "      <td>20.0</td>\n",
              "    </tr>\n",
              "  </tbody>\n",
              "</table>\n",
              "</div>\n",
              "      <button class=\"colab-df-convert\" onclick=\"convertToInteractive('df-a63e40c5-86ac-462b-bc4b-cf1f505541da')\"\n",
              "              title=\"Convert this dataframe to an interactive table.\"\n",
              "              style=\"display:none;\">\n",
              "        \n",
              "  <svg xmlns=\"http://www.w3.org/2000/svg\" height=\"24px\"viewBox=\"0 0 24 24\"\n",
              "       width=\"24px\">\n",
              "    <path d=\"M0 0h24v24H0V0z\" fill=\"none\"/>\n",
              "    <path d=\"M18.56 5.44l.94 2.06.94-2.06 2.06-.94-2.06-.94-.94-2.06-.94 2.06-2.06.94zm-11 1L8.5 8.5l.94-2.06 2.06-.94-2.06-.94L8.5 2.5l-.94 2.06-2.06.94zm10 10l.94 2.06.94-2.06 2.06-.94-2.06-.94-.94-2.06-.94 2.06-2.06.94z\"/><path d=\"M17.41 7.96l-1.37-1.37c-.4-.4-.92-.59-1.43-.59-.52 0-1.04.2-1.43.59L10.3 9.45l-7.72 7.72c-.78.78-.78 2.05 0 2.83L4 21.41c.39.39.9.59 1.41.59.51 0 1.02-.2 1.41-.59l7.78-7.78 2.81-2.81c.8-.78.8-2.07 0-2.86zM5.41 20L4 18.59l7.72-7.72 1.47 1.35L5.41 20z\"/>\n",
              "  </svg>\n",
              "      </button>\n",
              "      \n",
              "  <style>\n",
              "    .colab-df-container {\n",
              "      display:flex;\n",
              "      flex-wrap:wrap;\n",
              "      gap: 12px;\n",
              "    }\n",
              "\n",
              "    .colab-df-convert {\n",
              "      background-color: #E8F0FE;\n",
              "      border: none;\n",
              "      border-radius: 50%;\n",
              "      cursor: pointer;\n",
              "      display: none;\n",
              "      fill: #1967D2;\n",
              "      height: 32px;\n",
              "      padding: 0 0 0 0;\n",
              "      width: 32px;\n",
              "    }\n",
              "\n",
              "    .colab-df-convert:hover {\n",
              "      background-color: #E2EBFA;\n",
              "      box-shadow: 0px 1px 2px rgba(60, 64, 67, 0.3), 0px 1px 3px 1px rgba(60, 64, 67, 0.15);\n",
              "      fill: #174EA6;\n",
              "    }\n",
              "\n",
              "    [theme=dark] .colab-df-convert {\n",
              "      background-color: #3B4455;\n",
              "      fill: #D2E3FC;\n",
              "    }\n",
              "\n",
              "    [theme=dark] .colab-df-convert:hover {\n",
              "      background-color: #434B5C;\n",
              "      box-shadow: 0px 1px 3px 1px rgba(0, 0, 0, 0.15);\n",
              "      filter: drop-shadow(0px 1px 2px rgba(0, 0, 0, 0.3));\n",
              "      fill: #FFFFFF;\n",
              "    }\n",
              "  </style>\n",
              "\n",
              "      <script>\n",
              "        const buttonEl =\n",
              "          document.querySelector('#df-a63e40c5-86ac-462b-bc4b-cf1f505541da button.colab-df-convert');\n",
              "        buttonEl.style.display =\n",
              "          google.colab.kernel.accessAllowed ? 'block' : 'none';\n",
              "\n",
              "        async function convertToInteractive(key) {\n",
              "          const element = document.querySelector('#df-a63e40c5-86ac-462b-bc4b-cf1f505541da');\n",
              "          const dataTable =\n",
              "            await google.colab.kernel.invokeFunction('convertToInteractive',\n",
              "                                                     [key], {});\n",
              "          if (!dataTable) return;\n",
              "\n",
              "          const docLinkHtml = 'Like what you see? Visit the ' +\n",
              "            '<a target=\"_blank\" href=https://colab.research.google.com/notebooks/data_table.ipynb>data table notebook</a>'\n",
              "            + ' to learn more about interactive tables.';\n",
              "          element.innerHTML = '';\n",
              "          dataTable['output_type'] = 'display_data';\n",
              "          await google.colab.output.renderOutput(dataTable, element);\n",
              "          const docLink = document.createElement('div');\n",
              "          docLink.innerHTML = docLinkHtml;\n",
              "          element.appendChild(docLink);\n",
              "        }\n",
              "      </script>\n",
              "    </div>\n",
              "  </div>\n",
              "  "
            ]
          },
          "metadata": {},
          "execution_count": 13
        }
      ]
    },
    {
      "cell_type": "code",
      "source": [
        "df_train\n",
        "\n",
        "#df_train_final = df_train.copy()\n",
        "#df_test_final = df_test.copy()"
      ],
      "metadata": {
        "id": "hdF0tMHZKYQh"
      },
      "execution_count": 21,
      "outputs": []
    },
    {
      "cell_type": "code",
      "source": [
        "# Splitting data\n",
        "X_train = df_train_final.drop(columns=['SeriousDlqin2yrs'])\n",
        "y_train = df_train_final['SeriousDlqin2yrs']"
      ],
      "metadata": {
        "id": "YWwEfE5GJ4EJ"
      },
      "execution_count": 20,
      "outputs": []
    },
    {
      "cell_type": "code",
      "source": [
        "# Calculating target proportion\n",
        "label_prop = round(np.sum(y_train==0)/np.sum(y_train==1), 2)\n",
        "label_prop"
      ],
      "metadata": {
        "id": "YRvIWrVjWBFr"
      },
      "execution_count": null,
      "outputs": []
    },
    {
      "cell_type": "markdown",
      "source": [
        "##Training"
      ],
      "metadata": {
        "id": "14cNlM04VN6p"
      }
    },
    {
      "cell_type": "code",
      "source": [
        "# kflod split\n",
        "nsplit = 5"
      ],
      "metadata": {
        "colab": {
          "base_uri": "https://localhost:8080/"
        },
        "id": "M2d25CExKkJB",
        "outputId": "5cd1dd1e-73a0-4c67-f015-5cf2a6c7e336"
      },
      "execution_count": 31,
      "outputs": [
        {
          "output_type": "execute_result",
          "data": {
            "text/plain": [
              "13.96"
            ]
          },
          "metadata": {},
          "execution_count": 31
        }
      ]
    },
    {
      "cell_type": "markdown",
      "source": [
        "### Baseline Model"
      ],
      "metadata": {
        "id": "s6O_qno9Jm_a"
      }
    },
    {
      "cell_type": "code",
      "source": [
        "# Baseline Model\n",
        "kfold = StratifiedKFold(n_splits=nsplit, shuffle=True, random_state=42)\n",
        "model = XGBClassifier(nthread=4)\n",
        "scores = cross_val_score(model, X_train, y_train, cv=kfold, scoring='roc_auc')\n",
        "\n",
        "print('roc_auc: ', np.round(scores, 2))\n",
        "print('roc_auc mean: ', np.round(scores.mean(), 5))"
      ],
      "metadata": {
        "colab": {
          "base_uri": "https://localhost:8080/"
        },
        "id": "_9P-nhCCLv6Q",
        "outputId": "e9037481-e527-4986-c487-0059a76186af"
      },
      "execution_count": 57,
      "outputs": [
        {
          "output_type": "stream",
          "name": "stdout",
          "text": [
            "roc_auc:  [0.85 0.86 0.86 0.85 0.86]\n",
            "roc_auc mean:  0.85842\n"
          ]
        }
      ]
    },
    {
      "cell_type": "code",
      "source": [
        "# Baseline Model\n",
        "kfold = StratifiedKFold(n_splits=nsplit, shuffle=True, random_state=42)\n",
        "model = LGBMClassifier()\n",
        "scores = cross_val_score(model, X_train, y_train, cv=kfold, scoring='roc_auc')\n",
        "\n",
        "print('roc_auc: ', np.round(scores, 2))\n",
        "print('roc_auc mean: ', np.round(scores.mean(), 5))"
      ],
      "metadata": {
        "colab": {
          "base_uri": "https://localhost:8080/"
        },
        "id": "-LUs7l_3ecoq",
        "outputId": "e303fbfb-a43b-4ff4-ec3e-18e48ce8432a"
      },
      "execution_count": 56,
      "outputs": [
        {
          "output_type": "stream",
          "name": "stdout",
          "text": [
            "roc_auc:  [0.86 0.86 0.87 0.86 0.87]\n",
            "roc_auc mean:  0.86483\n"
          ]
        }
      ]
    },
    {
      "cell_type": "markdown",
      "source": [
        "## Hiperparameter Tunning"
      ],
      "metadata": {
        "id": "rTMzwztZU4AY"
      }
    },
    {
      "cell_type": "code",
      "source": [],
      "metadata": {
        "id": "rS_Mv1-5ObqC"
      },
      "execution_count": null,
      "outputs": []
    },
    {
      "cell_type": "markdown",
      "source": [
        "## "
      ],
      "metadata": {
        "id": "Ivp_5DMpVGYR"
      }
    }
  ]
}