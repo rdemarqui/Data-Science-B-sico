{
  "nbformat": 4,
  "nbformat_minor": 0,
  "metadata": {
    "colab": {
      "provenance": [],
      "collapsed_sections": [
        "pHaMDmDNGEcn"
      ],
      "toc_visible": true,
      "authorship_tag": "ABX9TyOuOaYY5aVFMb8oHhIkhd0Q",
      "include_colab_link": true
    },
    "kernelspec": {
      "name": "python3",
      "display_name": "Python 3"
    },
    "language_info": {
      "name": "python"
    }
  },
  "cells": [
    {
      "cell_type": "markdown",
      "metadata": {
        "id": "view-in-github",
        "colab_type": "text"
      },
      "source": [
        "<a href=\"https://colab.research.google.com/github/rdemarqui/Data-Science-Basico/blob/master/Whisper_Fine_tunning_Portuguese.ipynb\" target=\"_parent\"><img src=\"https://colab.research.google.com/assets/colab-badge.svg\" alt=\"Open In Colab\"/></a>"
      ]
    },
    {
      "cell_type": "markdown",
      "source": [
        "# Whisper Fine-tunning"
      ],
      "metadata": {
        "id": "ak_soLhDzSsY"
      }
    },
    {
      "cell_type": "code",
      "source": [
        "# To do\n",
        "# Evaluate before training\n",
        "# Download streaming mode dataset\n",
        "# Merge more than one dataset\n",
        "# Transform audio into Mel Spectogram\n",
        "# Data Augmentation\n",
        "# Normalize text\n",
        "# Drop audio > 30s\n",
        "# Drop large embedding\n",
        "# Save checkpoints\n",
        "# Evaluate after training (WER)\n",
        "# Compare with leaderboard: https://huggingface.co/spaces/whisper-event/winners?dataset=mozilla-foundation%2Fcommon_voice_11_0\n",
        "# Save final model\n",
        "# Create a App(?)\n"
      ],
      "metadata": {
        "id": "C3szDKaSre2g"
      },
      "execution_count": null,
      "outputs": []
    },
    {
      "cell_type": "code",
      "source": [
        "! pip install transformers"
      ],
      "metadata": {
        "id": "kt77mnbeGSge"
      },
      "execution_count": null,
      "outputs": []
    },
    {
      "cell_type": "code",
      "execution_count": 3,
      "metadata": {
        "colab": {
          "base_uri": "https://localhost:8080/",
          "height": 36
        },
        "id": "zaFqugN1y8R8",
        "outputId": "df0ee6df-6d2a-4f25-adb9-5801db02d610"
      },
      "outputs": [
        {
          "output_type": "execute_result",
          "data": {
            "text/plain": [
              "'cpu'"
            ],
            "application/vnd.google.colaboratory.intrinsic+json": {
              "type": "string"
            }
          },
          "metadata": {},
          "execution_count": 3
        }
      ],
      "source": [
        "# Check Environment\n",
        "device = !nvidia-smi -L\n",
        "device = \"cuda\" if device[0][:3] == 'GPU' else \"cpu\"\n",
        "device"
      ]
    },
    {
      "cell_type": "markdown",
      "source": [
        "## Datasets"
      ],
      "metadata": {
        "id": "DG5AQpjk0Nvo"
      }
    },
    {
      "cell_type": "code",
      "source": [
        "AUDIO_COLUMN_NAME = \"audio\"\n",
        "TEXT_COLUMN_NAME = \"sentence\""
      ],
      "metadata": {
        "id": "Sm1sWkMWp7_6"
      },
      "execution_count": null,
      "outputs": []
    },
    {
      "cell_type": "code",
      "source": [
        "# Whisper was trained with 16KHz samplig rate. We will resample the dataset to guarantee this."
      ],
      "metadata": {
        "id": "FjUiYtBwqdV4"
      },
      "execution_count": null,
      "outputs": []
    },
    {
      "cell_type": "code",
      "source": [
        "from datasets import Audio, DatasetDict, concatenate_datasets, load_dataset\n",
        "\n",
        "def normalize_dataset(ds, audio_column_name=None, text_column_name=None):\n",
        "    if audio_column_name is not None and audio_column_name != AUDIO_COLUMN_NAME:\n",
        "        ds = ds.rename_column(audio_column_name, AUDIO_COLUMN_NAME)\n",
        "    if text_column_name is not None and text_column_name != TEXT_COLUMN_NAME:\n",
        "        ds = ds.rename_column(text_column_name, TEXT_COLUMN_NAME)\n",
        "    # resample to the same sampling rate\n",
        "    ds = ds.cast_column(\"audio\", Audio(sampling_rate=16_000))\n",
        "    # normalise columns to [\"audio\", \"sentence\"]\n",
        "    ds = ds.remove_columns(set(ds.features.keys()) - set([AUDIO_COLUMN_NAME, TEXT_COLUMN_NAME]))\n",
        "    return ds"
      ],
      "metadata": {
        "id": "-Ug3QWm4qPdJ"
      },
      "execution_count": null,
      "outputs": []
    },
    {
      "cell_type": "code",
      "source": [
        "raw_datasets = DatasetDict()\n",
        "\n",
        "ds_train_mcv = load_dataset(\"mozilla-foundation/common_voice_11_0\", \"fr\", split=\"train+validation\", use_auth_token=True)\n",
        "ds_train_mcv = normalize_dataset(ds_train_mcv)\n",
        "\n",
        "ds_train_mls = load_dataset(\"facebook/multilingual_librispeech\", \"french\", split=\"train+validation\")\n",
        "ds_train_mls = normalize_dataset(ds_train_mls, text_column_name=\"text\")\n",
        "\n",
        "raw_datasets[\"train\"] = concatenate_datasets([ds_train_mcv, ds_train_mls])\n",
        "\n",
        "# NB: shuffle concatenated dataset\n",
        "raw_datasets[\"train\"] = raw_datasets[\"train\"].shuffle(seed=10)\n",
        "\n",
        "raw_datasets[\"eval\"] = load_dataset(\"mozilla-foundation/common_voice_11_0\", \"fr\", split=\"test\", use_auth_token=True)\n",
        "raw_datasets[\"eval\"] = normalize_dataset(raw_datasets[\"eval\"])\n",
        "\n",
        "raw_datasets"
      ],
      "metadata": {
        "id": "OH4p8-Dcqccp"
      },
      "execution_count": null,
      "outputs": []
    },
    {
      "cell_type": "markdown",
      "source": [
        "## Load Model"
      ],
      "metadata": {
        "id": "pHaMDmDNGEcn"
      }
    },
    {
      "cell_type": "code",
      "source": [
        "# openai/whisper-small"
      ],
      "metadata": {
        "id": "l3qnm7-8HANv"
      },
      "execution_count": null,
      "outputs": []
    },
    {
      "cell_type": "code",
      "source": [
        "from transformers import WhisperForConditionalGeneration\n",
        "model = WhisperForConditionalGeneration.from_pretrained(\"openai/whisper-medium\")"
      ],
      "metadata": {
        "id": "afwTYUwGGGJt"
      },
      "execution_count": null,
      "outputs": []
    },
    {
      "cell_type": "code",
      "source": [
        "# include forced token in the training\n",
        "model.config.forced_decoder_ids = None\n",
        "model.config.suppress_tokens = []\n",
        "# to use gradient checkpointing\n",
        "model.config.use_cache = False"
      ],
      "metadata": {
        "id": "1Qa6bD8LpuDY"
      },
      "execution_count": null,
      "outputs": []
    }
  ]
}