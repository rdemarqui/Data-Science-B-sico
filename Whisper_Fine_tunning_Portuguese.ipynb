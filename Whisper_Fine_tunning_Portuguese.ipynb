{
  "nbformat": 4,
  "nbformat_minor": 0,
  "metadata": {
    "colab": {
      "provenance": [],
      "toc_visible": true,
      "authorship_tag": "ABX9TyMUsQlQsnyehdONuUMu/ixR",
      "include_colab_link": true
    },
    "kernelspec": {
      "name": "python3",
      "display_name": "Python 3"
    },
    "language_info": {
      "name": "python"
    },
    "widgets": {
      "application/vnd.jupyter.widget-state+json": {
        "fe416062eec547dcae520a482509960a": {
          "model_module": "@jupyter-widgets/controls",
          "model_name": "VBoxModel",
          "model_module_version": "1.5.0",
          "state": {
            "_dom_classes": [],
            "_model_module": "@jupyter-widgets/controls",
            "_model_module_version": "1.5.0",
            "_model_name": "VBoxModel",
            "_view_count": null,
            "_view_module": "@jupyter-widgets/controls",
            "_view_module_version": "1.5.0",
            "_view_name": "VBoxView",
            "box_style": "",
            "children": [
              "IPY_MODEL_a7311211e45f4dde92cc19c0301ee18e",
              "IPY_MODEL_178ebf9e698c4c08805f025d6afd7c54",
              "IPY_MODEL_45f0da66c9924c19bb3cf91432072583"
            ],
            "layout": "IPY_MODEL_965473703dac4976a4f43efbaec7e649"
          }
        },
        "dd2d4147728744079118d22c900a8ef9": {
          "model_module": "@jupyter-widgets/controls",
          "model_name": "HTMLModel",
          "model_module_version": "1.5.0",
          "state": {
            "_dom_classes": [],
            "_model_module": "@jupyter-widgets/controls",
            "_model_module_version": "1.5.0",
            "_model_name": "HTMLModel",
            "_view_count": null,
            "_view_module": "@jupyter-widgets/controls",
            "_view_module_version": "1.5.0",
            "_view_name": "HTMLView",
            "description": "",
            "description_tooltip": null,
            "layout": "IPY_MODEL_0c722d3a62e64f47aa598d51cd9423f2",
            "placeholder": "​",
            "style": "IPY_MODEL_90d75ff6be874a3787da1a00774c4eb0",
            "value": "<center> <img\nsrc=https://huggingface.co/front/assets/huggingface_logo-noborder.svg\nalt='Hugging Face'> <br> Copy a token from <a\nhref=\"https://huggingface.co/settings/tokens\" target=\"_blank\">your Hugging Face\ntokens page</a> and paste it below. <br> Immediately click login after copying\nyour token or it might be stored in plain text in this notebook file. </center>"
          }
        },
        "2c3cf991640044afb5a679d3f64cafe9": {
          "model_module": "@jupyter-widgets/controls",
          "model_name": "PasswordModel",
          "model_module_version": "1.5.0",
          "state": {
            "_dom_classes": [],
            "_model_module": "@jupyter-widgets/controls",
            "_model_module_version": "1.5.0",
            "_model_name": "PasswordModel",
            "_view_count": null,
            "_view_module": "@jupyter-widgets/controls",
            "_view_module_version": "1.5.0",
            "_view_name": "PasswordView",
            "continuous_update": true,
            "description": "Token:",
            "description_tooltip": null,
            "disabled": false,
            "layout": "IPY_MODEL_131093d8ed0f4d7391c53a18c175dc1b",
            "placeholder": "​",
            "style": "IPY_MODEL_2d9ceff174c9457b893680eea4608be0",
            "value": ""
          }
        },
        "1152745fa15c4e8ea8da70e13e1361bd": {
          "model_module": "@jupyter-widgets/controls",
          "model_name": "CheckboxModel",
          "model_module_version": "1.5.0",
          "state": {
            "_dom_classes": [],
            "_model_module": "@jupyter-widgets/controls",
            "_model_module_version": "1.5.0",
            "_model_name": "CheckboxModel",
            "_view_count": null,
            "_view_module": "@jupyter-widgets/controls",
            "_view_module_version": "1.5.0",
            "_view_name": "CheckboxView",
            "description": "Add token as git credential?",
            "description_tooltip": null,
            "disabled": false,
            "indent": true,
            "layout": "IPY_MODEL_e0f26f7ea4eb447683751273b3191469",
            "style": "IPY_MODEL_150c2670b69b4852b21f27dbbc6c60a7",
            "value": false
          }
        },
        "ff91a9f47f7a4f53b48df6dbedec66ca": {
          "model_module": "@jupyter-widgets/controls",
          "model_name": "ButtonModel",
          "model_module_version": "1.5.0",
          "state": {
            "_dom_classes": [],
            "_model_module": "@jupyter-widgets/controls",
            "_model_module_version": "1.5.0",
            "_model_name": "ButtonModel",
            "_view_count": null,
            "_view_module": "@jupyter-widgets/controls",
            "_view_module_version": "1.5.0",
            "_view_name": "ButtonView",
            "button_style": "",
            "description": "Login",
            "disabled": false,
            "icon": "",
            "layout": "IPY_MODEL_a2678e85a6664608b42aee9e74054db5",
            "style": "IPY_MODEL_173a1b616ef04860b93d39f890a7fc35",
            "tooltip": ""
          }
        },
        "317d6137eedc44979e8c5db9573311bb": {
          "model_module": "@jupyter-widgets/controls",
          "model_name": "HTMLModel",
          "model_module_version": "1.5.0",
          "state": {
            "_dom_classes": [],
            "_model_module": "@jupyter-widgets/controls",
            "_model_module_version": "1.5.0",
            "_model_name": "HTMLModel",
            "_view_count": null,
            "_view_module": "@jupyter-widgets/controls",
            "_view_module_version": "1.5.0",
            "_view_name": "HTMLView",
            "description": "",
            "description_tooltip": null,
            "layout": "IPY_MODEL_395dc4f900c74b0489cacd262309bfd3",
            "placeholder": "​",
            "style": "IPY_MODEL_f512dc36b78e4a46a469189331ac9afb",
            "value": "\n<b>Pro Tip:</b> If you don't already have one, you can create a dedicated\n'notebooks' token with 'write' access, that you can then easily reuse for all\nnotebooks. </center>"
          }
        },
        "965473703dac4976a4f43efbaec7e649": {
          "model_module": "@jupyter-widgets/base",
          "model_name": "LayoutModel",
          "model_module_version": "1.2.0",
          "state": {
            "_model_module": "@jupyter-widgets/base",
            "_model_module_version": "1.2.0",
            "_model_name": "LayoutModel",
            "_view_count": null,
            "_view_module": "@jupyter-widgets/base",
            "_view_module_version": "1.2.0",
            "_view_name": "LayoutView",
            "align_content": null,
            "align_items": "center",
            "align_self": null,
            "border": null,
            "bottom": null,
            "display": "flex",
            "flex": null,
            "flex_flow": "column",
            "grid_area": null,
            "grid_auto_columns": null,
            "grid_auto_flow": null,
            "grid_auto_rows": null,
            "grid_column": null,
            "grid_gap": null,
            "grid_row": null,
            "grid_template_areas": null,
            "grid_template_columns": null,
            "grid_template_rows": null,
            "height": null,
            "justify_content": null,
            "justify_items": null,
            "left": null,
            "margin": null,
            "max_height": null,
            "max_width": null,
            "min_height": null,
            "min_width": null,
            "object_fit": null,
            "object_position": null,
            "order": null,
            "overflow": null,
            "overflow_x": null,
            "overflow_y": null,
            "padding": null,
            "right": null,
            "top": null,
            "visibility": null,
            "width": "50%"
          }
        },
        "0c722d3a62e64f47aa598d51cd9423f2": {
          "model_module": "@jupyter-widgets/base",
          "model_name": "LayoutModel",
          "model_module_version": "1.2.0",
          "state": {
            "_model_module": "@jupyter-widgets/base",
            "_model_module_version": "1.2.0",
            "_model_name": "LayoutModel",
            "_view_count": null,
            "_view_module": "@jupyter-widgets/base",
            "_view_module_version": "1.2.0",
            "_view_name": "LayoutView",
            "align_content": null,
            "align_items": null,
            "align_self": null,
            "border": null,
            "bottom": null,
            "display": null,
            "flex": null,
            "flex_flow": null,
            "grid_area": null,
            "grid_auto_columns": null,
            "grid_auto_flow": null,
            "grid_auto_rows": null,
            "grid_column": null,
            "grid_gap": null,
            "grid_row": null,
            "grid_template_areas": null,
            "grid_template_columns": null,
            "grid_template_rows": null,
            "height": null,
            "justify_content": null,
            "justify_items": null,
            "left": null,
            "margin": null,
            "max_height": null,
            "max_width": null,
            "min_height": null,
            "min_width": null,
            "object_fit": null,
            "object_position": null,
            "order": null,
            "overflow": null,
            "overflow_x": null,
            "overflow_y": null,
            "padding": null,
            "right": null,
            "top": null,
            "visibility": null,
            "width": null
          }
        },
        "90d75ff6be874a3787da1a00774c4eb0": {
          "model_module": "@jupyter-widgets/controls",
          "model_name": "DescriptionStyleModel",
          "model_module_version": "1.5.0",
          "state": {
            "_model_module": "@jupyter-widgets/controls",
            "_model_module_version": "1.5.0",
            "_model_name": "DescriptionStyleModel",
            "_view_count": null,
            "_view_module": "@jupyter-widgets/base",
            "_view_module_version": "1.2.0",
            "_view_name": "StyleView",
            "description_width": ""
          }
        },
        "131093d8ed0f4d7391c53a18c175dc1b": {
          "model_module": "@jupyter-widgets/base",
          "model_name": "LayoutModel",
          "model_module_version": "1.2.0",
          "state": {
            "_model_module": "@jupyter-widgets/base",
            "_model_module_version": "1.2.0",
            "_model_name": "LayoutModel",
            "_view_count": null,
            "_view_module": "@jupyter-widgets/base",
            "_view_module_version": "1.2.0",
            "_view_name": "LayoutView",
            "align_content": null,
            "align_items": null,
            "align_self": null,
            "border": null,
            "bottom": null,
            "display": null,
            "flex": null,
            "flex_flow": null,
            "grid_area": null,
            "grid_auto_columns": null,
            "grid_auto_flow": null,
            "grid_auto_rows": null,
            "grid_column": null,
            "grid_gap": null,
            "grid_row": null,
            "grid_template_areas": null,
            "grid_template_columns": null,
            "grid_template_rows": null,
            "height": null,
            "justify_content": null,
            "justify_items": null,
            "left": null,
            "margin": null,
            "max_height": null,
            "max_width": null,
            "min_height": null,
            "min_width": null,
            "object_fit": null,
            "object_position": null,
            "order": null,
            "overflow": null,
            "overflow_x": null,
            "overflow_y": null,
            "padding": null,
            "right": null,
            "top": null,
            "visibility": null,
            "width": null
          }
        },
        "2d9ceff174c9457b893680eea4608be0": {
          "model_module": "@jupyter-widgets/controls",
          "model_name": "DescriptionStyleModel",
          "model_module_version": "1.5.0",
          "state": {
            "_model_module": "@jupyter-widgets/controls",
            "_model_module_version": "1.5.0",
            "_model_name": "DescriptionStyleModel",
            "_view_count": null,
            "_view_module": "@jupyter-widgets/base",
            "_view_module_version": "1.2.0",
            "_view_name": "StyleView",
            "description_width": ""
          }
        },
        "e0f26f7ea4eb447683751273b3191469": {
          "model_module": "@jupyter-widgets/base",
          "model_name": "LayoutModel",
          "model_module_version": "1.2.0",
          "state": {
            "_model_module": "@jupyter-widgets/base",
            "_model_module_version": "1.2.0",
            "_model_name": "LayoutModel",
            "_view_count": null,
            "_view_module": "@jupyter-widgets/base",
            "_view_module_version": "1.2.0",
            "_view_name": "LayoutView",
            "align_content": null,
            "align_items": null,
            "align_self": null,
            "border": null,
            "bottom": null,
            "display": null,
            "flex": null,
            "flex_flow": null,
            "grid_area": null,
            "grid_auto_columns": null,
            "grid_auto_flow": null,
            "grid_auto_rows": null,
            "grid_column": null,
            "grid_gap": null,
            "grid_row": null,
            "grid_template_areas": null,
            "grid_template_columns": null,
            "grid_template_rows": null,
            "height": null,
            "justify_content": null,
            "justify_items": null,
            "left": null,
            "margin": null,
            "max_height": null,
            "max_width": null,
            "min_height": null,
            "min_width": null,
            "object_fit": null,
            "object_position": null,
            "order": null,
            "overflow": null,
            "overflow_x": null,
            "overflow_y": null,
            "padding": null,
            "right": null,
            "top": null,
            "visibility": null,
            "width": null
          }
        },
        "150c2670b69b4852b21f27dbbc6c60a7": {
          "model_module": "@jupyter-widgets/controls",
          "model_name": "DescriptionStyleModel",
          "model_module_version": "1.5.0",
          "state": {
            "_model_module": "@jupyter-widgets/controls",
            "_model_module_version": "1.5.0",
            "_model_name": "DescriptionStyleModel",
            "_view_count": null,
            "_view_module": "@jupyter-widgets/base",
            "_view_module_version": "1.2.0",
            "_view_name": "StyleView",
            "description_width": ""
          }
        },
        "a2678e85a6664608b42aee9e74054db5": {
          "model_module": "@jupyter-widgets/base",
          "model_name": "LayoutModel",
          "model_module_version": "1.2.0",
          "state": {
            "_model_module": "@jupyter-widgets/base",
            "_model_module_version": "1.2.0",
            "_model_name": "LayoutModel",
            "_view_count": null,
            "_view_module": "@jupyter-widgets/base",
            "_view_module_version": "1.2.0",
            "_view_name": "LayoutView",
            "align_content": null,
            "align_items": null,
            "align_self": null,
            "border": null,
            "bottom": null,
            "display": null,
            "flex": null,
            "flex_flow": null,
            "grid_area": null,
            "grid_auto_columns": null,
            "grid_auto_flow": null,
            "grid_auto_rows": null,
            "grid_column": null,
            "grid_gap": null,
            "grid_row": null,
            "grid_template_areas": null,
            "grid_template_columns": null,
            "grid_template_rows": null,
            "height": null,
            "justify_content": null,
            "justify_items": null,
            "left": null,
            "margin": null,
            "max_height": null,
            "max_width": null,
            "min_height": null,
            "min_width": null,
            "object_fit": null,
            "object_position": null,
            "order": null,
            "overflow": null,
            "overflow_x": null,
            "overflow_y": null,
            "padding": null,
            "right": null,
            "top": null,
            "visibility": null,
            "width": null
          }
        },
        "173a1b616ef04860b93d39f890a7fc35": {
          "model_module": "@jupyter-widgets/controls",
          "model_name": "ButtonStyleModel",
          "model_module_version": "1.5.0",
          "state": {
            "_model_module": "@jupyter-widgets/controls",
            "_model_module_version": "1.5.0",
            "_model_name": "ButtonStyleModel",
            "_view_count": null,
            "_view_module": "@jupyter-widgets/base",
            "_view_module_version": "1.2.0",
            "_view_name": "StyleView",
            "button_color": null,
            "font_weight": ""
          }
        },
        "395dc4f900c74b0489cacd262309bfd3": {
          "model_module": "@jupyter-widgets/base",
          "model_name": "LayoutModel",
          "model_module_version": "1.2.0",
          "state": {
            "_model_module": "@jupyter-widgets/base",
            "_model_module_version": "1.2.0",
            "_model_name": "LayoutModel",
            "_view_count": null,
            "_view_module": "@jupyter-widgets/base",
            "_view_module_version": "1.2.0",
            "_view_name": "LayoutView",
            "align_content": null,
            "align_items": null,
            "align_self": null,
            "border": null,
            "bottom": null,
            "display": null,
            "flex": null,
            "flex_flow": null,
            "grid_area": null,
            "grid_auto_columns": null,
            "grid_auto_flow": null,
            "grid_auto_rows": null,
            "grid_column": null,
            "grid_gap": null,
            "grid_row": null,
            "grid_template_areas": null,
            "grid_template_columns": null,
            "grid_template_rows": null,
            "height": null,
            "justify_content": null,
            "justify_items": null,
            "left": null,
            "margin": null,
            "max_height": null,
            "max_width": null,
            "min_height": null,
            "min_width": null,
            "object_fit": null,
            "object_position": null,
            "order": null,
            "overflow": null,
            "overflow_x": null,
            "overflow_y": null,
            "padding": null,
            "right": null,
            "top": null,
            "visibility": null,
            "width": null
          }
        },
        "f512dc36b78e4a46a469189331ac9afb": {
          "model_module": "@jupyter-widgets/controls",
          "model_name": "DescriptionStyleModel",
          "model_module_version": "1.5.0",
          "state": {
            "_model_module": "@jupyter-widgets/controls",
            "_model_module_version": "1.5.0",
            "_model_name": "DescriptionStyleModel",
            "_view_count": null,
            "_view_module": "@jupyter-widgets/base",
            "_view_module_version": "1.2.0",
            "_view_name": "StyleView",
            "description_width": ""
          }
        },
        "83df2ec45de54ea59cf000ad147dcfbb": {
          "model_module": "@jupyter-widgets/controls",
          "model_name": "LabelModel",
          "model_module_version": "1.5.0",
          "state": {
            "_dom_classes": [],
            "_model_module": "@jupyter-widgets/controls",
            "_model_module_version": "1.5.0",
            "_model_name": "LabelModel",
            "_view_count": null,
            "_view_module": "@jupyter-widgets/controls",
            "_view_module_version": "1.5.0",
            "_view_name": "LabelView",
            "description": "",
            "description_tooltip": null,
            "layout": "IPY_MODEL_d66714cdbfc24806be45813c1acea8e1",
            "placeholder": "​",
            "style": "IPY_MODEL_27a69fafe3fd4d64a529dbf8fa2ea5a7",
            "value": "Connecting..."
          }
        },
        "d66714cdbfc24806be45813c1acea8e1": {
          "model_module": "@jupyter-widgets/base",
          "model_name": "LayoutModel",
          "model_module_version": "1.2.0",
          "state": {
            "_model_module": "@jupyter-widgets/base",
            "_model_module_version": "1.2.0",
            "_model_name": "LayoutModel",
            "_view_count": null,
            "_view_module": "@jupyter-widgets/base",
            "_view_module_version": "1.2.0",
            "_view_name": "LayoutView",
            "align_content": null,
            "align_items": null,
            "align_self": null,
            "border": null,
            "bottom": null,
            "display": null,
            "flex": null,
            "flex_flow": null,
            "grid_area": null,
            "grid_auto_columns": null,
            "grid_auto_flow": null,
            "grid_auto_rows": null,
            "grid_column": null,
            "grid_gap": null,
            "grid_row": null,
            "grid_template_areas": null,
            "grid_template_columns": null,
            "grid_template_rows": null,
            "height": null,
            "justify_content": null,
            "justify_items": null,
            "left": null,
            "margin": null,
            "max_height": null,
            "max_width": null,
            "min_height": null,
            "min_width": null,
            "object_fit": null,
            "object_position": null,
            "order": null,
            "overflow": null,
            "overflow_x": null,
            "overflow_y": null,
            "padding": null,
            "right": null,
            "top": null,
            "visibility": null,
            "width": null
          }
        },
        "27a69fafe3fd4d64a529dbf8fa2ea5a7": {
          "model_module": "@jupyter-widgets/controls",
          "model_name": "DescriptionStyleModel",
          "model_module_version": "1.5.0",
          "state": {
            "_model_module": "@jupyter-widgets/controls",
            "_model_module_version": "1.5.0",
            "_model_name": "DescriptionStyleModel",
            "_view_count": null,
            "_view_module": "@jupyter-widgets/base",
            "_view_module_version": "1.2.0",
            "_view_name": "StyleView",
            "description_width": ""
          }
        },
        "a7311211e45f4dde92cc19c0301ee18e": {
          "model_module": "@jupyter-widgets/controls",
          "model_name": "LabelModel",
          "model_module_version": "1.5.0",
          "state": {
            "_dom_classes": [],
            "_model_module": "@jupyter-widgets/controls",
            "_model_module_version": "1.5.0",
            "_model_name": "LabelModel",
            "_view_count": null,
            "_view_module": "@jupyter-widgets/controls",
            "_view_module_version": "1.5.0",
            "_view_name": "LabelView",
            "description": "",
            "description_tooltip": null,
            "layout": "IPY_MODEL_5603564e23d547608953808d35ec0162",
            "placeholder": "​",
            "style": "IPY_MODEL_899ff78ecb8d41fe9d4fc0a381cae757",
            "value": "Token is valid (permission: write)."
          }
        },
        "178ebf9e698c4c08805f025d6afd7c54": {
          "model_module": "@jupyter-widgets/controls",
          "model_name": "LabelModel",
          "model_module_version": "1.5.0",
          "state": {
            "_dom_classes": [],
            "_model_module": "@jupyter-widgets/controls",
            "_model_module_version": "1.5.0",
            "_model_name": "LabelModel",
            "_view_count": null,
            "_view_module": "@jupyter-widgets/controls",
            "_view_module_version": "1.5.0",
            "_view_name": "LabelView",
            "description": "",
            "description_tooltip": null,
            "layout": "IPY_MODEL_a95bf2fa0d274e07b9f6d9ea484e3d1b",
            "placeholder": "​",
            "style": "IPY_MODEL_b7db2163ab714f688e5a66014d01d0b8",
            "value": "Your token has been saved to /root/.cache/huggingface/token"
          }
        },
        "45f0da66c9924c19bb3cf91432072583": {
          "model_module": "@jupyter-widgets/controls",
          "model_name": "LabelModel",
          "model_module_version": "1.5.0",
          "state": {
            "_dom_classes": [],
            "_model_module": "@jupyter-widgets/controls",
            "_model_module_version": "1.5.0",
            "_model_name": "LabelModel",
            "_view_count": null,
            "_view_module": "@jupyter-widgets/controls",
            "_view_module_version": "1.5.0",
            "_view_name": "LabelView",
            "description": "",
            "description_tooltip": null,
            "layout": "IPY_MODEL_4d598b0699c446e1a22518d3060ccd98",
            "placeholder": "​",
            "style": "IPY_MODEL_ff2ed805244e4ec8a981c68c032f13b3",
            "value": "Login successful"
          }
        },
        "5603564e23d547608953808d35ec0162": {
          "model_module": "@jupyter-widgets/base",
          "model_name": "LayoutModel",
          "model_module_version": "1.2.0",
          "state": {
            "_model_module": "@jupyter-widgets/base",
            "_model_module_version": "1.2.0",
            "_model_name": "LayoutModel",
            "_view_count": null,
            "_view_module": "@jupyter-widgets/base",
            "_view_module_version": "1.2.0",
            "_view_name": "LayoutView",
            "align_content": null,
            "align_items": null,
            "align_self": null,
            "border": null,
            "bottom": null,
            "display": null,
            "flex": null,
            "flex_flow": null,
            "grid_area": null,
            "grid_auto_columns": null,
            "grid_auto_flow": null,
            "grid_auto_rows": null,
            "grid_column": null,
            "grid_gap": null,
            "grid_row": null,
            "grid_template_areas": null,
            "grid_template_columns": null,
            "grid_template_rows": null,
            "height": null,
            "justify_content": null,
            "justify_items": null,
            "left": null,
            "margin": null,
            "max_height": null,
            "max_width": null,
            "min_height": null,
            "min_width": null,
            "object_fit": null,
            "object_position": null,
            "order": null,
            "overflow": null,
            "overflow_x": null,
            "overflow_y": null,
            "padding": null,
            "right": null,
            "top": null,
            "visibility": null,
            "width": null
          }
        },
        "899ff78ecb8d41fe9d4fc0a381cae757": {
          "model_module": "@jupyter-widgets/controls",
          "model_name": "DescriptionStyleModel",
          "model_module_version": "1.5.0",
          "state": {
            "_model_module": "@jupyter-widgets/controls",
            "_model_module_version": "1.5.0",
            "_model_name": "DescriptionStyleModel",
            "_view_count": null,
            "_view_module": "@jupyter-widgets/base",
            "_view_module_version": "1.2.0",
            "_view_name": "StyleView",
            "description_width": ""
          }
        },
        "a95bf2fa0d274e07b9f6d9ea484e3d1b": {
          "model_module": "@jupyter-widgets/base",
          "model_name": "LayoutModel",
          "model_module_version": "1.2.0",
          "state": {
            "_model_module": "@jupyter-widgets/base",
            "_model_module_version": "1.2.0",
            "_model_name": "LayoutModel",
            "_view_count": null,
            "_view_module": "@jupyter-widgets/base",
            "_view_module_version": "1.2.0",
            "_view_name": "LayoutView",
            "align_content": null,
            "align_items": null,
            "align_self": null,
            "border": null,
            "bottom": null,
            "display": null,
            "flex": null,
            "flex_flow": null,
            "grid_area": null,
            "grid_auto_columns": null,
            "grid_auto_flow": null,
            "grid_auto_rows": null,
            "grid_column": null,
            "grid_gap": null,
            "grid_row": null,
            "grid_template_areas": null,
            "grid_template_columns": null,
            "grid_template_rows": null,
            "height": null,
            "justify_content": null,
            "justify_items": null,
            "left": null,
            "margin": null,
            "max_height": null,
            "max_width": null,
            "min_height": null,
            "min_width": null,
            "object_fit": null,
            "object_position": null,
            "order": null,
            "overflow": null,
            "overflow_x": null,
            "overflow_y": null,
            "padding": null,
            "right": null,
            "top": null,
            "visibility": null,
            "width": null
          }
        },
        "b7db2163ab714f688e5a66014d01d0b8": {
          "model_module": "@jupyter-widgets/controls",
          "model_name": "DescriptionStyleModel",
          "model_module_version": "1.5.0",
          "state": {
            "_model_module": "@jupyter-widgets/controls",
            "_model_module_version": "1.5.0",
            "_model_name": "DescriptionStyleModel",
            "_view_count": null,
            "_view_module": "@jupyter-widgets/base",
            "_view_module_version": "1.2.0",
            "_view_name": "StyleView",
            "description_width": ""
          }
        },
        "4d598b0699c446e1a22518d3060ccd98": {
          "model_module": "@jupyter-widgets/base",
          "model_name": "LayoutModel",
          "model_module_version": "1.2.0",
          "state": {
            "_model_module": "@jupyter-widgets/base",
            "_model_module_version": "1.2.0",
            "_model_name": "LayoutModel",
            "_view_count": null,
            "_view_module": "@jupyter-widgets/base",
            "_view_module_version": "1.2.0",
            "_view_name": "LayoutView",
            "align_content": null,
            "align_items": null,
            "align_self": null,
            "border": null,
            "bottom": null,
            "display": null,
            "flex": null,
            "flex_flow": null,
            "grid_area": null,
            "grid_auto_columns": null,
            "grid_auto_flow": null,
            "grid_auto_rows": null,
            "grid_column": null,
            "grid_gap": null,
            "grid_row": null,
            "grid_template_areas": null,
            "grid_template_columns": null,
            "grid_template_rows": null,
            "height": null,
            "justify_content": null,
            "justify_items": null,
            "left": null,
            "margin": null,
            "max_height": null,
            "max_width": null,
            "min_height": null,
            "min_width": null,
            "object_fit": null,
            "object_position": null,
            "order": null,
            "overflow": null,
            "overflow_x": null,
            "overflow_y": null,
            "padding": null,
            "right": null,
            "top": null,
            "visibility": null,
            "width": null
          }
        },
        "ff2ed805244e4ec8a981c68c032f13b3": {
          "model_module": "@jupyter-widgets/controls",
          "model_name": "DescriptionStyleModel",
          "model_module_version": "1.5.0",
          "state": {
            "_model_module": "@jupyter-widgets/controls",
            "_model_module_version": "1.5.0",
            "_model_name": "DescriptionStyleModel",
            "_view_count": null,
            "_view_module": "@jupyter-widgets/base",
            "_view_module_version": "1.2.0",
            "_view_name": "StyleView",
            "description_width": ""
          }
        }
      }
    }
  },
  "cells": [
    {
      "cell_type": "markdown",
      "metadata": {
        "id": "view-in-github",
        "colab_type": "text"
      },
      "source": [
        "<a href=\"https://colab.research.google.com/github/rdemarqui/Data-Science-Basico/blob/master/Whisper_Fine_tunning_Portuguese.ipynb\" target=\"_parent\"><img src=\"https://colab.research.google.com/assets/colab-badge.svg\" alt=\"Open In Colab\"/></a>"
      ]
    },
    {
      "cell_type": "markdown",
      "source": [
        "# Whisper Fine-tunning"
      ],
      "metadata": {
        "id": "ak_soLhDzSsY"
      }
    },
    {
      "cell_type": "code",
      "source": [
        "# To do\n",
        "# Dataset\n",
        "  # ( ) Evaluate before training\n",
        "  # ( ) Download streaming mode dataset\n",
        "  # ( ) Merge more than one dataset\n",
        "  # (x) Transform audio into Mel Spectogram\n",
        "  # ( ) Data Augmentation\n",
        "  # ( ) Normalize text\n",
        "  # ( ) Drop audio > 30s\n",
        "  # ( ) Drop large embedding\n",
        "# Train\n",
        "  # ( ) Save checkpoints\n",
        "# Evaluate\n",
        "  # ( ) Evaluate after training (WER)\n",
        "  # ( ) Compare with leaderboard: https://huggingface.co/spaces/whisper-event/winners?dataset=mozilla-foundation%2Fcommon_voice_11_0\n",
        "# ( ) Save final model on Huggin Face\n",
        "# (?) Create a App"
      ],
      "metadata": {
        "id": "C3szDKaSre2g"
      },
      "execution_count": null,
      "outputs": []
    },
    {
      "cell_type": "code",
      "execution_count": 3,
      "metadata": {
        "colab": {
          "base_uri": "https://localhost:8080/",
          "height": 36
        },
        "id": "zaFqugN1y8R8",
        "outputId": "df0ee6df-6d2a-4f25-adb9-5801db02d610"
      },
      "outputs": [
        {
          "output_type": "execute_result",
          "data": {
            "text/plain": [
              "'cpu'"
            ],
            "application/vnd.google.colaboratory.intrinsic+json": {
              "type": "string"
            }
          },
          "metadata": {},
          "execution_count": 3
        }
      ],
      "source": [
        "# Check Environment\n",
        "device = !nvidia-smi -L\n",
        "device = \"cuda\" if device[0][:3] == 'GPU' else \"cpu\"\n",
        "device"
      ]
    },
    {
      "cell_type": "code",
      "source": [
        "# Linking the notebook to the Hugging Face Hub\n",
        "!pip install huggingface_hub -q\n",
        "from huggingface_hub import notebook_login\n",
        "notebook_login()"
      ],
      "metadata": {
        "colab": {
          "base_uri": "https://localhost:8080/",
          "height": 113,
          "referenced_widgets": [
            "fe416062eec547dcae520a482509960a",
            "dd2d4147728744079118d22c900a8ef9",
            "2c3cf991640044afb5a679d3f64cafe9",
            "1152745fa15c4e8ea8da70e13e1361bd",
            "ff91a9f47f7a4f53b48df6dbedec66ca",
            "317d6137eedc44979e8c5db9573311bb",
            "965473703dac4976a4f43efbaec7e649",
            "0c722d3a62e64f47aa598d51cd9423f2",
            "90d75ff6be874a3787da1a00774c4eb0",
            "131093d8ed0f4d7391c53a18c175dc1b",
            "2d9ceff174c9457b893680eea4608be0",
            "e0f26f7ea4eb447683751273b3191469",
            "150c2670b69b4852b21f27dbbc6c60a7",
            "a2678e85a6664608b42aee9e74054db5",
            "173a1b616ef04860b93d39f890a7fc35",
            "395dc4f900c74b0489cacd262309bfd3",
            "f512dc36b78e4a46a469189331ac9afb",
            "83df2ec45de54ea59cf000ad147dcfbb",
            "d66714cdbfc24806be45813c1acea8e1",
            "27a69fafe3fd4d64a529dbf8fa2ea5a7",
            "a7311211e45f4dde92cc19c0301ee18e",
            "178ebf9e698c4c08805f025d6afd7c54",
            "45f0da66c9924c19bb3cf91432072583",
            "5603564e23d547608953808d35ec0162",
            "899ff78ecb8d41fe9d4fc0a381cae757",
            "a95bf2fa0d274e07b9f6d9ea484e3d1b",
            "b7db2163ab714f688e5a66014d01d0b8",
            "4d598b0699c446e1a22518d3060ccd98",
            "ff2ed805244e4ec8a981c68c032f13b3"
          ]
        },
        "id": "9uqtpZ5k2FJU",
        "outputId": "637c1e38-3bb6-4347-8294-36d5bcb8187b"
      },
      "execution_count": 5,
      "outputs": [
        {
          "output_type": "display_data",
          "data": {
            "text/plain": [
              "VBox(children=(HTML(value='<center> <img\\nsrc=https://huggingface.co/front/assets/huggingface_logo-noborder.sv…"
            ],
            "application/vnd.jupyter.widget-view+json": {
              "version_major": 2,
              "version_minor": 0,
              "model_id": "fe416062eec547dcae520a482509960a"
            }
          },
          "metadata": {}
        }
      ]
    },
    {
      "cell_type": "markdown",
      "source": [
        "## Datasets"
      ],
      "metadata": {
        "id": "DG5AQpjk0Nvo"
      }
    },
    {
      "cell_type": "code",
      "source": [
        "!pip install datasets -q\n",
        "from datasets import load_dataset, DatasetDict"
      ],
      "metadata": {
        "id": "-5Q8QHYm1wiU"
      },
      "execution_count": null,
      "outputs": []
    },
    {
      "cell_type": "markdown",
      "source": [
        "### Test Dataset"
      ],
      "metadata": {
        "id": "oCfUqVHCIswJ"
      }
    },
    {
      "cell_type": "code",
      "source": [
        "# Download test dataset\n",
        "common_voice = DatasetDict()\n",
        "common_voice[\"test\"] = load_dataset(\"mozilla-foundation/common_voice_13_0\", \"pt\", split=\"test\")\n",
        "common_voice = common_voice.remove_columns([\"accent\", \"age\", \"client_id\", \"down_votes\", \"gender\", \"locale\", \"path\", \"segment\", \"up_votes\"])\n",
        "print(common_voice)"
      ],
      "metadata": {
        "colab": {
          "base_uri": "https://localhost:8080/"
        },
        "id": "nhLDKr7o18O7",
        "outputId": "15d593b1-e4df-4b34-efd7-4ce517bee254"
      },
      "execution_count": 23,
      "outputs": [
        {
          "output_type": "stream",
          "name": "stdout",
          "text": [
            "DatasetDict({\n",
            "    test: Dataset({\n",
            "        features: ['audio', 'sentence', 'variant'],\n",
            "        num_rows: 9072\n",
            "    })\n",
            "})\n"
          ]
        }
      ]
    },
    {
      "cell_type": "code",
      "source": [
        "!pip install ipython -q\n",
        "from IPython.display import Audio"
      ],
      "metadata": {
        "id": "zjNGNTw9E4Ft"
      },
      "execution_count": null,
      "outputs": []
    },
    {
      "cell_type": "code",
      "source": [
        "# Play audio\n",
        "audio_path = common_voice[\"test\"][90]['audio']['path']\n",
        "\n",
        "print(common_voice[\"test\"][90]['sentence'], '\\n')\n",
        "Audio(audio_path)"
      ],
      "metadata": {
        "colab": {
          "base_uri": "https://localhost:8080/",
          "height": 111
        },
        "id": "d8zsL4vbIXT_",
        "outputId": "f711a82a-685c-4f89-e112-2e908aa84eb5"
      },
      "execution_count": 26,
      "outputs": [
        {
          "output_type": "stream",
          "name": "stdout",
          "text": [
            "Se você quer ser uma batata, coloque-a em primeiro plano. \n",
            "\n"
          ]
        },
        {
          "output_type": "execute_result",
          "data": {
            "text/plain": [
              "<IPython.lib.display.Audio object>"
            ],
            "text/html": [
              "\n",
              "                <audio  controls=\"controls\" >\n",
              "                    <source src=\"data:audio/mpeg;base64,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\" type=\"audio/mpeg\" />\n",
              "                    Your browser does not support the audio element.\n",
              "                </audio>\n",
              "              "
            ]
          },
          "metadata": {},
          "execution_count": 26
        }
      ]
    },
    {
      "cell_type": "markdown",
      "source": [
        "#### Mel Spectogram"
      ],
      "metadata": {
        "id": "vAEEWfUUK7zK"
      }
    },
    {
      "cell_type": "code",
      "source": [
        "import librosa\n",
        "import librosa.display\n",
        "import matplotlib.pyplot as plt"
      ],
      "metadata": {
        "id": "xuTM0BE5LDPg"
      },
      "execution_count": 43,
      "outputs": []
    },
    {
      "cell_type": "code",
      "source": [
        "# Load audiofiles with librosa\n",
        "audio, sampling_rate = librosa.load(audio_path)"
      ],
      "metadata": {
        "id": "iePfmwwvIebv"
      },
      "execution_count": 51,
      "outputs": []
    },
    {
      "cell_type": "code",
      "source": [
        "# Get mel filter banks\n",
        "filter_banks = librosa.filters.mel(n_fft=2048, sr=22050, n_mels=10)\n",
        "filter_banks.shape"
      ],
      "metadata": {
        "colab": {
          "base_uri": "https://localhost:8080/"
        },
        "id": "ysICnI7bLfBQ",
        "outputId": "40609528-3358-46da-a378-fcb10c1ffd8e"
      },
      "execution_count": 32,
      "outputs": [
        {
          "output_type": "execute_result",
          "data": {
            "text/plain": [
              "(10, 1025)"
            ]
          },
          "metadata": {},
          "execution_count": 32
        }
      ]
    },
    {
      "cell_type": "code",
      "source": [
        "# Visualize mel filter banks\n",
        "plt.figure(figsize=(8,4))\n",
        "librosa.display.specshow(filter_banks,\n",
        "                         sr=sampling_rate,\n",
        "                         x_axis='linear')\n",
        "plt.colorbar(format=\"%+2.f\")\n",
        "plt.title(\"Filter Banks\")\n",
        "plt.show()"
      ],
      "metadata": {
        "colab": {
          "base_uri": "https://localhost:8080/",
          "height": 410
        },
        "id": "_eDw7Gn5LfFb",
        "outputId": "6048cbe3-9900-40d7-adf0-29a900e6066e"
      },
      "execution_count": 52,
      "outputs": [
        {
          "output_type": "display_data",
          "data": {
            "text/plain": [
              "<Figure size 800x400 with 2 Axes>"
            ],
            "image/png": "[encoded data removed]"
          },
          "metadata": {}
        }
      ]
    },
    {
      "cell_type": "code",
      "source": [
        "# Get mel spectogram from file\n",
        "mel_spectrogram = librosa.feature.melspectrogram(y=audio, sr=sampling_rate,\n",
        "                                                 n_fft=2048, hop_length=512,\n",
        "                                                 n_mels=10)\n",
        "\n",
        "mel_spectrogram.shape"
      ],
      "metadata": {
        "colab": {
          "base_uri": "https://localhost:8080/"
        },
        "id": "YGv3JfXZLfIq",
        "outputId": "09bf2303-a764-4f80-8692-066c2ee8250e"
      },
      "execution_count": 54,
      "outputs": [
        {
          "output_type": "execute_result",
          "data": {
            "text/plain": [
              "(10, 202)"
            ]
          },
          "metadata": {},
          "execution_count": 54
        }
      ]
    },
    {
      "cell_type": "code",
      "source": [
        "log_mel_spectogram = librosa.power_to_db(mel_spectrogram)\n",
        "\n",
        "plt.figure(figsize=(8,4))\n",
        "librosa.display.specshow(log_mel_spectogram,\n",
        "                         x_axis='time',\n",
        "                         y_axis='mel',\n",
        "                         sr=sampling_rate)\n",
        "plt.colorbar(format=\"%+2.f\")\n",
        "plt.title(\"Log-Mel Spectogram\")\n",
        "plt.show()"
      ],
      "metadata": {
        "colab": {
          "base_uri": "https://localhost:8080/",
          "height": 410
        },
        "id": "4CB1hPttLfOf",
        "outputId": "3040b90b-e124-4a8d-d406-1e681f3c0b9f"
      },
      "execution_count": 55,
      "outputs": [
        {
          "output_type": "display_data",
          "data": {
            "text/plain": [
              "<Figure size 800x400 with 2 Axes>"
            ],
            "image/png": "[encoded data removed]"
          },
          "metadata": {}
        }
      ]
    },
    {
      "cell_type": "markdown",
      "source": [
        "## Load Model"
      ],
      "metadata": {
        "id": "pHaMDmDNGEcn"
      }
    },
    {
      "cell_type": "code",
      "source": [
        "! pip install transformers"
      ],
      "metadata": {
        "id": "kt77mnbeGSge"
      },
      "execution_count": null,
      "outputs": []
    },
    {
      "cell_type": "code",
      "source": [],
      "metadata": {
        "id": "cTgsg5u71vrK"
      },
      "execution_count": null,
      "outputs": []
    }
  ]
}